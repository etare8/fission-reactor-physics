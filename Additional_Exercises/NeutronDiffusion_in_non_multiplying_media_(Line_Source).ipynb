{
  "nbformat": 4,
  "nbformat_minor": 0,
  "metadata": {
    "colab": {
      "name": "NeutronDiffusion_in_non_multiplying_media_(Line_Source).ipynb",
      "provenance": [],
      "collapsed_sections": []
    },
    "kernelspec": {
      "name": "python3",
      "display_name": "Python 3"
    },
    "language_info": {
      "name": "python"
    }
  },
  "cells": [
    {
      "cell_type": "markdown",
      "source": [
        "#Line Source in Infinite Medium\n",
        "\n",
        "Consider a linear isotropic point source emitting $S_0$ $[\\frac{neutrons}{cm^{2} sec}]$. The Source is also in this case considered isotropic such that the Neutron Flux does not depend on the angle. The Laplacian $\\nabla^{2}$ becomes:\n",
        "\n",
        "\\begin{equation}\n",
        "  \\nabla^{2} = \\frac{1}{r}\\frac{d}{dr}(r\\frac{d}{dr})\n",
        "             = \\frac{d^{2}}{d^{2}r} + \\frac{1}{r}\\frac{d}{dr}\n",
        "\\end{equation}\n",
        "\n",
        "The Source is normalized with a factor $2 \\pi r$:\n",
        "\n",
        "\\begin{equation}\n",
        "  S(r) = \\frac{S_0}{2 \\pi r} \\delta(r)\n",
        "\\end{equation}\n",
        "\n",
        "We can write the *COMPLETE EQUATION* like reported below:\n",
        "\n",
        "\\begin{equation}\n",
        "  [\\frac{d^{2}}{d^{2}r} + \\frac{1}{r}\\frac{d}{dr}] \\; \\phi(r) \n",
        "  - \\frac{1}{L^{2}}\\phi(r) = -\\frac{S(r)}{D} = - \\frac{S_0}{2 \\pi r D} \\delta(r)\n",
        "\\end{equation}\n",
        "\n",
        "*HOMOGENEOUS EQUATION:*\n",
        "\n",
        "\\begin{equation}\n",
        "  [\\frac{d^{2}}{d^{2}r} + \\frac{1}{r}\\frac{d}{dr}] \\; \\phi(r) \n",
        "  - \\frac{1}{L^{2}}\\phi(r) = 0\n",
        "\\end{equation}\n",
        "\n",
        "*BOUNDARY CONDITIONS*\n",
        "\n",
        "\\begin{aligned}\n",
        "  &(a)\\;\\;\\; \\lim_{r \\rightarrow \\infty} \\phi(r) < \\infty \\\\\n",
        "  &(b)\\;\\;\\; \\lim_{r \\rightarrow 0} 2 \\pi r \\; J(r) \n",
        "                = \\lim_{r \\rightarrow 0} -2 \\pi r D \\;\\frac{d\\phi(r)}{dr} = S_0\n",
        "\\end{aligned}\n",
        "\n",
        "Applying a variable change in the above equation:\n",
        "\n",
        "\\begin{aligned}\n",
        "  &\\ u = \\frac{r}{L}  \\;\\;\\;\\;\\;\\;\\;\\;\\;\\; ;\n",
        "  &\\ dr = L\\; du \n",
        "\\end{aligned}\n",
        "\n",
        "The *NEW HOMOGENEOUS EQUATION* becomes:\n",
        "\n",
        "\\begin{equation}\n",
        "  \\frac{d^{2}\\phi(u)}{d^{2}u} + \\frac{1}{u}\\frac{d}{du} \\; \\phi(u) - \\phi(r) = 0\n",
        "\\end{equation}\n",
        "\n",
        "We can easily recognize a special shape in this equation, a particular differential equation known as **Modified Bessel Equation of order n** (in our case *n=0*):\n",
        "\n",
        "\\begin{equation}\n",
        "  \\frac{d^{2}\\phi(x)}{d^{2}x} + \\frac{1}{x}\\frac{d}{dx} \\; \\phi(x)\n",
        "   - (1 + \\frac{n^{2}}{x^{2}}) \\; \\phi(x) = 0\n",
        "\\end{equation}\n",
        "\n",
        "where *n* is an integer value that denotes the order of the Bessel function. The solution to this equation can be written as a summation of linearly dependent Bessel Functions as follow:\n",
        "\n",
        "\\begin{equation}\n",
        "  \\phi(u) = C_1\\;K_n(u) + C_2\\;I_n(u)\n",
        "\\end{equation}\n",
        "\n",
        "In the case of *n=0*:\n",
        "\n",
        "\\begin{equation}\n",
        "  \\phi(u) = C_1\\;K_0(u) + C_2\\;I_0(u) \\\\\n",
        "  \\\\\n",
        "  K_0 = Modified\\;Bessel\\;Function\\;of\\;Second\\;Kind \\\\\n",
        "  I_0 = Modified\\;Bessel\\;Function\\;of\\;First\\;Kind \\\\\n",
        "\\end{equation}\n",
        "\n",
        "#Bessel Functions\n",
        "\n",
        "**Bessel Functions:**\n",
        "\n",
        "\\begin{equation}\n",
        "  J_n = Bessel\\;Function\\;of\\;First\\;Kind \\\\\n",
        "  Y_n = Bessel\\;Function\\;of\\;Second\\;Kind \\\\\n",
        "\\end{equation}\n",
        "\n",
        "\\begin{aligned}\n",
        "  &\\\\\n",
        "  &\\\\\n",
        "  &\\; J_n(x) = \\sum_{K=0}^{\\infty} \\frac{(-1)^{k}}{\\Gamma(k+1)\\Gamma(k+n+1)}\n",
        "         (\\frac{x}{2})^{n+2k} \\\\\n",
        "  &\\\\       \n",
        "  &\\; Y_n(x) = \\frac{J_n(x) cos(n\\pi) - J_-n(x)}{sin(n\\pi)}\n",
        "  &\\\\\n",
        "  &\\\\\n",
        "\\end{aligned}\n",
        "\n",
        "\n",
        "**Modified Bessel Functions:**\n",
        "\n",
        "\\begin{equation}\n",
        "  I_n = Modified\\;Bessel\\;Function\\;of\\;First\\;Kind \\\\\n",
        "  K_n = Modified\\;Bessel\\;Function\\;of\\;Second\\;Kind \\\\\n",
        "  H_n = Hankel\\;Functions\n",
        "\\end{equation}\n",
        "\n",
        "\\begin{aligned}\n",
        "  &\\\\\n",
        "  &\\\\\n",
        "  &\\; I_n(x) = i^{-n}\\;J_n(ix) = i^{n}\\;J_n(-ix) \\\\\n",
        "  &\\\\       \n",
        "  &\\; K_n(x) = \\frac{\\pi}{2}\\; i^{n+1}\\; H_n^{(1)}(ix)\n",
        "             = \\frac{\\pi}{2}\\; i^{-n-1}\\; H_n^{(2)}(-ix) \\\\\n",
        "  &\\\\\n",
        "  &\\; H_n^{(1)}(x) = J_n(x) + i\\;Y_n(x) \\\\\n",
        "  &\\\\\n",
        "  &\\; H_n^{(2)}(x) = J_n(x) - i\\;Y_n(x)\\\\\n",
        "\\end{aligned}"
      ],
      "metadata": {
        "id": "bjIJPNPDo6Oa"
      }
    },
    {
      "cell_type": "code",
      "source": [
        "import numpy as np\n",
        "import sympy as sp\n",
        "import matplotlib.pyplot as plt\n",
        "\n",
        "#variables and functions\n",
        "\n",
        "r, u = sp.symbols(\"r, u\")\n",
        "\n",
        "C1, C2 = sp.symbols(\"C1, C2\")\n",
        "\n",
        "D, L, Sigma_a, So = sp.symbols(\"D, L, Sigma_a, S_0\")\n",
        "\n",
        "Phi, S = sp.symbols(\"Phi, S\", cls=sp.Function)"
      ],
      "metadata": {
        "id": "LUueLSOF06hb"
      },
      "execution_count": 13,
      "outputs": []
    },
    {
      "cell_type": "code",
      "source": [
        "#Source in Cylindrical coordinates\n",
        "Source = sp.Eq(S(r), (So/(2*sp.pi*r))*sp.DiracDelta(r))\n",
        "print(\"Source in Cylindrical Coordinates:\\n\")\n",
        "Source"
      ],
      "metadata": {
        "colab": {
          "base_uri": "https://localhost:8080/",
          "height": 87
        },
        "id": "SkmK3dmP1raG",
        "outputId": "f374ddeb-dbbb-48b4-e0b3-274721c50476"
      },
      "execution_count": 14,
      "outputs": [
        {
          "output_type": "stream",
          "name": "stdout",
          "text": [
            "Source in Cylindrical Coordinates:\n",
            "\n"
          ]
        },
        {
          "output_type": "execute_result",
          "data": {
            "text/plain": [
              "Eq(S(r), S_0*DiracDelta(r)/(2*pi*r))"
            ],
            "text/latex": "$\\displaystyle S{\\left(r \\right)} = \\frac{S_{0} \\delta\\left(r\\right)}{2 \\pi r}$"
          },
          "metadata": {},
          "execution_count": 14
        }
      ]
    },
    {
      "cell_type": "code",
      "source": [
        "#Complete starting Equation\n",
        "Equation_r = sp.Eq(Phi(r).diff(r,2) + (1/r)*Phi(r).diff(r) - (1/(L**2))*Phi(r) , -Source.rhs/D)\n",
        "print(\"Complete starting Equation:\\n\")\n",
        "Equation_r"
      ],
      "metadata": {
        "colab": {
          "base_uri": "https://localhost:8080/",
          "height": 90
        },
        "id": "jOr4_b722S3t",
        "outputId": "52ea7875-6983-482a-e969-23cca81906c9"
      },
      "execution_count": 15,
      "outputs": [
        {
          "output_type": "stream",
          "name": "stdout",
          "text": [
            "Complete starting Equation:\n",
            "\n"
          ]
        },
        {
          "output_type": "execute_result",
          "data": {
            "text/plain": [
              "Eq(Derivative(Phi(r), (r, 2)) + Derivative(Phi(r), r)/r - Phi(r)/L**2, -S_0*DiracDelta(r)/(2*pi*D*r))"
            ],
            "text/latex": "$\\displaystyle \\frac{d^{2}}{d r^{2}} \\Phi{\\left(r \\right)} + \\frac{\\frac{d}{d r} \\Phi{\\left(r \\right)}}{r} - \\frac{\\Phi{\\left(r \\right)}}{L^{2}} = - \\frac{S_{0} \\delta\\left(r\\right)}{2 \\pi D r}$"
          },
          "metadata": {},
          "execution_count": 15
        }
      ]
    },
    {
      "cell_type": "code",
      "source": [
        "#Equation in u variable\n",
        "Equation_u = sp.Eq(Phi(u).diff(u,2) + (1/u)*Phi(u).diff(u) - Phi(u) , -Source.rhs.subs({r:L*u})/D)\n",
        "print(\"Complete starting Equation in u:\\n\")\n",
        "Equation_u"
      ],
      "metadata": {
        "colab": {
          "base_uri": "https://localhost:8080/",
          "height": 90
        },
        "id": "0Qify0Tw3CvL",
        "outputId": "1a7f5c1a-857b-4a02-e891-ed03472ff780"
      },
      "execution_count": 16,
      "outputs": [
        {
          "output_type": "stream",
          "name": "stdout",
          "text": [
            "Complete starting Equation in u:\n",
            "\n"
          ]
        },
        {
          "output_type": "execute_result",
          "data": {
            "text/plain": [
              "Eq(-Phi(u) + Derivative(Phi(u), (u, 2)) + Derivative(Phi(u), u)/u, -S_0*DiracDelta(L*u)/(2*pi*D*L*u))"
            ],
            "text/latex": "$\\displaystyle - \\Phi{\\left(u \\right)} + \\frac{d^{2}}{d u^{2}} \\Phi{\\left(u \\right)} + \\frac{\\frac{d}{d u} \\Phi{\\left(u \\right)}}{u} = - \\frac{S_{0} \\delta\\left(L u\\right)}{2 \\pi D L u}$"
          },
          "metadata": {},
          "execution_count": 16
        }
      ]
    },
    {
      "cell_type": "code",
      "source": [
        "#Homogeneous in u variable\n",
        "Equation_u_Homo = sp.Eq(Phi(u).diff(u,2) + (1/u)*Phi(u).diff(u) - Phi(u) , 0)\n",
        "print(\"Homogeneous Equation in u:\\n\")\n",
        "Equation_u_Homo"
      ],
      "metadata": {
        "colab": {
          "base_uri": "https://localhost:8080/",
          "height": 90
        },
        "id": "boYKBA6-44pV",
        "outputId": "1b1cd682-c239-4771-aedf-d0194a08d448"
      },
      "execution_count": 17,
      "outputs": [
        {
          "output_type": "stream",
          "name": "stdout",
          "text": [
            "Homogeneous Equation in u:\n",
            "\n"
          ]
        },
        {
          "output_type": "execute_result",
          "data": {
            "text/plain": [
              "Eq(-Phi(u) + Derivative(Phi(u), (u, 2)) + Derivative(Phi(u), u)/u, 0)"
            ],
            "text/latex": "$\\displaystyle - \\Phi{\\left(u \\right)} + \\frac{d^{2}}{d u^{2}} \\Phi{\\left(u \\right)} + \\frac{\\frac{d}{d u} \\Phi{\\left(u \\right)}}{u} = 0$"
          },
          "metadata": {},
          "execution_count": 17
        }
      ]
    },
    {
      "cell_type": "code",
      "source": [
        "#Solution of the Homogeneous Equation in u                                      #So SymPy is able to recognize the modified Bessel function and to give the solution in terms of combination of\n",
        "Solution_Equation_Homo_u = sp.dsolve(Equation_u_Homo,Phi(u))                    #modified Bessel functions of first order (I) and standard Bessel function of second (Y) order.\n",
        "print(\"Homogeneous Equation Solution:\\n\")\n",
        "Solution_Equation_Homo_u\n"
      ],
      "metadata": {
        "colab": {
          "base_uri": "https://localhost:8080/",
          "height": 74
        },
        "id": "vALIXVKC5MRi",
        "outputId": "32a410f8-05f4-445b-cfc0-c71b98b821f4"
      },
      "execution_count": 18,
      "outputs": [
        {
          "output_type": "stream",
          "name": "stdout",
          "text": [
            "Homogeneous Equation Solution:\n",
            "\n"
          ]
        },
        {
          "output_type": "execute_result",
          "data": {
            "text/plain": [
              "Eq(Phi(u), C1*besseli(0, u) + C2*bessely(0, I*u))"
            ],
            "text/latex": "$\\displaystyle \\Phi{\\left(u \\right)} = C_{1} I_{0}\\left(u\\right) + C_{2} Y_{0}\\left(i u\\right)$"
          },
          "metadata": {},
          "execution_count": 18
        }
      ]
    },
    {
      "cell_type": "code",
      "source": [
        "#Plotting Bessel Functions\n",
        "from sympy.plotting import plot\n",
        "\n",
        "I0 = plot(sp.besseli(0,u),(u,0,10),label=\"I0\",title=\"Modified Bessel Function I0\")\n",
        "Y0 = plot(sp.bessely(0,u),(u,0,10),label=\"Y0\",title=\"Bessel Function Y0\")\n"
      ],
      "metadata": {
        "colab": {
          "base_uri": "https://localhost:8080/",
          "height": 612
        },
        "id": "1fUzDd3lBRHK",
        "outputId": "c1025ecd-5b77-463c-9c3e-bf198480a7b3"
      },
      "execution_count": 33,
      "outputs": [
        {
          "output_type": "display_data",
          "data": {
            "text/plain": [
              "<Figure size 432x288 with 1 Axes>"
            ],
            "image/png": "[encoded data removed]"
          },
          "metadata": {
            "needs_background": "light"
          }
        },
        {
          "output_type": "stream",
          "name": "stderr",
          "text": [
            "/usr/local/lib/python3.7/dist-packages/sympy/plotting/plot.py:1486: RuntimeWarning: invalid value encountered in double_scalars\n",
            "  cos_theta = dot_product / (vector_a_norm * vector_b_norm)\n"
          ]
        },
        {
          "output_type": "display_data",
          "data": {
            "text/plain": [
              "<Figure size 432x288 with 1 Axes>"
            ],
            "image/png": "[encoded data removed]"
          },
          "metadata": {
            "needs_background": "light"
          }
        }
      ]
    },
    {
      "cell_type": "code",
      "source": [
        "#Imposing BC1/ the flux is bounded\n",
        "Solution_u_BC1 = Solution_Equation_Homo_u.subs({C1:0})\n",
        "print(\"Solution after imposing BC1:\\n\")\n",
        "Solution_u_BC1"
      ],
      "metadata": {
        "colab": {
          "base_uri": "https://localhost:8080/",
          "height": 74
        },
        "id": "FZjKjx4hD0v0",
        "outputId": "f847d023-e865-4886-97be-15d4468c57c4"
      },
      "execution_count": 20,
      "outputs": [
        {
          "output_type": "stream",
          "name": "stdout",
          "text": [
            "Solution after imposing BC1:\n",
            "\n"
          ]
        },
        {
          "output_type": "execute_result",
          "data": {
            "text/plain": [
              "Eq(Phi(u), C2*bessely(0, I*u))"
            ],
            "text/latex": "$\\displaystyle \\Phi{\\left(u \\right)} = C_{2} Y_{0}\\left(i u\\right)$"
          },
          "metadata": {},
          "execution_count": 20
        }
      ]
    },
    {
      "cell_type": "code",
      "source": [
        "#Imposing BC2/ the limit of the current\n",
        "\n",
        "Current = Solution_u_BC1.rhs.subs(sp.bessely(0,sp.S.ImaginaryUnit*u),sp.besselk(0,u))       \n",
        "\n",
        "argument = -D * 2 * sp.pi * L * u * Current.diff(u)\n",
        "\n",
        "Limit_Equation = sp.Eq(sp.limit(argument,u,0),So)\n",
        "\n",
        "print(\"Limit Equation:\\n\")\n",
        "Limit_Equation"
      ],
      "metadata": {
        "colab": {
          "base_uri": "https://localhost:8080/",
          "height": 80
        },
        "id": "sWWM7CUTJZb0",
        "outputId": "bc2fcc0c-705e-4ac3-ade2-7bad2b846ec4"
      },
      "execution_count": 31,
      "outputs": [
        {
          "output_type": "stream",
          "name": "stdout",
          "text": [
            "Limit Equation:\n",
            "\n"
          ]
        },
        {
          "output_type": "execute_result",
          "data": {
            "text/plain": [
              "Eq(Limit(2*pi*C2*D*L*u*besselk(1, u), u, 0), S_0)"
            ],
            "text/latex": "$\\displaystyle \\lim_{u \\to 0^+}\\left(2 \\pi C_{2} D L u K_{1}\\left(u\\right)\\right) = S_{0}$"
          },
          "metadata": {},
          "execution_count": 31
        }
      ]
    },
    {
      "cell_type": "code",
      "source": [
        "#Manual limit\n",
        "Limit_Equation_small_u = Limit_Equation.subs({sp.besselk(1,u):1/u})             \n",
        "\n",
        "Limit_Equation_small_u_Solution = sp.solve(Limit_Equation_small_u.doit(), C2)[0]\n",
        "\n",
        "print(\"Solution for C2:\\n\")\n",
        "sp.Eq(C2, Limit_Equation_small_u_Solution)"
      ],
      "metadata": {
        "colab": {
          "base_uri": "https://localhost:8080/",
          "height": 86
        },
        "id": "dHyNKJL2S8Y8",
        "outputId": "fae50bc1-9eff-4ba0-d311-78f0869bcc03"
      },
      "execution_count": 32,
      "outputs": [
        {
          "output_type": "stream",
          "name": "stdout",
          "text": [
            "Solution for C2:\n",
            "\n"
          ]
        },
        {
          "output_type": "execute_result",
          "data": {
            "text/plain": [
              "Eq(C2, S_0/(2*pi*D*L))"
            ],
            "text/latex": "$\\displaystyle C_{2} = \\frac{S_{0}}{2 \\pi D L}$"
          },
          "metadata": {},
          "execution_count": 32
        }
      ]
    },
    {
      "cell_type": "code",
      "source": [
        "#Substitution in the Equation\n",
        "Solution_Final = Solution_u_BC1.subs(C2,Limit_Equation_small_u_Solution)\n",
        "Solution_Final = Solution_Final.subs(sp.bessely(0,sp.S.ImaginaryUnit*u),sp.besselk(0,u))\n",
        "\n",
        "print(\"Complete Solution:\\n\")\n",
        "Solution_Final                                                                  #Why we perform this change with Bessel Functions?????????????????"
      ],
      "metadata": {
        "colab": {
          "base_uri": "https://localhost:8080/",
          "height": 87
        },
        "id": "EjNtWlncT5lW",
        "outputId": "176e1fa8-8eed-4437-8166-2cc7fba9f2e2"
      },
      "execution_count": 23,
      "outputs": [
        {
          "output_type": "stream",
          "name": "stdout",
          "text": [
            "Complete Solution:\n",
            "\n"
          ]
        },
        {
          "output_type": "execute_result",
          "data": {
            "text/plain": [
              "Eq(Phi(u), S_0*besselk(0, u)/(2*pi*D*L))"
            ],
            "text/latex": "$\\displaystyle \\Phi{\\left(u \\right)} = \\frac{S_{0} K_{0}\\left(u\\right)}{2 \\pi D L}$"
          },
          "metadata": {},
          "execution_count": 23
        }
      ]
    },
    {
      "cell_type": "code",
      "source": [
        "#Plotting\n",
        "Sigma_t = 0.25\n",
        "Sigma_s = 0.15\n",
        "\n",
        "Sigma_a_val = Sigma_t - Sigma_s\n",
        "So_val = 10**4\n",
        "D_val = 1/(3*Sigma_t)\n",
        "L_val = sp.sqrt(D_val/Sigma_a_val).evalf()\n",
        "\n",
        "Solution_Final = Solution_Final.subs({u:r/L})\n",
        "Solution_Final_evaluated = Solution_Final.subs({Sigma_a:Sigma_a_val, So:So_val, D:D_val, L:L_val}).evalf()\n",
        "\n",
        "tendency = plot(Solution_Final_evaluated.rhs,(r,0.01,1),title=\"Neutronic Flux\",ylabel=\"Phi(r)\",xlabel=\"Distance [cm]\")"
      ],
      "metadata": {
        "id": "LM8I_INvUuUm",
        "colab": {
          "base_uri": "https://localhost:8080/",
          "height": 297
        },
        "outputId": "b2d3f418-1464-4e6b-f2ab-5419d9cb5fbe"
      },
      "execution_count": 24,
      "outputs": [
        {
          "output_type": "display_data",
          "data": {
            "text/plain": [
              "<Figure size 432x288 with 1 Axes>"
            ],
            "image/png": "[encoded data removed]"
          },
          "metadata": {
            "needs_background": "light"
          }
        }
      ]
    }
  ]
}