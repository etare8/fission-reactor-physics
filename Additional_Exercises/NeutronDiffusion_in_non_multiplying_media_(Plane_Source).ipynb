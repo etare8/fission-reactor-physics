{
  "cells": [
    {
      "cell_type": "markdown",
      "metadata": {
        "id": "3xRFWLowbTwX"
      },
      "source": [
        "# Plane Source in an Infinite Medium\n",
        "\n",
        "We are considering a plane symmetry where the source is concentrated in the plane 𝑋=0:\n",
        "\n",
        "\n",
        "\\begin{equation}\n",
        "  \\frac{\\partial^2\\phi(x)}{\\partial x^2}-\\frac{\\phi(x)}{L^2} = - \\frac{S_0(x)} {D}δ(x)\n",
        "\\end{equation}\n",
        "\n",
        "\n",
        "If we restrict our equation in the locations 𝑋>,< 0, the source is Zero:\n",
        "\n",
        "\n",
        "\\begin{equation}\n",
        "  \\frac{\\partial^2\\phi(x)}{\\partial x^2}-\\frac{\\phi(x)}{L^2} = 0\n",
        "\\end{equation}\n",
        "\n",
        "\n",
        "We can solve the homogeneous equation than fix it adding the Boundary Condition at the origin:\n",
        "\n",
        "\n",
        "\\begin{align}\n",
        "  \\lim_{x\\to 0+}-D\\frac{\\partial\\phi}{\\partial x}=\\frac{S_0}{2} \\\\\n",
        "  \\lim_{x\\to 0+}\\phi(x)<\\infty\n",
        "\\end{align}\n",
        "\n",
        "\n",
        "*HOMOGENEOUS EQUATION SOLUTION:*\n",
        "\n",
        "\n",
        "\\begin{equation}\n",
        "  \\phi(x) = C_1\\exp(-\\frac{x}{L}) + C_2\\exp(\\frac{x}{L})\n",
        "\\end{equation}\n",
        "\n",
        "\n",
        "*BOUNDARY CONDITIONS:*\n",
        "\n",
        "\\begin{equation}\n",
        "  C_2 = 0 \\\\\n",
        "  \\lim_{x\\to 0}-D(-\\frac{A}{L}\\exp(-\\frac{x}{L}))=\\frac{AD}{L}=\\frac{S_0}{2}\n",
        "\\end{equation}\n",
        "\n",
        "\n",
        "*FINAL SOLUTION:*\n",
        "\n",
        "\\begin{equation}\n",
        "  \\phi(x) = \\frac{S_0 L}{2D}\\exp(-\\frac{|x|}{L})\n",
        "\\end{equation}"
      ]
    },
    {
      "cell_type": "code",
      "execution_count": 17,
      "metadata": {
        "id": "Zu2WAVCwggUZ"
      },
      "outputs": [],
      "source": [
        "import sympy as sp\n",
        "import numpy as np\n",
        "from sympy.solvers import dsolve\n",
        "import matplotlib.pyplot as plt\n",
        "\n",
        "\n",
        "#variables and functions\n",
        "D = sp.symbols(\"D\")\n",
        "Sigma_a = sp.Symbol(\"Sigma_a\")\n",
        "L = sp.Symbol(\"L\")\n",
        "x = sp.Symbol(\"x\")\n",
        "C1, C2 = sp.symbols(\"C1,C2\")\n",
        "\n",
        "Phi, S = sp.symbols(\"Phi, S\" ,cls=sp.Function)\n"
      ]
    },
    {
      "cell_type": "code",
      "execution_count": 18,
      "metadata": {
        "colab": {
          "base_uri": "https://localhost:8080/",
          "height": 56
        },
        "id": "djVFBy8RHQfw",
        "outputId": "18f4d09d-ade3-4687-cafa-680af98f7959"
      },
      "outputs": [
        {
          "name": "stdout",
          "output_type": "stream",
          "text": [
            "Source represented with a Delta Function: \n"
          ]
        },
        {
          "data": {
            "text/latex": [
              "$\\displaystyle S{\\left(x \\right)} = S_{o} \\delta\\left(x\\right)$"
            ],
            "text/plain": [
              "Eq(S(x), S_o*DiracDelta(x))"
            ]
          },
          "execution_count": 18,
          "metadata": {},
          "output_type": "execute_result"
        }
      ],
      "source": [
        "#Source\n",
        "So = sp.Symbol(\"S_o\")\n",
        "Source = sp.Eq(S(x),(So*sp.DiracDelta(x)))\n",
        "print(\"Source represented with a Delta Function: \")\n",
        "Source"
      ]
    },
    {
      "cell_type": "code",
      "execution_count": 19,
      "metadata": {
        "colab": {
          "base_uri": "https://localhost:8080/",
          "height": 89
        },
        "id": "ANn_-m7vHQby",
        "outputId": "eba180e4-8444-452d-fe8b-f649d10f1272"
      },
      "outputs": [
        {
          "name": "stdout",
          "output_type": "stream",
          "text": [
            "Equation: Eq(Derivative(Phi(x), (x, 2)) - Phi(x)/L**2, S_o*DiracDelta(x)/D)\n",
            "Homogeneous Equation: \n"
          ]
        },
        {
          "data": {
            "text/latex": [
              "$\\displaystyle \\frac{d^{2}}{d x^{2}} \\Phi{\\left(x \\right)} - \\frac{\\Phi{\\left(x \\right)}}{L^{2}} = 0$"
            ],
            "text/plain": [
              "Eq(Derivative(Phi(x), (x, 2)) - Phi(x)/L**2, 0)"
            ]
          },
          "execution_count": 19,
          "metadata": {},
          "output_type": "execute_result"
        }
      ],
      "source": [
        "#Equation\n",
        "Equation = sp.Eq(Phi(x).diff(x,2)-((Phi(x))/(L**2)),(Source.rhs/D))\n",
        "Equation_Homo = Equation.subs({Source.rhs:0})\n",
        "print(\"Equation: \" + str(Equation))\n",
        "print(\"Homogeneous Equation: \")\n",
        "Equation_Homo"
      ]
    },
    {
      "cell_type": "code",
      "execution_count": 20,
      "metadata": {
        "colab": {
          "base_uri": "https://localhost:8080/",
          "height": 56
        },
        "id": "F15Kp6V8HQZA",
        "outputId": "10c5c51b-8780-41a8-c164-e3a581928b90"
      },
      "outputs": [
        {
          "name": "stdout",
          "output_type": "stream",
          "text": [
            "Homogeneous Solution:  \n"
          ]
        },
        {
          "data": {
            "text/latex": [
              "$\\displaystyle \\Phi{\\left(x \\right)} = C_{1} e^{- \\frac{x}{L}} + C_{2} e^{\\frac{x}{L}}$"
            ],
            "text/plain": [
              "Eq(Phi(x), C1*exp(-x/L) + C2*exp(x/L))"
            ]
          },
          "execution_count": 20,
          "metadata": {},
          "output_type": "execute_result"
        }
      ],
      "source": [
        "#Homogeneous solution\n",
        "Solution_Homo = sp.dsolve(Equation_Homo,Phi(x))\n",
        "print(\"Homogeneous Solution:  \")\n",
        "Solution_Homo"
      ]
    },
    {
      "cell_type": "code",
      "execution_count": 21,
      "metadata": {
        "colab": {
          "base_uri": "https://localhost:8080/",
          "height": 56
        },
        "id": "rhpx4x8mHQWe",
        "outputId": "54752455-0370-4d67-b1b5-d4e2cc583ad2"
      },
      "outputs": [
        {
          "name": "stdout",
          "output_type": "stream",
          "text": [
            "Solution Homogeneous imposing C2=0:  \n"
          ]
        },
        {
          "data": {
            "text/latex": [
              "$\\displaystyle \\Phi{\\left(x \\right)} = C_{1} e^{- \\frac{x}{L}}$"
            ],
            "text/plain": [
              "Eq(Phi(x), C1*exp(-x/L))"
            ]
          },
          "execution_count": 21,
          "metadata": {},
          "output_type": "execute_result"
        }
      ],
      "source": [
        "#Boundary condition C2=0:\n",
        "Solution_Homo_BC1 = Solution_Homo.rhs.subs({C2:0})\n",
        "print(\"Solution Homogeneous imposing C2=0:  \")\n",
        "Solution_Homo.subs({C2:0})"
      ]
    },
    {
      "cell_type": "code",
      "execution_count": 22,
      "metadata": {
        "colab": {
          "base_uri": "https://localhost:8080/",
          "height": 104
        },
        "id": "E92E6G52HQOu",
        "outputId": "f29bf406-b2ef-4c77-ad8e-98b9fd71c2b3"
      },
      "outputs": [
        {
          "name": "stdout",
          "output_type": "stream",
          "text": [
            "Argument of the second BC: C1*D*exp(-x/L)/L\n",
            "Limit of the Argument: C1*D/L\n",
            "Value of C1: \n"
          ]
        },
        {
          "data": {
            "text/latex": [
              "$\\displaystyle C_{1} = \\frac{L S_{o}}{2 D}$"
            ],
            "text/plain": [
              "Eq(C1, L*S_o/(2*D))"
            ]
          },
          "execution_count": 22,
          "metadata": {},
          "output_type": "execute_result"
        }
      ],
      "source": [
        "#Boundary condition Phi<inf with x->0:\n",
        "dPhi = sp.diff(Solution_Homo_BC1,x)\n",
        "argument_condition = -D*dPhi\n",
        "print(\"Argument of the second BC: \" + str(argument_condition))\n",
        "BC2 = sp.limit(argument_condition,x,0)\n",
        "print(\"Limit of the Argument: \" + str(BC2))\n",
        "BC2_equation = sp.Eq(BC2,(So/2))\n",
        "BC2_solution = sp.solve(BC2_equation,C1)\n",
        "print(\"Value of C1: \")\n",
        "sp.Eq(C1,BC2_solution[0])"
      ]
    },
    {
      "cell_type": "code",
      "execution_count": 23,
      "metadata": {
        "colab": {
          "base_uri": "https://localhost:8080/",
          "height": 72
        },
        "id": "f1mUUTnwFJ3L",
        "outputId": "f91fd3e9-5265-44d5-ab00-44e3b7a4b354"
      },
      "outputs": [
        {
          "name": "stdout",
          "output_type": "stream",
          "text": [
            "Final Solution for x>0: \n"
          ]
        },
        {
          "data": {
            "text/latex": [
              "$\\displaystyle \\Phi{\\left(x \\right)} = \\frac{L S_{o} e^{- \\frac{x}{L}}}{2 D}$"
            ],
            "text/plain": [
              "Eq(Phi(x), L*S_o*exp(-x/L)/(2*D))"
            ]
          },
          "execution_count": 23,
          "metadata": {},
          "output_type": "execute_result"
        }
      ],
      "source": [
        "#Solution of the Homogeneous for x>0:\n",
        "Solution1 = Solution_Homo_BC1.subs({C1:BC2_solution[0]})\n",
        "print(\"Final Solution for x>0: \")\n",
        "sp.Eq(Phi(x),Solution1)"
      ]
    },
    {
      "cell_type": "code",
      "execution_count": 24,
      "metadata": {
        "colab": {
          "base_uri": "https://localhost:8080/",
          "height": 72
        },
        "id": "B1VY4H9KFJs5",
        "outputId": "481b9026-3550-4daa-8a00-197ab56623aa"
      },
      "outputs": [
        {
          "name": "stdout",
          "output_type": "stream",
          "text": [
            "Final Solution for x<0: \n"
          ]
        },
        {
          "data": {
            "text/latex": [
              "$\\displaystyle \\Phi{\\left(x \\right)} = \\frac{L S_{o} e^{\\frac{x}{L}}}{2 D}$"
            ],
            "text/plain": [
              "Eq(Phi(x), L*S_o*exp(x/L)/(2*D))"
            ]
          },
          "execution_count": 24,
          "metadata": {},
          "output_type": "execute_result"
        }
      ],
      "source": [
        "#Solution of the Homogeneous for x<0:\n",
        "Solution2 = Solution1.subs({x:-x})\n",
        "print(\"Final Solution for x<0: \")\n",
        "sp.Eq(Phi(x),Solution2)"
      ]
    },
    {
      "cell_type": "code",
      "execution_count": 25,
      "metadata": {
        "colab": {
          "base_uri": "https://localhost:8080/",
          "height": 76
        },
        "id": "8DDKsCfXFJZP",
        "outputId": "305a7bea-7641-4dbf-bf31-f169624c6a05"
      },
      "outputs": [
        {
          "name": "stdout",
          "output_type": "stream",
          "text": [
            "Final Complete Solution for x<0 and x>0: \n"
          ]
        },
        {
          "data": {
            "text/latex": [
              "$\\displaystyle \\Phi{\\left(x \\right)} = \\frac{L S_{o} e^{- \\frac{\\left|{x}\\right|}{L}}}{2 D}$"
            ],
            "text/plain": [
              "Eq(Phi(x), L*S_o*exp(-Abs(x)/L)/(2*D))"
            ]
          },
          "execution_count": 25,
          "metadata": {},
          "output_type": "execute_result"
        }
      ],
      "source": [
        "#Solution of the Homogeneous:\n",
        "Solution_Complete = Solution1.subs({x:abs(x)})\n",
        "print(\"Final Complete Solution for x<0 and x>0: \")\n",
        "sp.Eq(Phi(x),Solution_Complete)"
      ]
    },
    {
      "cell_type": "code",
      "execution_count": 26,
      "metadata": {
        "colab": {
          "base_uri": "https://localhost:8080/",
          "height": 279
        },
        "id": "-5lEkTflyCh9",
        "outputId": "15b86b1b-fac0-4e5a-fe7c-3e2f1272a2b3"
      },
      "outputs": [
        {
          "data": {
            "image/png": "[encoded data removed]",
            "text/plain": [
              "<Figure size 432x288 with 1 Axes>"
            ]
          },
          "metadata": {
            "needs_background": "light"
          },
          "output_type": "display_data"
        }
      ],
      "source": [
        "Sigma_t_val = 0.25 #cm-1\n",
        "Sigma_s_val = 0.15 #cm-1\n",
        "Sigma_a_val = Sigma_t_val - Sigma_s_val\n",
        "D_val = 1/(3*Sigma_t_val)\n",
        "L_val = np.sqrt(Sigma_a_val/D_val)\n",
        "So_val = 10 ** 4 #cm-3 s-1\n",
        "\n",
        "distance = np.linspace(-0.5,0.5,1000)\n",
        "Solution_Complete_evaluated = Solution_Complete.subs({D:D_val, L:L_val, So:So_val, Sigma_a:Sigma_a_val})\n",
        "\n",
        "Solution_discrete1 = sp.lambdify(x,Solution_Complete_evaluated)\n",
        "Solution_discrete2 = Solution_discrete1(distance)\n",
        "\n",
        "plt.plot(distance,Solution_discrete2,\"r\")\n",
        "plt.xlabel(\"Lenght(cm)\")\n",
        "plt.ylabel(\"Flux(#n/cm2 s)\")\n",
        "plt.vlines(0,min(Solution_discrete2)-100, max(Solution_discrete2)+100, color=\"black\", linestyle=\"--\")\n",
        "plt.grid(\"gray\", linestyle=\"--\", linewidth=1)"
      ]
    },
    {
      "cell_type": "markdown",
      "metadata": {
        "id": "oSY5-7LsKB9-"
      },
      "source": [
        "**Fourier Transform**\n",
        "\n",
        "Now we try to solve everything using transformations. As we are in space (from ∞ to -∞), the most appropriate transformation is the Fourier transform.\n",
        "Note that to evaluate the transform explicitly you need to have as symbolic variable only x and the transform variable.\n",
        "Note that we need to manually apply the properties for the transform of a derivative:\n",
        "\n",
        "\\begin{equation}\n",
        "  F(d^{n}x) = (iω)^{n}*F(x)\n",
        "\\end{equation}\n",
        "\n",
        "Applying Fourier Transformation to the whole equation, here reported:\n",
        "\n",
        "\\begin{equation}\n",
        "  \\frac{\\partial^2\\phi(x)}{\\partial x^2}-\\frac{\\phi(x)}{L^2} = - \\frac{S_0(x)} {D}δ(x)\n",
        "\\end{equation}\n",
        "\n",
        "We obtain:\n",
        "\n",
        "\\begin{equation}\n",
        "  -\\omega^{2} F[\\varphi(x)] - \\frac{F[\\varphi(x)]}{L^2} + \\frac{S_0}{D} = 0\n",
        "\\end{equation}\n"
      ]
    },
    {
      "cell_type": "code",
      "execution_count": 27,
      "metadata": {
        "colab": {
          "base_uri": "https://localhost:8080/",
          "height": 87
        },
        "id": "jIZspUKdKBMj",
        "outputId": "6fc0bd3c-bdf8-4646-da54-6b9abab543a8"
      },
      "outputs": [
        {
          "name": "stdout",
          "output_type": "stream",
          "text": [
            "Equation:\n",
            "\n"
          ]
        },
        {
          "data": {
            "text/latex": [
              "$\\displaystyle - \\omega^{2} \\mathcal{F}_{x}\\left[\\Phi{\\left(x \\right)}\\right]\\left(\\omega\\right) - \\frac{\\mathcal{F}_{x}\\left[\\Phi{\\left(x \\right)}\\right]\\left(\\omega\\right)}{L^{2}} = - \\frac{S_{o}}{D}$"
            ],
            "text/plain": [
              "Eq(-omega**2*FourierTransform(Phi(x), x, omega) - FourierTransform(Phi(x), x, omega)/L**2, -S_o/D)"
            ]
          },
          "execution_count": 27,
          "metadata": {},
          "output_type": "execute_result"
        }
      ],
      "source": [
        "#Problem in Fourier Transform\n",
        "omega = sp.symbols(\"omega\", real=True, nonzero=True)\n",
        "\n",
        "Phi_Tilde = sp.fourier_transform(Phi(x),x,omega)\n",
        "Diff2_Phi_Tilde = Phi_Tilde*(-omega**2)\n",
        "\n",
        "Fourier_Equation = sp.Eq(Diff2_Phi_Tilde - Phi_Tilde/(L**2),-So/D)\n",
        "print(\"Equation:\\n\")\n",
        "Fourier_Equation"
      ]
    },
    {
      "cell_type": "code",
      "execution_count": 28,
      "metadata": {
        "colab": {
          "base_uri": "https://localhost:8080/",
          "height": 93
        },
        "id": "ekkia8elWt6k",
        "outputId": "45b580f5-4fb4-4a26-ac5a-56863c911d14"
      },
      "outputs": [
        {
          "name": "stdout",
          "output_type": "stream",
          "text": [
            "Solution:\n",
            "\n"
          ]
        },
        {
          "data": {
            "text/latex": [
              "$\\displaystyle \\mathcal{F}_{x}\\left[\\Phi{\\left(x \\right)}\\right]\\left(\\omega\\right) = \\frac{L^{2} S_{o}}{D \\left(L^{2} \\omega^{2} + 1\\right)}$"
            ],
            "text/plain": [
              "Eq(FourierTransform(Phi(x), x, omega), L**2*S_o/(D*(L**2*omega**2 + 1)))"
            ]
          },
          "execution_count": 28,
          "metadata": {},
          "output_type": "execute_result"
        }
      ],
      "source": [
        "#Solution Fourier Transform\n",
        "Fourier_Solution = sp.solve(Fourier_Equation,Phi_Tilde)\n",
        "print(\"Solution:\\n\")\n",
        "sp.Eq(Phi_Tilde,Fourier_Solution[0])"
      ]
    },
    {
      "cell_type": "code",
      "execution_count": 29,
      "metadata": {
        "colab": {
          "base_uri": "https://localhost:8080/",
          "height": 74
        },
        "id": "4lz7RxSNX2sz",
        "outputId": "35bc7957-6a1b-42cf-d533-4921da4d29b7"
      },
      "outputs": [
        {
          "name": "stdout",
          "output_type": "stream",
          "text": [
            "Solution for the Flux:\n",
            "\n"
          ]
        },
        {
          "data": {
            "text/latex": [
              "$\\displaystyle \\Phi{\\left(x \\right)} = 1026.97979532219 e^{- 7.30296743340221 \\pi \\left|{x}\\right|}$"
            ],
            "text/plain": [
              "Eq(Phi(x), 1026.97979532219*exp(-7.30296743340221*pi*Abs(x)))"
            ]
          },
          "execution_count": 29,
          "metadata": {},
          "output_type": "execute_result"
        }
      ],
      "source": [
        "#Inverted Solution\n",
        "Solution_Inverted = Fourier_Solution[0].subs({So:So_val,D:D_val,L:L_val,})\n",
        "Fourier_Inverted_Solution = sp.inverse_fourier_transform(Solution_Inverted, omega, x) / (2*sp.pi)\n",
        "Fourier_Inverted_Solution = Fourier_Inverted_Solution.subs({x:abs(x)})\n",
        "print(\"Solution for the Flux:\\n\")\n",
        "sp.Eq(Phi(x) , Fourier_Inverted_Solution)"
      ]
    },
    {
      "cell_type": "code",
      "execution_count": 30,
      "metadata": {
        "colab": {
          "base_uri": "https://localhost:8080/",
          "height": 279
        },
        "id": "qF9J56Ea1HSv",
        "outputId": "35c0df51-78fb-4a4f-e79d-7c815ed4935c"
      },
      "outputs": [
        {
          "data": {
            "image/png": "[encoded data removed]",
            "text/plain": [
              "<Figure size 432x288 with 1 Axes>"
            ]
          },
          "metadata": {
            "needs_background": "light"
          },
          "output_type": "display_data"
        }
      ],
      "source": [
        "#plotting\n",
        "\n",
        "distance2 = np.linspace(-0.5,0.5,1000)\n",
        "\n",
        "Fourier_discrete1 = sp.lambdify(x , Fourier_Inverted_Solution)\n",
        "Fourier_discrete2 = Fourier_discrete1(distance2)\n",
        "\n",
        "plt.plot(distance2,Fourier_discrete2,\"r\")\n",
        "plt.xlabel(\"Lenght(cm)\")\n",
        "plt.ylabel(\"Flux(#n/cm2 s)\")\n",
        "plt.vlines(0,min(Fourier_discrete2)-100, max(Fourier_discrete2)+100, color=\"black\", linestyle=\"--\")\n",
        "plt.grid(\"gray\", linestyle=\"--\", linewidth=1)"
      ]
    }
  ],
  "metadata": {
    "colab": {
      "collapsed_sections": [],
      "name": "NeutronDiffusion_in_non_multiplying_media_(Plane_Source).ipynb",
      "provenance": []
    },
    "kernelspec": {
      "display_name": "Python 3",
      "name": "python3"
    },
    "language_info": {
      "name": "python"
    }
  },
  "nbformat": 4,
  "nbformat_minor": 0
}
