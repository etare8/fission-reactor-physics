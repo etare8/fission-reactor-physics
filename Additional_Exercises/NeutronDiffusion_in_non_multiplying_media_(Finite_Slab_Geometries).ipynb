{
  "cells": [
    {
      "cell_type": "markdown",
      "metadata": {
        "id": "xP09PkcrAgjy"
      },
      "source": [
        "# Finite Slab of Medium with Vacuum Boundary Conditions\n",
        "\n",
        "In the same way  we have set up the problem for the Plane Source in an Infinite Medium, the equation for finite slab geometries is expressed in the following shape:\n",
        "\n",
        "\\begin{equation}\n",
        "  \\frac{d^{2}\\phi(x)}{dx^{2}} - \\frac{\\phi(x)}{L^{2}}\n",
        "   = - \\frac{S(x)}{D}\n",
        "   = - \\frac{S_0}{D} \\delta(x)\n",
        "\\end{equation}\n",
        "\n",
        "What effectively changes is the way we express the Boundary Conditions. Now we do not have an ininite medium but a slab with a finite extention in space. For semplicity we decide to place the plane isotropic source in $x=0$, and define the slab's overall width as $Width=a$. The interfaces between the medium and the vacuum are in this way located at $x=+\\frac{a}{2}$ and $x=-\\frac{a}{2}$. We have to take into account the *Vacuum Boundary Conditions* that refer to the *Extrapolated Lenght* $\\pm\\frac{\\tilde a}{2}$\n",
        "\n",
        "*HOMOGENEOUS EQUATION:*\n",
        "\n",
        "\n",
        "\\begin{equation}\n",
        "  \\frac{d^{2}\\phi(x)}{dx^{2}} - \\frac{\\phi(x)}{L^{2}} = 0\n",
        "\\end{equation}\n",
        "\n",
        "\n",
        "*VACUUM BOUNDARY CONDITION:*\n",
        "\n",
        "\n",
        "\\begin{aligned}\n",
        " &(a)\\;\\;\\;\\; \\lim_{x \\rightarrow 0^{\\pm}} -D \\frac{d\\phi}{dx} = S_0 \\\\\n",
        " &(b)\\;\\;\\;\\; \\phi(\\pm\\frac{\\tilde a}{2}) = 0\n",
        "\\end{aligned}\n",
        "\n",
        "\n",
        "*COEFFICIENTS' SOLUTION:*\n",
        "\n",
        "\\begin{aligned}\n",
        " &\\ C_2 = - C_1 \\; exp(- \\frac{\\tilde a }{L}) \\\\\n",
        " &\\ C_1 = \\frac{S L}{2 D} \\; (\\,1 + exp(- \\frac{\\tilde a }{L})\\,)^{-1}\n",
        "\\end{aligned}\n",
        "\n",
        "*FINAL SOLUTION:*\n",
        "\n",
        "\\begin{equation}\n",
        "  \\phi(x)\n",
        "  = \\frac{S L}{2 D} \\; \\frac{exp(- \\frac{x}{L}) - exp(\\frac{-(\\tilde a -x)}{L})}\n",
        "    {1+exp(-\\frac{\\tilde a}{L})}\n",
        "  = \\frac{S L}{2 D} \\; \\frac{\\sinh[\\frac{(\\tilde a - 2|x|)}{2L}]}\n",
        "    {cosh(\\frac{\\tilde a}{2L})}\n",
        "\\end{equation}\n"
      ]
    },
    {
      "cell_type": "code",
      "execution_count": 2,
      "metadata": {
        "id": "SNgMLwgZAfWo"
      },
      "outputs": [],
      "source": [
        "import numpy as np\n",
        "import sympy as sp\n",
        "import matplotlib.pyplot as plt\n",
        "\n",
        "#variables and functions\n",
        "\n",
        "x, a, a_tilde = sp.symbols(\"x, a, a_tilde\")\n",
        "\n",
        "So = sp.Symbol(\"So\")\n",
        "D = sp.Symbol(\"D\")\n",
        "L = sp.Symbol(\"L\")\n",
        "Sigma_a = sp.Symbol(\"Sigma_a\")\n",
        "\n",
        "Phi, S = sp.symbols(\"Phi, S\", cls=sp.Function)\n",
        "\n",
        "C1, C2 = sp.symbols(\"C1, C2\")"
      ]
    },
    {
      "cell_type": "code",
      "execution_count": 3,
      "metadata": {
        "colab": {
          "base_uri": "https://localhost:8080/",
          "height": 74
        },
        "id": "U7wODoeLXTXt",
        "outputId": "8b527d82-b49e-4476-ee77-a1a3f463101b"
      },
      "outputs": [
        {
          "name": "stdout",
          "output_type": "stream",
          "text": [
            "Source:\n",
            "\n"
          ]
        },
        {
          "data": {
            "text/latex": [
              "$\\displaystyle S{\\left(x \\right)} = So \\delta\\left(x\\right)$"
            ],
            "text/plain": [
              "Eq(S(x), So*DiracDelta(x))"
            ]
          },
          "execution_count": 3,
          "metadata": {},
          "output_type": "execute_result"
        }
      ],
      "source": [
        "#Source\n",
        "Source = sp.Eq(S(x), So*sp.DiracDelta(x))\n",
        "print(\"Source:\\n\")\n",
        "Source"
      ]
    },
    {
      "cell_type": "code",
      "execution_count": 4,
      "metadata": {
        "colab": {
          "base_uri": "https://localhost:8080/",
          "height": 74
        },
        "id": "JM1J5R0CaXMw",
        "outputId": "a622b14c-a7d2-4bef-bb00-68ca0235e832"
      },
      "outputs": [
        {
          "name": "stdout",
          "output_type": "stream",
          "text": [
            "Generic Homogeneous Solution:\n",
            "\n"
          ]
        },
        {
          "data": {
            "text/latex": [
              "$\\displaystyle \\Phi{\\left(x \\right)} = C_{1} e^{- \\frac{x}{L}} + C_{2} e^{\\frac{x}{L}}$"
            ],
            "text/plain": [
              "Eq(Phi(x), C1*exp(-x/L) + C2*exp(x/L))"
            ]
          },
          "execution_count": 4,
          "metadata": {},
          "output_type": "execute_result"
        }
      ],
      "source": [
        "#Homogeneous equation and solution\n",
        "Homo_Equation = sp.Eq(Phi(x).diff(x,2) - Phi(x)/(L**2), 0)\n",
        "Homo_Equation_Solution = sp.dsolve(Homo_Equation,Phi(x))\n",
        "print(\"Generic Homogeneous Solution:\\n\")\n",
        "Homo_Equation_Solution"
      ]
    },
    {
      "cell_type": "code",
      "execution_count": 5,
      "metadata": {
        "colab": {
          "base_uri": "https://localhost:8080/",
          "height": 76
        },
        "id": "mBehrwVTbGhO",
        "outputId": "37e8d30f-d29d-4d0c-ddfb-fd0cfffe1f4a"
      },
      "outputs": [
        {
          "name": "stdout",
          "output_type": "stream",
          "text": [
            "Solution for C2:\n",
            "\n"
          ]
        },
        {
          "data": {
            "text/latex": [
              "$\\displaystyle C_{2} = - C_{1} e^{- \\frac{a_{tilde}}{L}}$"
            ],
            "text/plain": [
              "Eq(C2, -C1*exp(-a_tilde/L))"
            ]
          },
          "execution_count": 5,
          "metadata": {},
          "output_type": "execute_result"
        }
      ],
      "source": [
        "#Applying BC2 to the Equation Solution\n",
        "Homo_Equation_Solution_BC2 = sp.Eq(Homo_Equation_Solution.rhs.subs({x:a_tilde/2}),0)\n",
        "Solution_BC2 = sp.solve(Homo_Equation_Solution_BC2, C2)[0]\n",
        "print(\"Solution for C2:\\n\")\n",
        "sp.Eq(C2,Solution_BC2)"
      ]
    },
    {
      "cell_type": "code",
      "execution_count": 6,
      "metadata": {
        "colab": {
          "base_uri": "https://localhost:8080/",
          "height": 108
        },
        "id": "TqYyrw1pdNiQ",
        "outputId": "25183280-3d72-41cd-a698-ed58bd3fc373"
      },
      "outputs": [
        {
          "name": "stdout",
          "output_type": "stream",
          "text": [
            "Solution for C1:\n",
            "\n"
          ]
        },
        {
          "data": {
            "text/latex": [
              "$\\displaystyle C_{1} = \\frac{L So e^{\\frac{a_{tilde}}{L}}}{2 D \\left(e^{\\frac{a_{tilde}}{L}} + 1\\right)}$"
            ],
            "text/plain": [
              "Eq(C1, L*So*exp(a_tilde/L)/(2*D*(exp(a_tilde/L) + 1)))"
            ]
          },
          "execution_count": 6,
          "metadata": {},
          "output_type": "execute_result"
        }
      ],
      "source": [
        "#Applying BC1 to the new Equation Solution\n",
        "Homo_Equation_Solution_BC1 = Homo_Equation_Solution.rhs.subs(C2,Solution_BC2)\n",
        "\n",
        "argument = - D * Homo_Equation_Solution_BC1.diff(x)\n",
        "\n",
        "Limit_Equation = sp.Eq(sp.limit(argument,x,0), So/2)\n",
        "Solution_BC1 = sp.solve(Limit_Equation, C1)[0]\n",
        "\n",
        "print(\"Solution for C1:\\n\")\n",
        "sp.Eq(C1,Solution_BC1)"
      ]
    },
    {
      "cell_type": "code",
      "execution_count": 7,
      "metadata": {
        "colab": {
          "base_uri": "https://localhost:8080/",
          "height": 110
        },
        "id": "nvgOQqKyfoEJ",
        "outputId": "c0a635f0-45ef-48bc-ce10-bf13ffab94ff"
      },
      "outputs": [
        {
          "name": "stdout",
          "output_type": "stream",
          "text": [
            "Complete solution:\n",
            "\n"
          ]
        },
        {
          "data": {
            "text/latex": [
              "$\\displaystyle \\Phi{\\left(x \\right)} = \\frac{L So e^{\\frac{a_{tilde}}{L}} e^{- \\frac{\\left|{x}\\right|}{L}}}{2 D \\left(e^{\\frac{a_{tilde}}{L}} + 1\\right)} - \\frac{L So e^{\\frac{\\left|{x}\\right|}{L}}}{2 D \\left(e^{\\frac{a_{tilde}}{L}} + 1\\right)}$"
            ],
            "text/plain": [
              "Eq(Phi(x), L*So*exp(a_tilde/L)*exp(-Abs(x)/L)/(2*D*(exp(a_tilde/L) + 1)) - L*So*exp(Abs(x)/L)/(2*D*(exp(a_tilde/L) + 1)))"
            ]
          },
          "execution_count": 7,
          "metadata": {},
          "output_type": "execute_result"
        }
      ],
      "source": [
        "#Complete expression of the Solution\n",
        "Homo_Equation_Solution_Final = Homo_Equation_Solution_BC1.subs({C1:Solution_BC1, x:abs(x)})\n",
        "print(\"Complete solution:\\n\")\n",
        "sp.Eq(Phi(x),Homo_Equation_Solution_Final)"
      ]
    },
    {
      "cell_type": "code",
      "execution_count": 8,
      "metadata": {
        "colab": {
          "base_uri": "https://localhost:8080/",
          "height": 312
        },
        "id": "V9ccl9Ghk-HH",
        "outputId": "6c35ab96-8169-4658-8cbb-d17dcd1aaac0"
      },
      "outputs": [
        {
          "data": {
            "text/plain": [
              "<matplotlib.collections.LineCollection at 0x7fa4743c2a50>"
            ]
          },
          "execution_count": 8,
          "metadata": {},
          "output_type": "execute_result"
        },
        {
          "data": {
            "image/png": "[encoded data removed]",
            "text/plain": [
              "<Figure size 432x288 with 1 Axes>"
            ]
          },
          "metadata": {
            "needs_background": "light"
          },
          "output_type": "display_data"
        }
      ],
      "source": [
        "#Plotting the Flux\n",
        "Sigma_t = 0.25\n",
        "Sigma_s = 0.15\n",
        "Sigma_a_val = Sigma_t - Sigma_s\n",
        "\n",
        "So_val = 10**4\n",
        "D_val = 1/(3*Sigma_t)\n",
        "L_val = sp.sqrt(D_val/Sigma_a_val).evalf()\n",
        "\n",
        "a_val = 20 #cm\n",
        "a_tilde_val = a_val + 2*0.7104*3*D_val\n",
        "\n",
        "distance = np.linspace(-a_tilde_val/2,a_tilde_val/2,3000)\n",
        "\n",
        "Solution_discrete1 = Homo_Equation_Solution_Final.subs({Sigma_a:Sigma_a_val, D:D_val, L:L_val, a_tilde:a_tilde_val, So:So_val})\n",
        "Solution_discrete2 = sp.lambdify(x,Solution_discrete1, \"numpy\")\n",
        "Solution_discrete3 = Solution_discrete2(distance)\n",
        "\n",
        "plt.plot(distance, Solution_discrete3)\n",
        "plt.grid(\"gray\", linestyle=\"--\", linewidth=1)\n",
        "plt.xlabel(\"Distance[cm]\")\n",
        "plt.ylabel(\"Neutron Flux\")\n",
        "plt.title(\"Neutronic Flux\")\n",
        "plt.vlines(0,max(Solution_discrete3)+500,min(Solution_discrete3),linestyle=\"--\", color=\"black\",linewidth=1.2)\n",
        "plt.vlines(-a_val/2,max(Solution_discrete3)+500,min(Solution_discrete3),linestyle=\"-\", color=\"black\",linewidth=1.5)\n",
        "plt.vlines(a_val/2,max(Solution_discrete3)+500,min(Solution_discrete3),linestyle=\"-\", color=\"black\",linewidth=1.5)"
      ]
    },
    {
      "cell_type": "markdown",
      "metadata": {
        "id": "uedMk2NhvOIk"
      },
      "source": [
        "# Multiregion Problem\n",
        "\n",
        "Imagine now to replace the vacuum by a material of different composition than the slab itself. In this case we do not have Vacuum Boundary Conditions but we have to impose Interface Conditions for the continuity of the Flux and the Current across the interface between the two regions; along with these new BCs we can exploit our erlier condition on the limitation of $\\phi_2$ as $x\\rightarrow \\infty$ and $J_1 = \\frac{S_0}{2}$ as $x\\rightarrow 0$.\n",
        "\n",
        "The Equations in the two regions are:\n",
        "\n",
        "\\begin{aligned}\n",
        " &\\\\\n",
        " &\\frac{d^{2} \\psi_1(z)}{d z^{2}} - \\frac{1}{L_1^{2}}\\psi_1(z) = 0\n",
        " \\;\\;\\;\\;\\;for\\;\\;0 < z < \\frac{b}{2}\\\\\n",
        " &\\\\\n",
        " &\\frac{d^{2} \\psi_2(z)}{d z^{2}} - \\frac{1}{L_2^{2}}\\psi_2(z) = 0\n",
        " \\;\\;\\;\\;\\;for\\;\\;\\frac{b}{2} < z < \\infty\\\\\n",
        " &\\\\\n",
        "\\end{aligned}\n",
        "\n",
        "*BOUNDARY CONDITIONS*\n",
        "\\begin{aligned}\n",
        " &(a)\\;\\;\\;\\;\\;\\lim_{z \\rightarrow 0^{+}} J_1(z) = \\frac{S_0}{2} \\\\\n",
        " &\\\\\n",
        " &(b)\\;\\;\\;\\;\\;\\lim_{z \\rightarrow \\infty} \\psi_2(z) < \\infty \\\\\n",
        " &\\\\\n",
        " &(c)\\;\\;\\;\\;\\;\\psi_1(\\frac{b}{2}) = \\psi_2(\\frac{b}{2}) \\\\\n",
        " &\\\\\n",
        " &(d)\\;\\;\\;\\;\\;J_1(\\frac{b}{2}) = J_2(\\frac{b}{2}) \\\\\n",
        "\\end{aligned}"
      ]
    },
    {
      "cell_type": "code",
      "execution_count": 9,
      "metadata": {
        "id": "RUdHxSrj0thy"
      },
      "outputs": [],
      "source": [
        "import sympy as sp\n",
        "import numpy as np\n",
        "import matplotlib.pyplot as plt\n",
        "\n",
        "#Variables and Functions\n",
        "z, b = sp.symbols(\"z, b\")\n",
        "\n",
        "So_new = sp.Symbol(\"S_0\")\n",
        "D_new = sp.symbols(\"D:2\")\n",
        "L_new = sp.symbols(\"L:2\")\n",
        "Sigma_a_new = sp.Symbol(\"Sigma_a\")\n",
        "\n",
        "Psi = sp.symbols(\"Psi:2\", cls=sp.Function)\n",
        "\n",
        "C1_new, C2_new = sp.symbols(\"C1, C2\")\n",
        "A1, A2 = sp.symbols(\"A1, A2\")\n",
        "B1, B2 = sp.symbols(\"B1, B2\")"
      ]
    },
    {
      "cell_type": "code",
      "execution_count": 10,
      "metadata": {
        "colab": {
          "base_uri": "https://localhost:8080/",
          "height": 93
        },
        "id": "a0_qXCil16ku",
        "outputId": "4de43932-73ad-40fe-b561-032d380ea0b1"
      },
      "outputs": [
        {
          "name": "stdout",
          "output_type": "stream",
          "text": [
            "Equation Region 1:\n",
            "\n"
          ]
        },
        {
          "data": {
            "text/latex": [
              "$\\displaystyle \\frac{d^{2}}{d z^{2}} \\Psi_{0}{\\left(z \\right)} - \\frac{\\Psi_{0}{\\left(z \\right)}}{L_{0}^{2}} = 0$"
            ],
            "text/plain": [
              "Eq(Derivative(Psi0(z), (z, 2)) - Psi0(z)/L0**2, 0)"
            ]
          },
          "execution_count": 10,
          "metadata": {},
          "output_type": "execute_result"
        }
      ],
      "source": [
        "#Homogeneous Equation Region 0\n",
        "Equation_Region1 = sp.Eq(Psi[0](z).diff(z,2) - 1/(L_new[0]**2)*Psi[0](z) , 0)\n",
        "print(\"Equation Region 1:\\n\")\n",
        "Equation_Region1"
      ]
    },
    {
      "cell_type": "code",
      "execution_count": 11,
      "metadata": {
        "colab": {
          "base_uri": "https://localhost:8080/",
          "height": 93
        },
        "id": "qG7DywDM4D-d",
        "outputId": "bf78d98e-1682-4d55-8587-ca28667ba299"
      },
      "outputs": [
        {
          "name": "stdout",
          "output_type": "stream",
          "text": [
            "Equation Region 2:\n",
            "\n"
          ]
        },
        {
          "data": {
            "text/latex": [
              "$\\displaystyle \\frac{d^{2}}{d z^{2}} \\Psi_{1}{\\left(z \\right)} - \\frac{\\Psi_{1}{\\left(z \\right)}}{L_{1}^{2}} = 0$"
            ],
            "text/plain": [
              "Eq(Derivative(Psi1(z), (z, 2)) - Psi1(z)/L1**2, 0)"
            ]
          },
          "execution_count": 11,
          "metadata": {},
          "output_type": "execute_result"
        }
      ],
      "source": [
        "#Homogeneous Equation Region 1\n",
        "Equation_Region2 = sp.Eq(Psi[1](z).diff(z,2) - (1/L_new[1]**2)*Psi[1](z) , 0)\n",
        "print(\"Equation Region 2:\\n\")\n",
        "Equation_Region2"
      ]
    },
    {
      "cell_type": "code",
      "execution_count": 12,
      "metadata": {
        "colab": {
          "base_uri": "https://localhost:8080/",
          "height": 75
        },
        "id": "ZyOxmA9g5_oj",
        "outputId": "148db34f-c9b1-4903-c402-2173be6d5d78"
      },
      "outputs": [
        {
          "name": "stdout",
          "output_type": "stream",
          "text": [
            "Solution Region 1:\n",
            "\n"
          ]
        },
        {
          "data": {
            "text/latex": [
              "$\\displaystyle \\Psi_{0}{\\left(z \\right)} = A_{1} e^{- \\frac{z}{L_{0}}} + A_{2} e^{\\frac{z}{L_{0}}}$"
            ],
            "text/plain": [
              "Eq(Psi0(z), A1*exp(-z/L0) + A2*exp(z/L0))"
            ]
          },
          "execution_count": 12,
          "metadata": {},
          "output_type": "execute_result"
        }
      ],
      "source": [
        "#Solution Region 1\n",
        "Solution0 = sp.dsolve(Equation_Region1, Psi[0](z))\n",
        "Solution0 = Solution0.subs({C1_new:A1,C2_new:A2})\n",
        "print(\"Solution Region 1:\\n\")\n",
        "Solution0 "
      ]
    },
    {
      "cell_type": "code",
      "execution_count": 13,
      "metadata": {
        "colab": {
          "base_uri": "https://localhost:8080/",
          "height": 75
        },
        "id": "eVMmgkqL_ovE",
        "outputId": "5cf32bc3-1e30-46d3-aa61-18f930c2046f"
      },
      "outputs": [
        {
          "name": "stdout",
          "output_type": "stream",
          "text": [
            "Solution Region 2:\n",
            "\n"
          ]
        },
        {
          "data": {
            "text/latex": [
              "$\\displaystyle \\Psi_{1}{\\left(z \\right)} = B_{1} e^{- \\frac{z}{L_{1}}} + B_{2} e^{\\frac{z}{L_{1}}}$"
            ],
            "text/plain": [
              "Eq(Psi1(z), B1*exp(-z/L1) + B2*exp(z/L1))"
            ]
          },
          "execution_count": 13,
          "metadata": {},
          "output_type": "execute_result"
        }
      ],
      "source": [
        "#Solution Region 2\n",
        "Solution1 = sp.dsolve(Equation_Region2, Psi[1](z))\n",
        "Solution1 = Solution1.subs({C1_new:B1,C2_new:B2})\n",
        "print(\"Solution Region 2:\\n\")\n",
        "Solution1"
      ]
    },
    {
      "cell_type": "code",
      "execution_count": 14,
      "metadata": {
        "colab": {
          "base_uri": "https://localhost:8080/",
          "height": 75
        },
        "id": "uaipa42b_7uA",
        "outputId": "c4bc58a7-6471-4334-f6bb-c00161b9e5eb"
      },
      "outputs": [
        {
          "name": "stdout",
          "output_type": "stream",
          "text": [
            "Solution Region 2:\n",
            "\n"
          ]
        },
        {
          "data": {
            "text/latex": [
              "$\\displaystyle \\Psi_{1}{\\left(z \\right)} = B_{1} e^{- \\frac{z}{L_{1}}}$"
            ],
            "text/plain": [
              "Eq(Psi1(z), B1*exp(-z/L1))"
            ]
          },
          "execution_count": 14,
          "metadata": {},
          "output_type": "execute_result"
        }
      ],
      "source": [
        "#Imposing BC (b)/ flux 2 bounded\n",
        "Solution1 = Solution1.subs(B2,0).evalf()\n",
        "print(\"Solution Region 2:\\n\")\n",
        "Solution1"
      ]
    },
    {
      "cell_type": "code",
      "execution_count": 15,
      "metadata": {
        "colab": {
          "base_uri": "https://localhost:8080/",
          "height": 90
        },
        "id": "7gLEqGL2ATBU",
        "outputId": "fbca0900-a9d2-4bc9-b49c-44001e1dde28"
      },
      "outputs": [
        {
          "name": "stdout",
          "output_type": "stream",
          "text": [
            "Boundary Condition (a):\n",
            "\n"
          ]
        },
        {
          "data": {
            "text/latex": [
              "$\\displaystyle - \\frac{D_{0} \\left(- A_{1} + A_{2}\\right)}{L_{0}} = \\frac{S_{0}}{2}$"
            ],
            "text/plain": [
              "Eq(-D0*(-A1 + A2)/L0, S_0/2)"
            ]
          },
          "execution_count": 15,
          "metadata": {},
          "output_type": "execute_result"
        }
      ],
      "source": [
        "#Imposing BC (a)\n",
        "Current0 = -D_new[0] * Solution0.rhs.diff(z)\n",
        "\n",
        "Limit_EquationBCa = sp.Eq(sp.limit(Current0,z,0) , So_new/2)\n",
        "\n",
        "print(\"Boundary Condition (a):\\n\")\n",
        "Limit_EquationBCa"
      ]
    },
    {
      "cell_type": "code",
      "execution_count": 16,
      "metadata": {
        "colab": {
          "base_uri": "https://localhost:8080/",
          "height": 103
        },
        "id": "n4kwU1mJDOt7",
        "outputId": "fe0d14a1-6d4c-4494-ae59-0c4eab9265ad"
      },
      "outputs": [
        {
          "name": "stdout",
          "output_type": "stream",
          "text": [
            "Equation of Equality of Currents:\n",
            "\n"
          ]
        },
        {
          "data": {
            "text/latex": [
              "$\\displaystyle \\frac{B_{1} D_{1} e^{- \\frac{b}{2 L_{1}}}}{L_{1}} = - D_{0} \\left(- \\frac{A_{1} e^{- \\frac{b}{2 L_{0}}}}{L_{0}} + \\frac{A_{2} e^{\\frac{b}{2 L_{0}}}}{L_{0}}\\right)$"
            ],
            "text/plain": [
              "Eq(B1*D1*exp(-b/(2*L1))/L1, -D0*(-A1*exp(-b/(2*L0))/L0 + A2*exp(b/(2*L0))/L0))"
            ]
          },
          "execution_count": 16,
          "metadata": {},
          "output_type": "execute_result"
        }
      ],
      "source": [
        "#Imposing BC (d)\n",
        "Current1 = -D_new[1] * Solution1.rhs.diff(z)\n",
        "\n",
        "EquationBCd = sp.Eq(Current1.subs(z,b/2) , Current0.subs(z,b/2))\n",
        "\n",
        "print(\"Equation of Equality of Currents:\\n\")\n",
        "EquationBCd"
      ]
    },
    {
      "cell_type": "code",
      "execution_count": 17,
      "metadata": {
        "colab": {
          "base_uri": "https://localhost:8080/",
          "height": 89
        },
        "id": "qoihy7AuETpK",
        "outputId": "92cc6fa6-a304-4fdb-d4e0-75fc8610b61e"
      },
      "outputs": [
        {
          "name": "stdout",
          "output_type": "stream",
          "text": [
            "A1 in function of A2:\n",
            "\n"
          ]
        },
        {
          "data": {
            "text/latex": [
              "$\\displaystyle A_{1} = A_{2} + \\frac{L_{0} S_{0}}{2 D_{0}}$"
            ],
            "text/plain": [
              "Eq(A1, A2 + L0*S_0/(2*D0))"
            ]
          },
          "execution_count": 17,
          "metadata": {},
          "output_type": "execute_result"
        }
      ],
      "source": [
        "#Limit Equation BCa expressed in A1\n",
        "Solution_Limit_EquationBCa = sp.solve(Limit_EquationBCa, A1)[0]\n",
        "print(\"A1 in function of A2:\\n\")\n",
        "sp.Eq(A1 , Solution_Limit_EquationBCa)"
      ]
    },
    {
      "cell_type": "code",
      "execution_count": 18,
      "metadata": {
        "colab": {
          "base_uri": "https://localhost:8080/",
          "height": 115
        },
        "id": "FTMpuDvyEu28",
        "outputId": "a269d905-38b2-499c-e1ff-39c7bffb9650"
      },
      "outputs": [
        {
          "name": "stdout",
          "output_type": "stream",
          "text": [
            "Equation of Equality of Currents:\n",
            "\n"
          ]
        },
        {
          "data": {
            "text/latex": [
              "$\\displaystyle \\frac{B_{1} D_{1} e^{- \\frac{b}{2 L_{1}}}}{L_{1}} = - D_{0} \\left(\\frac{A_{2} e^{\\frac{b}{2 L_{0}}}}{L_{0}} - \\frac{\\left(A_{2} + \\frac{L_{0} S_{0}}{2 D_{0}}\\right) e^{- \\frac{b}{2 L_{0}}}}{L_{0}}\\right)$"
            ],
            "text/plain": [
              "Eq(B1*D1*exp(-b/(2*L1))/L1, -D0*(A2*exp(b/(2*L0))/L0 - (A2 + L0*S_0/(2*D0))*exp(-b/(2*L0))/L0))"
            ]
          },
          "execution_count": 18,
          "metadata": {},
          "output_type": "execute_result"
        }
      ],
      "source": [
        "#BC (d) + A1 expression\n",
        "Current0 = Current0.subs(A1 , Solution_Limit_EquationBCa)\n",
        "EquationBCd = sp.Eq(Current1.subs(z,b/2) , Current0.subs(z,b/2))\n",
        "\n",
        "print(\"Equation of Equality of Currents:\\n\")\n",
        "EquationBCd"
      ]
    },
    {
      "cell_type": "code",
      "execution_count": 19,
      "metadata": {
        "colab": {
          "base_uri": "https://localhost:8080/",
          "height": 92
        },
        "id": "JXIJ6x7OFWHa",
        "outputId": "f8566f2a-22f4-44a0-a45a-5cf7b8f4fa5c"
      },
      "outputs": [
        {
          "name": "stdout",
          "output_type": "stream",
          "text": [
            "New Solution Region 1:\n",
            "\n"
          ]
        },
        {
          "data": {
            "text/latex": [
              "$\\displaystyle \\Psi_{0}{\\left(z \\right)} = A_{2} e^{\\frac{z}{L_{0}}} + \\left(A_{2} + \\frac{L_{0} S_{0}}{2 D_{0}}\\right) e^{- \\frac{z}{L_{0}}}$"
            ],
            "text/plain": [
              "Eq(Psi0(z), A2*exp(z/L0) + (A2 + L0*S_0/(2*D0))*exp(-z/L0))"
            ]
          },
          "execution_count": 19,
          "metadata": {},
          "output_type": "execute_result"
        }
      ],
      "source": [
        "#Imposing A1/A2 to Flux in region 1\n",
        "New_Solution0 = Solution0.subs(A1 , Solution_Limit_EquationBCa)\n",
        "print(\"New Solution Region 1:\\n\")\n",
        "New_Solution0"
      ]
    },
    {
      "cell_type": "code",
      "execution_count": 20,
      "metadata": {
        "colab": {
          "base_uri": "https://localhost:8080/",
          "height": 75
        },
        "id": "BA4zo5CVFt74",
        "outputId": "66b2a532-6756-4849-cb78-a64182567a6c"
      },
      "outputs": [
        {
          "name": "stdout",
          "output_type": "stream",
          "text": [
            "New Solution Region 2:\n",
            "\n"
          ]
        },
        {
          "data": {
            "text/latex": [
              "$\\displaystyle \\Psi_{1}{\\left(z \\right)} = B_{1} e^{- \\frac{z}{L_{1}}}$"
            ],
            "text/plain": [
              "Eq(Psi1(z), B1*exp(-z/L1))"
            ]
          },
          "execution_count": 20,
          "metadata": {},
          "output_type": "execute_result"
        }
      ],
      "source": [
        "#Recalling flux in region 2\n",
        "New_Solution1 = Solution1\n",
        "print(\"New Solution Region 2:\\n\")\n",
        "New_Solution1"
      ]
    },
    {
      "cell_type": "code",
      "execution_count": 21,
      "metadata": {
        "colab": {
          "base_uri": "https://localhost:8080/",
          "height": 92
        },
        "id": "N90mxP23F8uz",
        "outputId": "e0b2d93e-8bb9-4ef2-c7dc-8846d11aec94"
      },
      "outputs": [
        {
          "name": "stdout",
          "output_type": "stream",
          "text": [
            "Equation of Equality of Fluxes:\n",
            "\n"
          ]
        },
        {
          "data": {
            "text/latex": [
              "$\\displaystyle A_{2} e^{\\frac{b}{2 L_{0}}} + \\left(A_{2} + \\frac{L_{0} S_{0}}{2 D_{0}}\\right) e^{- \\frac{b}{2 L_{0}}} = B_{1} e^{- \\frac{b}{2 L_{1}}}$"
            ],
            "text/plain": [
              "Eq(A2*exp(b/(2*L0)) + (A2 + L0*S_0/(2*D0))*exp(-b/(2*L0)), B1*exp(-b/(2*L1)))"
            ]
          },
          "execution_count": 21,
          "metadata": {},
          "output_type": "execute_result"
        }
      ],
      "source": [
        "#Imposing BC (c)\n",
        "EquationBCc = sp.Eq(New_Solution0.rhs.subs(z,b/2) , New_Solution1.rhs.subs(z,b/2))\n",
        "\n",
        "print(\"Equation of Equality of Fluxes:\\n\")\n",
        "EquationBCc"
      ]
    },
    {
      "cell_type": "code",
      "execution_count": 22,
      "metadata": {
        "id": "7AKdn-R3Gmqs"
      },
      "outputs": [],
      "source": [
        "#Recalling The Two Terms of the system\n",
        "Term1 = EquationBCd\n",
        "Term2 = EquationBCc\n",
        "\n",
        "B1_in_A2 = sp.solve(Term1 , B1)[0]\n",
        "\n",
        "Term2 = Term2.subs(B1,B1_in_A2)\n",
        "\n",
        "A2_Solution = sp.solve(Term2 , A2)[0]\n",
        "B1_Solution = B1_in_A2.subs(A2 , A2_Solution)"
      ]
    },
    {
      "cell_type": "code",
      "execution_count": 23,
      "metadata": {
        "colab": {
          "base_uri": "https://localhost:8080/",
          "height": 70
        },
        "id": "h8BV8EE7HhCk",
        "outputId": "202c94f6-f9a5-4321-80fc-54a6c2571371"
      },
      "outputs": [
        {
          "data": {
            "text/latex": [
              "$\\displaystyle A_{2} = \\frac{L_{0} S_{0} \\left(D_{0} L_{1} - D_{1} L_{0}\\right)}{2 D_{0} \\left(D_{0} L_{1} e^{\\frac{b}{L_{0}}} - D_{0} L_{1} + D_{1} L_{0} e^{\\frac{b}{L_{0}}} + D_{1} L_{0}\\right)}$"
            ],
            "text/plain": [
              "Eq(A2, L0*S_0*(D0*L1 - D1*L0)/(2*D0*(D0*L1*exp(b/L0) - D0*L1 + D1*L0*exp(b/L0) + D1*L0)))"
            ]
          },
          "execution_count": 23,
          "metadata": {},
          "output_type": "execute_result"
        }
      ],
      "source": [
        "#A2\n",
        "sp.Eq(A2 , A2_Solution)"
      ]
    },
    {
      "cell_type": "code",
      "execution_count": 24,
      "metadata": {
        "colab": {
          "base_uri": "https://localhost:8080/",
          "height": 79
        },
        "id": "RCvJrU8PIgd7",
        "outputId": "30fe0ea4-7cb3-414b-9baa-3a181c5bbb37"
      },
      "outputs": [
        {
          "data": {
            "text/latex": [
              "$\\displaystyle B_{1} = \\frac{L_{1} \\left(- \\frac{L_{0} S_{0} \\left(D_{0} L_{1} - D_{1} L_{0}\\right) e^{\\frac{b}{L_{0}}}}{D_{0} L_{1} e^{\\frac{b}{L_{0}}} - D_{0} L_{1} + D_{1} L_{0} e^{\\frac{b}{L_{0}}} + D_{1} L_{0}} + \\frac{L_{0} S_{0} \\left(D_{0} L_{1} - D_{1} L_{0}\\right)}{D_{0} L_{1} e^{\\frac{b}{L_{0}}} - D_{0} L_{1} + D_{1} L_{0} e^{\\frac{b}{L_{0}}} + D_{1} L_{0}} + L_{0} S_{0}\\right) e^{\\frac{b}{2 L_{1}} - \\frac{b}{2 L_{0}}}}{2 D_{1} L_{0}}$"
            ],
            "text/plain": [
              "Eq(B1, L1*(-L0*S_0*(D0*L1 - D1*L0)*exp(b/L0)/(D0*L1*exp(b/L0) - D0*L1 + D1*L0*exp(b/L0) + D1*L0) + L0*S_0*(D0*L1 - D1*L0)/(D0*L1*exp(b/L0) - D0*L1 + D1*L0*exp(b/L0) + D1*L0) + L0*S_0)*exp(b/(2*L1) - b/(2*L0))/(2*D1*L0))"
            ]
          },
          "execution_count": 24,
          "metadata": {},
          "output_type": "execute_result"
        }
      ],
      "source": [
        "#B1\n",
        "sp.Eq(B1 , B1_Solution)"
      ]
    },
    {
      "cell_type": "code",
      "execution_count": 25,
      "metadata": {
        "colab": {
          "base_uri": "https://localhost:8080/",
          "height": 115
        },
        "id": "oecPfxGAIuab",
        "outputId": "979d9138-706d-41ac-e54e-113845a8f0e4"
      },
      "outputs": [
        {
          "name": "stdout",
          "output_type": "stream",
          "text": [
            "Solution for flux in region 1:\n",
            "\n"
          ]
        },
        {
          "data": {
            "text/latex": [
              "$\\displaystyle \\Psi_{0}{\\left(z \\right)} = \\left(\\frac{L_{0} S_{0} \\left(D_{0} L_{1} - D_{1} L_{0}\\right)}{2 D_{0} \\left(D_{0} L_{1} e^{\\frac{b}{L_{0}}} - D_{0} L_{1} + D_{1} L_{0} e^{\\frac{b}{L_{0}}} + D_{1} L_{0}\\right)} + \\frac{L_{0} S_{0}}{2 D_{0}}\\right) e^{- \\frac{z}{L_{0}}} + \\frac{L_{0} S_{0} \\left(D_{0} L_{1} - D_{1} L_{0}\\right) e^{\\frac{z}{L_{0}}}}{2 D_{0} \\left(D_{0} L_{1} e^{\\frac{b}{L_{0}}} - D_{0} L_{1} + D_{1} L_{0} e^{\\frac{b}{L_{0}}} + D_{1} L_{0}\\right)}$"
            ],
            "text/plain": [
              "Eq(Psi0(z), (L0*S_0*(D0*L1 - D1*L0)/(2*D0*(D0*L1*exp(b/L0) - D0*L1 + D1*L0*exp(b/L0) + D1*L0)) + L0*S_0/(2*D0))*exp(-z/L0) + L0*S_0*(D0*L1 - D1*L0)*exp(z/L0)/(2*D0*(D0*L1*exp(b/L0) - D0*L1 + D1*L0*exp(b/L0) + D1*L0)))"
            ]
          },
          "execution_count": 25,
          "metadata": {},
          "output_type": "execute_result"
        }
      ],
      "source": [
        "#Final Solution Flux region 1\n",
        "Final_Solution0 = New_Solution0.subs({A2:A2_Solution})\n",
        "print(\"Solution for flux in region 1:\\n\")\n",
        "Final_Solution0"
      ]
    },
    {
      "cell_type": "code",
      "execution_count": 26,
      "metadata": {
        "colab": {
          "base_uri": "https://localhost:8080/",
          "height": 114
        },
        "id": "9HUIFdXVJDNA",
        "outputId": "ab4d9c7a-dc16-4bca-9706-a8e339911938"
      },
      "outputs": [
        {
          "name": "stdout",
          "output_type": "stream",
          "text": [
            "Solution for flux in region 2:\n",
            "\n"
          ]
        },
        {
          "data": {
            "text/latex": [
              "$\\displaystyle \\Psi_{1}{\\left(z \\right)} = \\frac{L_{1} \\left(- \\frac{L_{0} S_{0} \\left(D_{0} L_{1} - D_{1} L_{0}\\right) e^{\\frac{b}{L_{0}}}}{D_{0} L_{1} e^{\\frac{b}{L_{0}}} - D_{0} L_{1} + D_{1} L_{0} e^{\\frac{b}{L_{0}}} + D_{1} L_{0}} + \\frac{L_{0} S_{0} \\left(D_{0} L_{1} - D_{1} L_{0}\\right)}{D_{0} L_{1} e^{\\frac{b}{L_{0}}} - D_{0} L_{1} + D_{1} L_{0} e^{\\frac{b}{L_{0}}} + D_{1} L_{0}} + L_{0} S_{0}\\right) e^{- \\frac{z}{L_{1}}} e^{\\frac{b}{2 L_{1}} - \\frac{b}{2 L_{0}}}}{2 D_{1} L_{0}}$"
            ],
            "text/plain": [
              "Eq(Psi1(z), L1*(-L0*S_0*(D0*L1 - D1*L0)*exp(b/L0)/(D0*L1*exp(b/L0) - D0*L1 + D1*L0*exp(b/L0) + D1*L0) + L0*S_0*(D0*L1 - D1*L0)/(D0*L1*exp(b/L0) - D0*L1 + D1*L0*exp(b/L0) + D1*L0) + L0*S_0)*exp(-z/L1)*exp(b/(2*L1) - b/(2*L0))/(2*D1*L0))"
            ]
          },
          "execution_count": 26,
          "metadata": {},
          "output_type": "execute_result"
        }
      ],
      "source": [
        "#Final Solution Flux region 2\n",
        "Final_Solution1 = New_Solution1.subs({B1:B1_Solution})\n",
        "print(\"Solution for flux in region 2:\\n\")\n",
        "Final_Solution1"
      ]
    },
    {
      "cell_type": "code",
      "execution_count": 27,
      "metadata": {
        "colab": {
          "base_uri": "https://localhost:8080/",
          "height": 265
        },
        "id": "Mxj6GqdLJPkH",
        "outputId": "2d9c5573-7c73-4b35-8c76-a4a13fae7989"
      },
      "outputs": [
        {
          "data": {
            "image/png": "[encoded data removed]",
            "text/plain": [
              "<Figure size 432x288 with 1 Axes>"
            ]
          },
          "metadata": {
            "needs_background": "light"
          },
          "output_type": "display_data"
        }
      ],
      "source": [
        "#Plotting\n",
        "Sigma_t0 = 0.25\n",
        "Sigma_s0 = 0.15\n",
        "Sigma_a_val0 = Sigma_t0 - Sigma_s\n",
        "\n",
        "Sigma_t1 = 0.22\n",
        "Sigma_s1= 0.18\n",
        "Sigma_a_val1 = Sigma_t1 - Sigma_s1\n",
        "\n",
        "D0 = 1/(3*Sigma_t0)\n",
        "D1 = 1/(3*Sigma_t1)\n",
        "L0 = sp.sqrt(D0/Sigma_a_val0).evalf()\n",
        "L1 = sp.sqrt(D1/Sigma_a_val1).evalf()\n",
        "\n",
        "b_val = 15 #cm\n",
        "\n",
        "Final_Solution0 = Final_Solution0.subs({So_new:So_val, L_new[0]:L0, L_new[1]:L1, b:b_val, D_new[0]:D0, D_new[1]:D1})\n",
        "Final_Solution1 = Final_Solution1.subs({So_new:So_val, L_new[0]:L0, L_new[1]:L1, b:b_val, D_new[0]:D0, D_new[1]:D1})\n",
        "\n",
        "Numpy_Solution0 = sp.lambdify(z,Final_Solution0.rhs, \"numpy\")\n",
        "Numpy_Solution1 = sp.lambdify(z,Final_Solution1.rhs, \"numpy\")\n",
        "\n",
        "distance1 = np.linspace(0,b_val/2,300)\n",
        "distance2 = np.linspace(0,10,300)\n",
        "\n",
        "Numpy_Solution0_Final = Numpy_Solution0(distance1)\n",
        "Numpy_Solution1_Final = Numpy_Solution1(distance2)\n",
        "\n",
        "graph = np.concatenate((Numpy_Solution0_Final,Numpy_Solution1_Final), axis=None)\n",
        "distance = np.concatenate((distance1,(distance1[-1]+distance2)), axis=None)\n",
        "plt.plot(distance,graph, color=\"red\")\n",
        "\n",
        "plt.vlines(distance1[-1], min(Numpy_Solution1_Final), max(Numpy_Solution0_Final) ,linestyle=\"-\", linewidth=1.5)\n",
        "plt.grid(\"gray\", linewidth=0.8, linestyle=\"--\")"
      ]
    },
    {
      "cell_type": "code",
      "execution_count": 32,
      "metadata": {
        "colab": {
          "base_uri": "https://localhost:8080/",
          "height": 265
        },
        "id": "qjAgEZcZRvj2",
        "outputId": "954cbdeb-245e-49d2-dda2-c7f5df01ece7"
      },
      "outputs": [
        {
          "data": {
            "image/png": "[encoded data removed]",
            "text/plain": [
              "<Figure size 432x288 with 1 Axes>"
            ]
          },
          "metadata": {
            "needs_background": "light"
          },
          "output_type": "display_data"
        }
      ],
      "source": [
        "distance1 = np.linspace(0,b_val/2,300)\n",
        "distance2 = np.linspace(b_val/2,15,300)\n",
        "distance3 = np.linspace(0,15,500)\n",
        "\n",
        "Numpy_Solution0_Final = Numpy_Solution0(distance1)\n",
        "Numpy_Solution1_Final = Numpy_Solution1(distance2)\n",
        "Numpy_Solution0_Final2 = Numpy_Solution0(distance3)\n",
        "\n",
        "graph = np.concatenate((Numpy_Solution0_Final,Numpy_Solution1_Final), axis=None)\n",
        "distance = np.concatenate((distance1,distance2), axis=None)\n",
        "plt.plot(distance,graph, color=\"red\")\n",
        "plt.plot(distance3,Numpy_Solution0_Final2, \"blue\")\n",
        "\n",
        "plt.vlines(distance1[-1], min(Numpy_Solution1_Final), max(Numpy_Solution0_Final) ,linestyle=\"-\", linewidth=1.5)\n",
        "plt.grid(\"gray\", linewidth=0.8, linestyle=\"--\")"
      ]
    }
  ],
  "metadata": {
    "colab": {
      "collapsed_sections": [],
      "name": "NeutronDiffusion_in_non_multiplying_media_(Finite_Slab_Geometries).ipynb",
      "provenance": []
    },
    "kernelspec": {
      "display_name": "Python 3",
      "name": "python3"
    },
    "language_info": {
      "name": "python"
    }
  },
  "nbformat": 4,
  "nbformat_minor": 0
}
