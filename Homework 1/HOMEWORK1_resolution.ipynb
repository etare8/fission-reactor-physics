{
  "cells": [
    {
      "cell_type": "markdown",
      "metadata": {
        "id": "i-uIHauPrsoF"
      },
      "source": [
        "# HOMEWORK 1"
      ]
    },
    {
      "cell_type": "code",
      "execution_count": null,
      "metadata": {
        "id": "vPJ9VbCavsGR"
      },
      "outputs": [],
      "source": [
        "import sympy as sp\n",
        "import numpy as np\n",
        "import matplotlib.pyplot as plt"
      ]
    },
    {
      "cell_type": "markdown",
      "metadata": {
        "id": "EEXHRKdHsHUe"
      },
      "source": [
        "# QUESTION 1\n",
        "\n",
        "*Consider an homogeneous multiplying material. We want to build a critical system (without the reflector). Neglecting the extrapolated length, find which configuration allows reaching criticality with the minimum amount of material (select between spherical, cylindrical with height equal to the diameter, cubic).*\n",
        "\n",
        "**RESOLUTION:**\n",
        "\n",
        "We are discussing about criticality condition, so the main assumption we have to make is that the *Geometrical Buckling* and the *Material Buckling* are equal as follow:\n",
        "\n",
        "\\begin{equation}\n",
        " B_g^{2} = B_m^{2} \\equiv \\frac{\\nu \\Sigma_f - \\Sigma_a}{D}\n",
        "\\end{equation}\n",
        "\n",
        "The three systems are made of the same material so all the three *Geometrical Bucklings* are equal. We can compare *Critical Masses* by expressing characteristic lenghts in function of *Geometrical Buckling*; since density is associated to the material, the comparison can be done by taking into account the three Volumes."
      ]
    },
    {
      "cell_type": "code",
      "execution_count": null,
      "metadata": {
        "id": "U2lajC7Nvqj2"
      },
      "outputs": [],
      "source": [
        "#Variables\n",
        "\n",
        "nu0 = sp.Symbol(\"nu_0\", positive=True)\n",
        "nu0_val = 2.405\n",
        "Bg_sphere, Bg_cylinder, Bg_cube, Bg = sp.symbols(\"Bg_sphere, Bg_cylinder, Bg_cube, B_g\", positive=True)\n",
        "\n",
        "R_s = sp.Symbol(\"R_s\", positive=True)\n",
        "R_c, H_c = sp.symbols(\"R_c, H_c\", positive=True)\n",
        "a, b, c, l = sp.symbols(\"a, b, c, l\", positive=True)\n",
        "\n",
        "V_sphere, V_cylinder, V_cube = sp.symbols(\"V_sphere, V_cylinder, V_cube\", positive=True)"
      ]
    },
    {
      "cell_type": "code",
      "execution_count": null,
      "metadata": {
        "colab": {
          "base_uri": "https://localhost:8080/"
        },
        "id": "if40wbZgxNSF",
        "outputId": "37359ae6-66fe-4465-fceb-4722ecab4bba"
      },
      "outputs": [
        {
          "name": "stdout",
          "output_type": "stream",
          "text": [
            "Volume of the Sphere:\n",
            "\n"
          ]
        },
        {
          "data": {
            "text/latex": [
              "$\\displaystyle V_{sphere} = \\frac{4 \\pi^{4}}{3 Bg_{sphere}^{3}}$"
            ],
            "text/plain": [
              "Eq(V_sphere, 4*pi**4/(3*Bg_sphere**3))"
            ]
          },
          "execution_count": 4,
          "metadata": {},
          "output_type": "execute_result"
        }
      ],
      "source": [
        "#Sphere\n",
        "\n",
        "Geom_Buckling_Eq1 = sp.Eq(Bg_sphere**2, (sp.pi/R_s)**2)\n",
        "Solution_Rs = sp.solve(Geom_Buckling_Eq1, R_s)[0]\n",
        "\n",
        "Volume_Sphere = sp.Rational(4,3) * sp.pi * Solution_Rs**3\n",
        "\n",
        "print(\"Volume of the Sphere:\\n\")\n",
        "sp.Eq(V_sphere, Volume_Sphere)"
      ]
    },
    {
      "cell_type": "code",
      "execution_count": null,
      "metadata": {
        "colab": {
          "base_uri": "https://localhost:8080/"
        },
        "id": "4JTpDPWn_ZRO",
        "outputId": "c902acfa-49b4-4a22-97d4-a3b458610f0c"
      },
      "outputs": [
        {
          "name": "stdout",
          "output_type": "stream",
          "text": [
            "Volume of the Cylinder:\n",
            "\n"
          ]
        },
        {
          "data": {
            "text/latex": [
              "$\\displaystyle V_{cylinder} = \\frac{\\pi \\left(4 \\nu_{0}^{2} + \\pi^{2}\\right)^{\\frac{3}{2}}}{4 Bg_{cylinder}^{3}}$"
            ],
            "text/plain": [
              "Eq(V_cylinder, pi*(4*nu_0**2 + pi**2)**(3/2)/(4*Bg_cylinder**3))"
            ]
          },
          "execution_count": 5,
          "metadata": {},
          "output_type": "execute_result"
        }
      ],
      "source": [
        "#Cylinder\n",
        "\n",
        "Geom_Buckling_Eq2 = sp.Eq(Bg_cylinder**2, (nu0/R_c)**2 + (sp.pi/H_c)**2)\n",
        "Geom_Buckling_Eq2 = Geom_Buckling_Eq2.subs({R_c:H_c/2})\n",
        "Solution_Hc = sp.solve(Geom_Buckling_Eq2, H_c)[0]\n",
        "\n",
        "Volume_Cylinder = H_c * (sp.pi * R_c**2) #general problem H!=D\n",
        "Volume_Cylinder = Volume_Cylinder.subs({R_c:H_c/2})\n",
        "Volume_Cylinder = Volume_Cylinder.subs({H_c:Solution_Hc})\n",
        "\n",
        "print(\"Volume of the Cylinder:\\n\")\n",
        "sp.Eq(V_cylinder, Volume_Cylinder)"
      ]
    },
    {
      "cell_type": "code",
      "execution_count": null,
      "metadata": {
        "colab": {
          "base_uri": "https://localhost:8080/"
        },
        "id": "WZGVi7gqEvTF",
        "outputId": "1e58909d-6e92-4f04-af13-7beb891bfa16"
      },
      "outputs": [
        {
          "name": "stdout",
          "output_type": "stream",
          "text": [
            "Volume of the Cube:\n",
            "\n"
          ]
        },
        {
          "data": {
            "text/latex": [
              "$\\displaystyle V_{cube} = \\frac{3 \\sqrt{3} \\pi^{3}}{Bg_{cube}^{3}}$"
            ],
            "text/plain": [
              "Eq(V_cube, 3*sqrt(3)*pi**3/Bg_cube**3)"
            ]
          },
          "execution_count": 6,
          "metadata": {},
          "output_type": "execute_result"
        }
      ],
      "source": [
        "#Cube\n",
        "\n",
        "Geom_Buckling_Eq3 = sp.Eq(Bg_cube**2, (sp.pi/a)**2 + (sp.pi/b)**2 + (sp.pi/c)**2)\n",
        "Geom_Buckling_Eq3 = Geom_Buckling_Eq3.subs({a:l, b:l, c:l})\n",
        "Solution_l = sp.solve(Geom_Buckling_Eq3, l)[0]\n",
        "\n",
        "Volume_parallel = a*b*c #general problem a!=b!=c\n",
        "Volume_Cube = Volume_parallel.subs({a:l, b:l, c:l})\n",
        "Volume_Cube = Volume_Cube.subs(l,Solution_l)\n",
        "\n",
        "print(\"Volume of the Cube:\\n\")\n",
        "sp.Eq(V_cube, Volume_Cube)"
      ]
    },
    {
      "cell_type": "code",
      "execution_count": null,
      "metadata": {
        "colab": {
          "base_uri": "https://localhost:8080/"
        },
        "id": "Nl9A8-gfGgje",
        "outputId": "06664441-7d76-4d88-b9ea-42993343072e"
      },
      "outputs": [
        {
          "name": "stdout",
          "output_type": "stream",
          "text": [
            "Values of the three volumes:\n",
            "\n",
            "Volume Sphere:  129.878788045337/B_g**3\n",
            "\n",
            "Volume Cylinder:  148.926982497593/B_g**3\n",
            "\n",
            "Volume Cube:  161.113339691452/B_g**3\n",
            "\n",
            "\n",
            "The configuration for the system that involves the minimum amount of material is the <spherical configuration>!\n"
          ]
        }
      ],
      "source": [
        "#Comparison between volumes imposing Bg equal in the three cases\n",
        "Volume_Sphere = Volume_Sphere.subs({Bg_sphere: Bg}).evalf()\n",
        "Volume_Cylinder = Volume_Cylinder.subs({Bg_cylinder: Bg, nu0:nu0_val}).evalf()\n",
        "Volume_Cube = Volume_Cube.subs(Bg_cube, Bg).evalf()\n",
        "\n",
        "print(\"Values of the three volumes:\")\n",
        "print(\"\\nVolume Sphere:  \"+str(Volume_Sphere))\n",
        "print(\"\\nVolume Cylinder:  \"+str(Volume_Cylinder))\n",
        "print(\"\\nVolume Cube:  \"+str(Volume_Cube))\n",
        "print(\"\\n\\nThe configuration for the system that involves the minimum amount of material is the <spherical configuration>!\")"
      ]
    },
    {
      "cell_type": "markdown",
      "metadata": {
        "id": "-V6NTZaYJr66"
      },
      "source": [
        "# QUESTION 2\n",
        "\n",
        "*Determine the critical composition and the flux of a finite slab reactor with a width of 50cm, composed of a homogeneous mixture of* ${^{235}U}$ *and* ${H_{2}O}$,*surrounded by an infinite reflector made of . Both the reflector and the core operate at a temperature of* $\\bar T = 60°C$. *This reactor has a power density of* $q'''=25 \\frac{W}{cm^{3}}$. *Assume thermal energies only*, $\\nu=2.44$ *and* $\\rho_{H_2 O} = 1\\frac{g}{cm^{3}}$. *Use also the following data:*\n",
        "\n",
        "*  $D_r = 0.16 cm$\n",
        "*  $B_c = 0.05624 cm^{-1}$\n",
        "\n",
        "*Assume also* $D_c\\simeq D_r$ *(diluted fuel).*\n",
        "\n",
        "*As most tables report values of the Microscopic Cross-Section at 20°C, we have to apply the following formula to take into account* $\\bar T = 60°C$.\n",
        "\n",
        "\n",
        "\n",
        "**RESOLUTION:**\n",
        "\n",
        "Let's illustrate now the first approach to the problem of a slab reactor with a nonmultiplying reflector material. We will characterize the core region with the letter C and the reflector region with letter R.\n",
        "\n",
        "The goal of the problem is to compute the flux in the reactor; to obtain the analytical expression for the flux, we have to solve the equations in the Core and Reflector region. We consider a slab reactor of width $l=50cm$ and an infinite reflector. The equations to solve are:\n",
        "\n",
        "**EQUATIONS:**\n",
        "\\begin{aligned}\n",
        " &\\\\\n",
        " Core:\\;\\;\\;\\;&D^{C}\\frac{d^{2}\\phi^{C}(x)}{d x^{2}} + \n",
        " (\\nu\\Sigma_{f}^{C} - \\Sigma_{a}^{C})\\phi^{C}(x) = 0 \n",
        " \\;\\;\\;\\;\\;;\\;\\;\\;\\;\\;0\\leq x \\leq \\frac{l}{2} \\\\\n",
        " &\\\\\n",
        " Reflector:\\;\\;\\;\\;&D^{R}\\frac{d^{2}\\phi^{R}(x)}{d x^{2}} - \\Sigma_{a}^{R}\\phi^{R}(x) = 0 \\;\\;\\;\\;\\;;\\;\\;\\;\\;\\;\\frac{l}{2} \\leq x \\leq \\infty \\\\\n",
        " &\\\\\n",
        "\\end{aligned}\n",
        "\n",
        "**BOUNDARY CONDITIONS**\n",
        "\\begin{aligned}\n",
        " &\\\\\n",
        " Interface:\\;\\;\\;\\;&(a)\\;\\;\\;\\;\\phi^{C}(\\frac{l}{2}) = \\phi^{R}(\\frac{l}{2})\\\\\n",
        " &\\\\\n",
        " \\;\\;\\;\\;\\;\\;\\;\\;\\;&(b)\\;\\;\\;\\;J^{C}(\\frac{l}{2}) = J^{R}(\\frac{l}{2})\\\\\n",
        " &\\\\\n",
        " Infinite:\\;\\;\\;\\;&(c)\\;\\;\\;\\;\\phi^{R}(x \\rightarrow \\infty) < \\infty\\\\\n",
        " &\\\\\n",
        "\\end{aligned}\n",
        "\n",
        "The solutions to these kind of differential equations are well known to be in the form of Cosine - Sine for what concers the Core Equation, and in the form of exponentials for what concers the Reflector Equation.\n",
        "\n",
        "**SOLUTIONS:**\n",
        "\n",
        "\\begin{aligned}\n",
        " &\\\\\n",
        " Core:\\;\\;\\;\\;&\\phi^C(x) = A_C\\;cos(B_{m}^{C}\\,x) + B_C\\;sin(B_{m}^{C}\\,x) \\\\\n",
        " &\\\\\n",
        " Reflector:\\;\\;\\;\\;&\\phi^R(x) = A_R\\;exp(-\\frac{x}{L_R^2}) + \n",
        " B_R\\;exp(\\frac{x}{L_R^2}) \\\\\n",
        " &\\\\\n",
        "\\end{aligned}\n",
        "\n",
        "\n",
        "(the other passages will be described along with the relative script)."
      ]
    },
    {
      "cell_type": "code",
      "execution_count": null,
      "metadata": {
        "id": "skqn1abB5e-k"
      },
      "outputs": [],
      "source": [
        "#Data\n",
        "\n",
        "l_val = 50#cm\n",
        "Tbar_val = 60#°C\n",
        "nubar_val = 2.44\n",
        "rho_H2O_val = 1#g/cm3\n",
        "Dc_val = 0.16#cm\n",
        "Dr_val = 0.16#cm\n",
        "Bc_val = 0.05624#cm^-1\n",
        "M_235_val = 235.043924#g/mol\n",
        "M_H2O_val = 18.016#g/mol\n",
        "Nav_val = 6.022*10**23 #atm/mol\n",
        "sigmaa_H2O_zero = 0.66*10**-24#cm^2\n",
        "sigmaf_235_zero = 577*10**-24#cm^2\n",
        "sigmaa_235_zero = 678*10**-24#cm^-2 (577 + 101)\n",
        "EnergyXfission = 192.9#MeV/fission\n",
        "ConvCoeff = 1.602176565*10**-19#J/ev\n",
        "q3_val = 25#W/cm3\n",
        "\n",
        "\n",
        "#Variables and Functions\n",
        "\n",
        "x, h, k = sp.symbols(\"x, h, k\")\n",
        "\n",
        "Dc, Dr, Sigmaf_c, Sigmaa_c, Sigmaa_r,Sigmaa_235, nubar, l = sp.symbols(\"D^{C}, D^{R}, \\Sigma_{f}^{C}, \\Sigma_{a}^{C}, \\Sigma_{a}^{R},\\Sigma_{a}^{235}, nu, l\")\n",
        "\n",
        "rho_H2O, N_235, N_H2O, M_235, M_H2O, sigmaf_235, sigmaa_235, sigmaa_H2O, Nav = sp.symbols(\"rho_H2O, N_235, N_H2O, M_235, M_H2O, sigma_{f}^{235}, sigma_{a}^{235} sigma_H2O, N_AV\")\n",
        "\n",
        "\n",
        "Bc, Lr = sp.symbols(\"B_{m}^{C}, L^{R}\")  #Bc Material Buckling for the core region\n",
        "\n",
        "Ac, Ar, Br = sp.symbols(\"A_C, A_R, B_R\") #Constants in the equations\n",
        "C1, C2 = sp.symbols(\"C1,C2\")\n",
        "\n",
        "PhiC, PhiR = sp.symbols(\"Phi_C, Phi_R\", cls=sp.Function) #Fluxes\n",
        "Jc, Jr = sp.symbols(\"J_C, J_R\", cls=sp.Function)          #Currents"
      ]
    },
    {
      "cell_type": "code",
      "execution_count": null,
      "metadata": {
        "colab": {
          "base_uri": "https://localhost:8080/",
          "height": 54
        },
        "id": "SR4sGJ4Y_7yb",
        "outputId": "ef140dba-85b2-4524-a035-e83d73e4f486"
      },
      "outputs": [
        {
          "data": {
            "text/latex": [
              "$\\displaystyle \\left(B_{m}^{C}\\right)^{2} \\Phi_{C}{\\left(x \\right)} + \\frac{d^{2}}{d x^{2}} \\Phi_{C}{\\left(x \\right)} = 0$"
            ],
            "text/plain": [
              "Eq(B_{m}^{C}**2*Phi_C(x) + Derivative(Phi_C(x), (x, 2)), 0)"
            ]
          },
          "execution_count": 9,
          "metadata": {},
          "output_type": "execute_result"
        }
      ],
      "source": [
        "#Core Equation\n",
        "Core_Equation = sp.Eq(PhiC(x).diff(x,2) + (Bc**2)*PhiC(x) , 0)\n",
        "Core_Equation"
      ]
    },
    {
      "cell_type": "code",
      "execution_count": null,
      "metadata": {
        "colab": {
          "base_uri": "https://localhost:8080/",
          "height": 39
        },
        "id": "deCAHWvcA43-",
        "outputId": "7c71f372-6db4-46a5-a7ea-f4c974a421f1"
      },
      "outputs": [
        {
          "data": {
            "text/latex": [
              "$\\displaystyle \\Phi_{C}{\\left(x \\right)} = A_{C} \\cos{\\left(B_{m}^{C} x \\right)}$"
            ],
            "text/plain": [
              "Eq(Phi_C(x), A_C*cos(B_{m}^{C}*x))"
            ]
          },
          "execution_count": 10,
          "metadata": {},
          "output_type": "execute_result"
        }
      ],
      "source": [
        "#Core Solution - we take only the cosine to maintain the simmetry of the problem\n",
        "Core_Solution = sp.Eq(PhiC(x) , Ac*sp.cos(Bc*x))\n",
        "Core_Solution"
      ]
    },
    {
      "cell_type": "code",
      "execution_count": null,
      "metadata": {
        "colab": {
          "base_uri": "https://localhost:8080/",
          "height": 61
        },
        "id": "NKobYpabCzvw",
        "outputId": "675a76aa-7526-46b7-ff8c-e2d6f2c2e74a"
      },
      "outputs": [
        {
          "data": {
            "text/latex": [
              "$\\displaystyle \\frac{d^{2}}{d x^{2}} \\Phi_{R}{\\left(x \\right)} - \\frac{\\Phi_{R}{\\left(x \\right)}}{\\left(L^{R}\\right)^{2}} = 0$"
            ],
            "text/plain": [
              "Eq(Derivative(Phi_R(x), (x, 2)) - Phi_R(x)/L^{R}**2, 0)"
            ]
          },
          "execution_count": 11,
          "metadata": {},
          "output_type": "execute_result"
        }
      ],
      "source": [
        "#Reflector Equation\n",
        "Reflector_Equation = sp.Eq(PhiR(x).diff(x,2) - (1/(Lr**2))*PhiR(x) , 0)\n",
        "Reflector_Equation"
      ]
    },
    {
      "cell_type": "code",
      "execution_count": null,
      "metadata": {
        "colab": {
          "base_uri": "https://localhost:8080/",
          "height": 40
        },
        "id": "6_R6ncFpDMro",
        "outputId": "b2525ab6-baa0-48d1-c9cc-d788d5fe1d7c"
      },
      "outputs": [
        {
          "data": {
            "text/latex": [
              "$\\displaystyle \\Phi_{R}{\\left(x \\right)} = A_{R} e^{- \\frac{x}{L^{R}}} + B_{R} e^{\\frac{x}{L^{R}}}$"
            ],
            "text/plain": [
              "Eq(Phi_R(x), A_R*exp(-x/L^{R}) + B_R*exp(x/L^{R}))"
            ]
          },
          "execution_count": 12,
          "metadata": {},
          "output_type": "execute_result"
        }
      ],
      "source": [
        "#Reflector Solution\n",
        "Reflector_Solution = sp.dsolve(Reflector_Equation , PhiR(x))\n",
        "Reflector_Solution = Reflector_Solution.subs({C1:Ar, C2:Br})\n",
        "Reflector_Solution"
      ]
    },
    {
      "cell_type": "code",
      "execution_count": null,
      "metadata": {
        "colab": {
          "base_uri": "https://localhost:8080/",
          "height": 40
        },
        "id": "6gKYwkv9DzC1",
        "outputId": "949a9144-0bb1-4d20-c026-de9ed1bc6536"
      },
      "outputs": [
        {
          "data": {
            "text/latex": [
              "$\\displaystyle \\Phi_{R}{\\left(x \\right)} = A_{R} e^{- \\frac{x}{L^{R}}}$"
            ],
            "text/plain": [
              "Eq(Phi_R(x), A_R*exp(-x/L^{R}))"
            ]
          },
          "execution_count": 13,
          "metadata": {},
          "output_type": "execute_result"
        }
      ],
      "source": [
        "#Imposing BC (c) - Br=0\n",
        "Reflector_Solution = Reflector_Solution.subs(Br,0)\n",
        "Reflector_Solution"
      ]
    },
    {
      "cell_type": "code",
      "execution_count": null,
      "metadata": {
        "colab": {
          "base_uri": "https://localhost:8080/",
          "height": 59
        },
        "id": "o9lYCqKVEZcn",
        "outputId": "84908c57-66b6-4d1c-9277-a4127d54c729"
      },
      "outputs": [
        {
          "data": {
            "text/latex": [
              "$\\displaystyle A_{C} \\cos{\\left(\\frac{B_{m}^{C} l}{2} \\right)} = A_{R} e^{- \\frac{l}{2 L^{R}}}$"
            ],
            "text/plain": [
              "Eq(A_C*cos(B_{m}^{C}*l/2), A_R*exp(-l/(2*L^{R})))"
            ]
          },
          "execution_count": 14,
          "metadata": {},
          "output_type": "execute_result"
        }
      ],
      "source": [
        "#Imposing BC (a) - equal fluxes at the Interface\n",
        "Flux_CoreInt = Core_Solution.subs(x,(l/2))\n",
        "Flux_ReflInt = Reflector_Solution.subs(x,(l/2))\n",
        "Fluxes_Int_Equation = sp.Eq(Flux_CoreInt.rhs , Flux_ReflInt.rhs)\n",
        "Fluxes_Int_Equation"
      ]
    },
    {
      "cell_type": "code",
      "execution_count": null,
      "metadata": {
        "colab": {
          "base_uri": "https://localhost:8080/",
          "height": 59
        },
        "id": "jnNBsumvGOtX",
        "outputId": "8d40f41a-58da-4e5d-de74-a638e59f05f4"
      },
      "outputs": [
        {
          "data": {
            "text/latex": [
              "$\\displaystyle \\operatorname{J_{C}}{\\left(\\frac{l}{2} \\right)} = A_{C} B_{m}^{C} D^{C} \\sin{\\left(\\frac{B_{m}^{C} l}{2} \\right)}$"
            ],
            "text/plain": [
              "Eq(J_C(l/2), A_C*B_{m}^{C}*D^{C}*sin(B_{m}^{C}*l/2))"
            ]
          },
          "execution_count": 15,
          "metadata": {},
          "output_type": "execute_result"
        }
      ],
      "source": [
        "#Imposing BC (b) - equal currents at the Interface\n",
        "\n",
        "#Core Current\n",
        "Current_Core = - Dc * Core_Solution.rhs.diff(x)\n",
        "Current_Core_Int = Current_Core.subs(x,(l/2))\n",
        "sp.Eq(Jc(l/2) , Current_Core_Int)"
      ]
    },
    {
      "cell_type": "code",
      "execution_count": null,
      "metadata": {
        "colab": {
          "base_uri": "https://localhost:8080/",
          "height": 63
        },
        "id": "RP99rW3-ILjc",
        "outputId": "3d4fb2b8-b488-4436-b104-667b2013aa1a"
      },
      "outputs": [
        {
          "data": {
            "text/latex": [
              "$\\displaystyle \\operatorname{J_{R}}{\\left(\\frac{l}{2} \\right)} = \\frac{A_{R} D^{R} e^{- \\frac{l}{2 L^{R}}}}{L^{R}}$"
            ],
            "text/plain": [
              "Eq(J_R(l/2), A_R*D^{R}*exp(-l/(2*L^{R}))/L^{R})"
            ]
          },
          "execution_count": 16,
          "metadata": {},
          "output_type": "execute_result"
        }
      ],
      "source": [
        "#Reflector Current\n",
        "Current_Reflector = - Dr * Reflector_Solution.rhs.diff(x)\n",
        "Current_Reflector_Int = Current_Reflector.subs(x,(l/2))\n",
        "sp.Eq(Jr(l/2) , Current_Reflector_Int)"
      ]
    },
    {
      "cell_type": "code",
      "execution_count": null,
      "metadata": {
        "colab": {
          "base_uri": "https://localhost:8080/",
          "height": 63
        },
        "id": "l5aqE_c_Is-u",
        "outputId": "cd59d1d6-af8c-4d07-f74c-ea4e4a04fa66"
      },
      "outputs": [
        {
          "data": {
            "text/latex": [
              "$\\displaystyle A_{C} B_{m}^{C} D^{C} \\sin{\\left(\\frac{B_{m}^{C} l}{2} \\right)} = \\frac{A_{R} D^{R} e^{- \\frac{l}{2 L^{R}}}}{L^{R}}$"
            ],
            "text/plain": [
              "Eq(A_C*B_{m}^{C}*D^{C}*sin(B_{m}^{C}*l/2), A_R*D^{R}*exp(-l/(2*L^{R}))/L^{R})"
            ]
          },
          "execution_count": 17,
          "metadata": {},
          "output_type": "execute_result"
        }
      ],
      "source": [
        "Currents_Int_Equation = sp.Eq(Current_Core_Int , Current_Reflector_Int)\n",
        "Currents_Int_Equation"
      ]
    },
    {
      "cell_type": "code",
      "execution_count": null,
      "metadata": {
        "colab": {
          "base_uri": "https://localhost:8080/",
          "height": 124
        },
        "id": "x-gI9FRBJo64",
        "outputId": "3408327b-44b7-4e85-a24c-6af4c5af20bb"
      },
      "outputs": [
        {
          "name": "stdout",
          "output_type": "stream",
          "text": [
            "LHS Member: B_{m}^{C}*D^{C}*sin(B_{m}^{C}*l/2)/cos(B_{m}^{C}*l/2)\n",
            "\n",
            "RHS Member: D^{R}/L^{R}\n",
            "\n"
          ]
        },
        {
          "data": {
            "text/latex": [
              "$\\displaystyle \\tan{\\left(h \\right)} = \\frac{D^{R} l}{2 D^{C} L^{R} h}$"
            ],
            "text/plain": [
              "Eq(tan(h), D^{R}*l/(2*D^{C}*L^{R}*h))"
            ]
          },
          "execution_count": 18,
          "metadata": {},
          "output_type": "execute_result"
        }
      ],
      "source": [
        "#Currents Equation / Fluxes Equation to obtain the trascendental equation\n",
        "\n",
        "LHS_Member = (Current_Core_Int / Flux_CoreInt.rhs)\n",
        "RHS_Member = (Current_Reflector_Int / Flux_ReflInt.rhs)\n",
        "print(\"LHS Member: \" + str(LHS_Member) + \"\\n\")\n",
        "print(\"RHS Member: \" + str(RHS_Member) + \"\\n\")\n",
        "\n",
        "#I introduce h that substitutes Bc*(l/2) that is contained in LHS brackets to express better the equation\n",
        "\n",
        "RHS_Member = (RHS_Member/(Dc*Bc)) * (l/2)*(Bc/h)\n",
        "\n",
        "LHS_Member = LHS_Member/(Dc*Bc)\n",
        "LHS_Member = LHS_Member.subs((Bc*l/2),h)\n",
        "LHS_Member = LHS_Member.subs(sp.sin(h)/sp.cos(h) , sp.tan(h))\n",
        "sp.Eq(LHS_Member , RHS_Member)"
      ]
    },
    {
      "cell_type": "markdown",
      "metadata": {
        "id": "1f1VwkW7Nszo"
      },
      "source": [
        "This solution represents a *Trascendental Equation* that we can solve by plotting the two sides and observing the intersection point between the curves. We have all the data in this equation with the exeption of $L^{R}$, that we will compute below. Since we know all the parameters, it is not necessary to work on this equation for what concerns the goal of the excercise, but I decided to try to observe the curve just to check if the method is consistent with the data than we have for $B_{m}^{C}$.\n",
        "\n",
        "In order to compute $L^{R}$ we need to know Atomic Density $N_{H_2 O}$ and the Microscopic cross-section $\\sigma_{a}^{H_2 O}$.\n",
        "\n",
        "We can compute $\\sigma_{a}^{H_2 O}$ as follow:\n",
        "\\begin{equation}\n",
        " \\sigma_{a}^{H_2 O} = \\sigma_{a_{0}}^{H_2 O}  (\\frac{T_0}{\\bar T})^{\\frac{1}{2}}\n",
        "\\end{equation}\n",
        "\n",
        "We can follow the following procedure to compute $L^{R}$:\n",
        "\\begin{aligned}\n",
        "&\\\\\n",
        "&N_{H_2 O} = \\rho_{H_2 O}\\;\\frac{N_{AV}}{M_{H_2 O}} \\\\\n",
        "&\\\\\n",
        "&\\Sigma_{a}^{R} = N_{H_2 O}\\;\\;\\sigma_{a}^{H_2 O}\n",
        "&\\\\\n",
        "&\\\\\n",
        "&L^{R} = \\sqrt{\\frac{D^{R}}{\\Sigma_{a}^{R}}}\n",
        "&\\\\\n",
        "\\end{aligned}"
      ]
    },
    {
      "cell_type": "code",
      "execution_count": null,
      "metadata": {
        "colab": {
          "base_uri": "https://localhost:8080/"
        },
        "id": "-pjDDI_kQd2O",
        "outputId": "57235136-d10c-4636-d5e5-a10820b4f49c"
      },
      "outputs": [
        {
          "name": "stdout",
          "output_type": "stream",
          "text": [
            "EXPRESSIONS:\n",
            "\n",
            "Atomic Densisty of Water: N_AV*rho_H2O/M_H2O\n",
            "Macroscopic Sigma Absorption of Reflector region: N_AV*rho_H2O*sigma_H2O/M_H2O\n",
            "Diffusion Lenght for Reflector Region: sqrt(D^{R}*M_H2O/(N_AV*rho_H2O*sigma_H2O))\n",
            "\n",
            "VALUES:\n",
            "\n",
            "Atomic Densisty of Water: 3.3425843694493783e+22 atm/cm3\n",
            "Microscopic Absorption Cross-section for Water: 6.190926228567707e-25 cm^2\n",
            "Macroscopic Sigma Absorption of Reflector region: 0.020693693244024605 cm^-1\n",
            "Diffusion Lenght for Reflector Region: 2.78061581064807 cm\n"
          ]
        }
      ],
      "source": [
        "Atomic_Density_H2O = rho_H2O * (Nav/M_H2O)\n",
        "Sigmaa_r_exp = Atomic_Density_H2O * sigmaa_H2O\n",
        "Lr_exp = sp.sqrt(Dr/Sigmaa_r_exp)\n",
        "\n",
        "print(\"EXPRESSIONS:\\n\")\n",
        "print(\"Atomic Densisty of Water: \" + str(Atomic_Density_H2O))\n",
        "print(\"Macroscopic Sigma Absorption of Reflector region: \" + str(Sigmaa_r_exp))\n",
        "print(\"Diffusion Lenght for Reflector Region: \" + str(Lr_exp))\n",
        "\n",
        "sigmaa_H2O_val = sigmaa_H2O_zero*(293/333)**(1/2)\n",
        "Atomic_Density_H2O_val = rho_H2O_val * (Nav_val/M_H2O_val)\n",
        "Sigmaa_r_val = Atomic_Density_H2O_val * sigmaa_H2O_val\n",
        "Lr_val = sp.sqrt(Dr_val/Sigmaa_r_val).evalf()\n",
        "\n",
        "print(\"\\nVALUES:\\n\")\n",
        "print(\"Atomic Densisty of Water: \" + str(Atomic_Density_H2O_val) + \" atm/cm3\")\n",
        "print(\"Microscopic Absorption Cross-section for Water: \" + str(sigmaa_H2O_val) + \" cm^2\")\n",
        "print(\"Macroscopic Sigma Absorption of Reflector region: \" + str(Sigmaa_r_val) + \" cm^-1\")\n",
        "print(\"Diffusion Lenght for Reflector Region: \" + str(Lr_val) + \" cm\")"
      ]
    },
    {
      "cell_type": "markdown",
      "metadata": {
        "id": "gNrDRbzWfXWz"
      },
      "source": [
        "Graphically we obtain a value for $h$ such that the condition $h < \\frac{\\pi}{2}$ is valid !!"
      ]
    },
    {
      "cell_type": "code",
      "execution_count": null,
      "metadata": {
        "colab": {
          "base_uri": "https://localhost:8080/",
          "height": 529
        },
        "id": "ZTRp48FeYzmi",
        "outputId": "186c9864-f3ca-4221-992f-91019ee93b61"
      },
      "outputs": [
        {
          "name": "stdout",
          "output_type": "stream",
          "text": [
            "Equation evaluated: Eq(tan(h), 8.99081415859938/h)\n",
            "\n",
            "Value of h from data: 1.406\n",
            "\n"
          ]
        },
        {
          "data": {
            "text/plain": [
              "<matplotlib.legend.Legend at 0x7fc54a178410>"
            ]
          },
          "execution_count": 20,
          "metadata": {},
          "output_type": "execute_result"
        },
        {
          "data": {
            "image/png": "[encoded data removed]",
            "text/plain": [
              "<Figure size 660x440 with 1 Axes>"
            ]
          },
          "metadata": {
            "needs_background": "light"
          },
          "output_type": "display_data"
        }
      ],
      "source": [
        "#Back to trascendent equation\n",
        "RHS_Member = RHS_Member.subs({Dr:Dr_val, Dc:Dc_val, Lr:Lr_val, l:l_val})\n",
        "print(\"Equation evaluated: \" + str(sp.Eq(LHS_Member , RHS_Member)))\n",
        "print(\"\\nValue of h from data: \" + str(Bc_val * l_val / 2) + \"\\n\")\n",
        "\n",
        "k = np.linspace(1,2,100)\n",
        "\n",
        "LHS1 = sp.lambdify(h, LHS_Member)\n",
        "LHS2 = LHS1(k)\n",
        "RHS1 = sp.lambdify(h, RHS_Member)\n",
        "RHS2 = RHS1(k)\n",
        "\n",
        "plt.figure(figsize=[6,4], dpi=110)\n",
        "plt.plot(k, LHS2, \"royalblue\", label=\"LHS\")\n",
        "plt.plot(k, RHS2, \"forestgreen\", label=\"RHS\")\n",
        "\n",
        "plt.xlabel('h', fontsize=11, fontstyle=\"italic\")\n",
        "plt.ylabel('LHS & RHS', fontsize=11, fontstyle=\"italic\")\n",
        "plt.title('LHS and RHS Term', fontsize=12, fontstyle=\"italic\")\n",
        "\n",
        "plt.grid(\"gray\",linestyle = \"-\", linewidth=0.3)\n",
        "plt.scatter((Bc_val * l_val / 2) , RHS1(Bc_val * l_val / 2), marker=\"o\", color=\"black\", label=\"'h' from data\")\n",
        "plt.xticks(size=8)\n",
        "plt.yticks(size=8)\n",
        "plt.legend(fontsize=8)"
      ]
    },
    {
      "cell_type": "markdown",
      "metadata": {
        "id": "xb1Qt2-SrvAr"
      },
      "source": [
        "The firt goal of QUESTION 2 is the Critical Composition of the slab reactor. We know $B_{m}^{C}$, $D^{C}$, $D^{R}$, $\\Sigma_{a}^{R}$ (and $L^{R}$). We are able to compute the ratio between the Atomic Densities of $H_2 O$ and $^{235}U$.\n",
        "\n",
        "We know the expression of the Material Buckling that we recall:\n",
        "\n",
        "\\begin{equation}\n",
        "\\\\\n",
        " (B_m^{C})^{2} \\equiv \\frac{\\nu \\Sigma_{f}^{235} - \\Sigma_{a}^{C}}{D^{C}}\n",
        "\\\\\n",
        "\\end{equation}\n",
        "\n",
        "Since fission is only determined by $^{235}U$, the $\\Sigma_{f}^{C}$ is equal to $\\Sigma_{f}^{235}$. We are also in the approximation of diluted fuel wher $D^{C}\\sim D^{R} = L^{R^{2}}\\;\\Sigma_{a}^{H_2 O}$ so we can follow the subsequent procedure:\n",
        "\n",
        "\\begin{aligned}\n",
        "&\\\\\n",
        "&(B_m^{C})^{2} = \\frac{\\nu \\Sigma_{f}^{235} - \\Sigma_{a}^{C}}{D^{C} } \\\\\n",
        "&\\\\\n",
        "&(B_m^{C})^{2}\\;D^{C} = \\nu \\sigma_{f}^{235} N_{235} - \\sigma_{a}^{235} N_{235} - \\sigma_{a}^{H_2 O} N_{H_2 O} \\\\\n",
        "&\\\\\n",
        "&(B_m^{C})^{2}\\;L^{R^{2}}\\;\\sigma_{a}^{H_2 O} N_{H_2 O} =\n",
        "\\nu \\sigma_{f}^{235} N_{235} - \\sigma_{a}^{235} N_{235} - \n",
        "\\sigma_{a}^{H_2 O} N_{H_2 O} \\\\\n",
        "&\\\\\n",
        "\\end{aligned}\n",
        "\n",
        "Dividing by $\\sigma_{a}^{H_2 O} N_{H_2 O}$ and organizing well:\n",
        "\n",
        "\\begin{equation}\n",
        "\\\\\n",
        "\\frac{N_{235}}{N_{H_2 O}} = ((B_m^{C})^{2}\\;L^{R^{2}} + 1)\n",
        "\\frac{\\sigma_{a}^{H_2 O}}{\\nu \\sigma_{f}^{235} - \\sigma_{a}^{235}}\n",
        "\\\\\n",
        "\\end{equation}\n",
        "\n",
        "We can multiply both member for $N_{H_2 O} = \\rho_{H_2 O}\\;\\frac{N_{AV}}{M_{H_2 O}}$ and use the value for the density of water alone since (a posteriori) we can note that the ratio is very low. By doing so we are able to compute the Atomic Density of $^{235}U$, its $\\Sigma_{f}^{235}$, and also the $\\Sigma_{a}^{C}$."
      ]
    },
    {
      "cell_type": "code",
      "execution_count": null,
      "metadata": {
        "colab": {
          "base_uri": "https://localhost:8080/"
        },
        "id": "9AynT7hpwonO",
        "outputId": "1a7b5fc9-f86a-4c76-e197-65532b964577"
      },
      "outputs": [
        {
          "name": "stdout",
          "output_type": "stream",
          "text": [
            "EXPRESSIONS:\n",
            "\n",
            "Ratio between Atomic Densities: sigma_H2O*(B_{m}^{C}**2*L^{R}**2 + 1)/(nu*sigma_{f}^{235} - sigma_{a}^{235})\n",
            "Atomic Densisty of Water: N_AV*rho_H2O/M_H2O\n",
            "Atomic Densisty of Uranium-235: N_AV*rho_H2O*sigma_H2O*(B_{m}^{C}**2*L^{R}**2 + 1)/(M_H2O*(nu*sigma_{f}^{235} - sigma_{a}^{235}))\n",
            "\n",
            "VALUES:\n",
            "\n",
            "Microscopic Fission Cross-section for Uranium-235: 5.41237035436904e-22 cm^2\n",
            "Microscopic Absorption Cross-section for Uranium-235: 6.359769671165007e-22 cm^2\n",
            "Ratio between Atomic Densities: 0.000926372120508037\n",
            "Atomic Densisty of Water: 3.3425843694493783e+22 atm/cm3\n",
            "Atomic Densisty of Uranium-235: 3.09647697030384e+19 atm/cm3\n",
            "Macroscopic Fission Cross-section for Uranium-235: 0.0167592801570590 cm^-1\n",
            "Macroscopic Absorption Cross-section for Uranium-235: 0.0196928803231993 cm^-1\n",
            "Macroscopic Absorption Cross-section for the Core: 0.0403865735672239 cm^-1\n"
          ]
        }
      ],
      "source": [
        "RatioAtomic_Densities = ((Bc**2 * Lr**2) + 1) * (sigmaa_H2O / (nubar*sigmaf_235 - sigmaa_235))\n",
        "Atomic_Density_235 = RatioAtomic_Densities * rho_H2O * (Nav / M_H2O)\n",
        "Atomic_Density_H2O = rho_H2O * (Nav/M_H2O)\n",
        "\n",
        "print(\"EXPRESSIONS:\\n\")\n",
        "print(\"Ratio between Atomic Densities: \" + str(RatioAtomic_Densities))\n",
        "print(\"Atomic Densisty of Water: \" + str(Atomic_Density_H2O))\n",
        "print(\"Atomic Densisty of Uranium-235: \" + str(Atomic_Density_235))\n",
        "\n",
        "sigmaf_235_val = sigmaf_235_zero*(293/333)**(1/2)\n",
        "sigmaa_235_val = sigmaa_235_zero*(293/333)**(1/2)\n",
        "RatioAtomic_Densities_val = ((Bc_val**2 * Lr_val**2) + 1) * (sigmaa_H2O_val / (nubar_val*sigmaf_235_val - sigmaa_235_val))\n",
        "Atomic_Density_235_val = RatioAtomic_Densities_val * rho_H2O_val * (Nav_val / M_H2O_val)\n",
        "Sigmaf_c_val = Atomic_Density_235_val * sigmaf_235_val\n",
        "Sigmaa_235_val = Atomic_Density_235_val * sigmaa_235_val\n",
        "Sigmaa_c_val = Sigmaa_235_val + Sigmaa_r_val\n",
        "\n",
        "print(\"\\nVALUES:\\n\")\n",
        "print(\"Microscopic Fission Cross-section for Uranium-235: \" + str(sigmaf_235_val) + \" cm^2\")\n",
        "print(\"Microscopic Absorption Cross-section for Uranium-235: \" + str(sigmaa_235_val) + \" cm^2\")\n",
        "print(\"Ratio between Atomic Densities: \" + str(RatioAtomic_Densities_val))\n",
        "print(\"Atomic Densisty of Water: \" + str(Atomic_Density_H2O_val) + \" atm/cm3\")\n",
        "print(\"Atomic Densisty of Uranium-235: \" + str(Atomic_Density_235_val) + \" atm/cm3\")\n",
        "print(\"Macroscopic Fission Cross-section for Uranium-235: \" + str(Sigmaf_c_val) + \" cm^-1\")\n",
        "print(\"Macroscopic Absorption Cross-section for Uranium-235: \" + str(Sigmaa_235_val) + \" cm^-1\")\n",
        "print(\"Macroscopic Absorption Cross-section for the Core: \" + str(Sigmaa_c_val) + \" cm^-1\")"
      ]
    },
    {
      "cell_type": "markdown",
      "metadata": {
        "id": "bfqKukeX2cQl"
      },
      "source": [
        "The second goal of QUESTION 2 is the flux evaluation. We recall the solutions of the equations for the two regions:\n",
        "\n",
        "\\begin{aligned}\n",
        "&\\\\\n",
        "&\\phi^{C}(x) = A_C\\;cos(B_{m}^{C}\\;x) \\\\\n",
        "&\\\\\n",
        "&\\phi^{R}(x) = A_R\\;exp(- \\frac{x}{L^{R}})\n",
        "&\\\\\n",
        "\\end{aligned}\n",
        "\n",
        "We know the Thermal Power Density $q'''[\\frac{W}{cm^{3}}]$; since this quantity should depend on the position because the flux depends on the position, I have taken this quantity as the correspondent density when the flux is averaged on the core. In this way we are able to compute $A_C$ which represents the maximum flux at $x=0$.\n",
        "\n",
        "\\begin{equation}\n",
        "\\\\\n",
        "q'''[\\frac{W}{cm^{3}}] = N_{235} [\\frac{atm}{cm^{3}}] * \\sigma_{f}^{235}(\\bar T) [cm^{2}] * <\\phi^{C}> [\\frac{n}{cm^{2} sec}] * \\bar E [\\frac{MeV}{fission}] * C [\\frac{J}{eV}] \\\\\n",
        "\\\\\n",
        "\\end{equation}\n",
        "\n",
        "We can compute the mean value of the flux $<\\phi^{C}>$ as an integral over the core:\n",
        "\n",
        "\\begin{aligned}\n",
        "&\\\\\n",
        "<\\phi^{C}> &= \\frac{1}{l} \\int_{-l/2}^{l/2} A_C\\;cos(B_{m}^{C} x)\\;dx \\\\\n",
        "&\\\\\n",
        "&=\\frac{2 A_C}{l\\;B_{m}^{C}}\\;sen(B_{m}^{C}\\;\\frac{l}{2}) \\\\\n",
        "&\\\\\n",
        "\\end{aligned}\n",
        "\n",
        "By computing $A_C$ we are computing effectively the maximum value of the flux: $A_C = \\phi_{max}^{C}$.\n",
        "\n",
        "Then we can compute $A_R$ by applying the BC at the interface ($x=\\frac{l}{2}$).\n",
        "\n",
        "\\begin{equation}\n",
        "\\\\\n",
        "A_R\\;exp(- \\frac{l}{2 L^{R}}) = \\phi_{max}^{C}\\;cos(B_{m}^{C}\\;\\frac{l}{2})\\\\\n",
        "\\\\\n",
        "\\end{equation}"
      ]
    },
    {
      "cell_type": "code",
      "execution_count": null,
      "metadata": {
        "colab": {
          "base_uri": "https://localhost:8080/"
        },
        "id": "YQ-nF2sx8cXM",
        "outputId": "4d10050e-6103-4a40-a417-299da7b60ca6"
      },
      "outputs": [
        {
          "name": "stdout",
          "output_type": "stream",
          "text": [
            "Maximum value of the Flux at x=0: 6.87941487514395 * 10^13 n/(cm2 sec)\n",
            "Value for Ar coefficient: 9.06134098464786e+16 n/(cm2 sec)\n"
          ]
        }
      ],
      "source": [
        "PhiC_max = sp.symbols(\"phi_max\")\n",
        "PhiC_max_val = (q3_val * Bc_val * l_val) / (2 * Atomic_Density_235_val * sigmaf_235_val * EnergyXfission * (10**6) * ConvCoeff * sp.sin(Bc_val * l_val/2))\n",
        "print(\"Maximum value of the Flux at x=0: \" + str(PhiC_max_val/(10**13)) + \" * 10^13 n/(cm2 sec)\")\n",
        "\n",
        "Ar_val = (PhiC_max_val * sp.cos(Bc_val * (l_val/2)).evalf()) / (sp.exp(-l_val/(2 * Lr_val)).evalf())\n",
        "print(\"Value for Ar coefficient: \" + str(Ar_val) + \" n/(cm2 sec)\")"
      ]
    },
    {
      "cell_type": "code",
      "execution_count": null,
      "metadata": {
        "colab": {
          "base_uri": "https://localhost:8080/",
          "height": 39
        },
        "id": "BNHJRqL2DL_7",
        "outputId": "0a127b73-db74-4693-e4e8-aac021678a26"
      },
      "outputs": [
        {
          "data": {
            "text/latex": [
              "$\\displaystyle \\Phi_{C}{\\left(x \\right)} = \\phi_{max} \\cos{\\left(B_{m}^{C} x \\right)}$"
            ],
            "text/plain": [
              "Eq(Phi_C(x), phi_max*cos(B_{m}^{C}*x))"
            ]
          },
          "execution_count": 23,
          "metadata": {},
          "output_type": "execute_result"
        }
      ],
      "source": [
        "#Flux in the Core\n",
        "Core_Solution = Core_Solution.subs(Ac,PhiC_max)\n",
        "Core_Solution"
      ]
    },
    {
      "cell_type": "code",
      "execution_count": null,
      "metadata": {
        "colab": {
          "base_uri": "https://localhost:8080/",
          "height": 44
        },
        "id": "lNA0V33XFxFo",
        "outputId": "aa278ee3-66fe-4e65-91f8-298f95521b78"
      },
      "outputs": [
        {
          "data": {
            "text/latex": [
              "$\\displaystyle \\Phi_{R}{\\left(\\left|{x}\\right| \\right)} = A_{R} e^{- \\frac{\\left|{x}\\right|}{L^{R}}}$"
            ],
            "text/plain": [
              "Eq(Phi_R(Abs(x)), A_R*exp(-Abs(x)/L^{R}))"
            ]
          },
          "execution_count": 24,
          "metadata": {},
          "output_type": "execute_result"
        }
      ],
      "source": [
        "#Flux in the Reflector\n",
        "Reflector_Solution = Reflector_Solution.subs(x,abs(x))\n",
        "Reflector_Solution"
      ]
    },
    {
      "cell_type": "code",
      "execution_count": null,
      "metadata": {
        "colab": {
          "base_uri": "https://localhost:8080/",
          "height": 458
        },
        "id": "vJL7JgHGEVLu",
        "outputId": "9fcdd355-e55d-4496-fa61-a6967f0a5e4b"
      },
      "outputs": [
        {
          "data": {
            "text/plain": [
              "Text(-26.0, -0.28, '-l/2')"
            ]
          },
          "execution_count": 25,
          "metadata": {},
          "output_type": "execute_result"
        },
        {
          "data": {
            "image/png": "[encoded data removed]",
            "text/plain": [
              "<Figure size 660x440 with 1 Axes>"
            ]
          },
          "metadata": {
            "needs_background": "light"
          },
          "output_type": "display_data"
        }
      ],
      "source": [
        "#Plotting Core Flux\n",
        "\n",
        "distance0 = np.linspace(-l_val/2,l_val/2, 400)\n",
        "Core_Solution2 = Core_Solution.subs({PhiC_max:PhiC_max_val, Bc:Bc_val})\n",
        "FluxCore0 = sp.lambdify(x,Core_Solution2.rhs)\n",
        "FluxCore00 = FluxCore0(distance0)/(10**13)\n",
        "\n",
        "plt.figure(figsize=[6,4], dpi=110)\n",
        "plt.plot(distance0, FluxCore00, \"red\")\n",
        "\n",
        "plt.vlines(-l_val/2, 0, max(FluxCore00), color=\"black\", linestyle=\"-\", linewidth=1)\n",
        "plt.vlines(l_val/2, 0, max(FluxCore00), color=\"black\", linestyle=\"-\", linewidth=1)\n",
        "plt.vlines(-l_val/2, min(FluxCore00), max(FluxCore00)+1, color=\"black\", linestyle=\"--\", linewidth=1)\n",
        "plt.vlines(l_val/2, min(FluxCore00), max(FluxCore00)+1, color=\"black\", linestyle=\"--\", linewidth=1)\n",
        "plt.vlines(0, 0, max(FluxCore00)+1, color=\"black\", linestyle=\"--\", linewidth=0.5)\n",
        "plt.hlines(0,-l_val/2,l_val/2, color=\"black\", linewidth=0.8)\n",
        "plt.scatter(0, PhiC_max_val/(10**13), marker=\"o\", color=\"black\")\n",
        "\n",
        "plt.grid(\"gray\", linestyle=\"-\", linewidth=0.5)\n",
        "plt.xlabel(\"Distance [cm]\", fontsize=10, fontstyle=\"italic\")\n",
        "plt.ylabel(\"Flux [#n/(cm2 s)]/(10^13)\", fontsize=10, fontstyle=\"italic\")\n",
        "plt.title(\"Core Flux\", fontsize=12, fontstyle=\"italic\")\n",
        "plt.annotate(\"+l/2\", (l_val/2-1,-0.28), fontsize=8)\n",
        "plt.annotate(\"-l/2\", (-l_val/2-1,-0.28), fontsize=8)"
      ]
    },
    {
      "cell_type": "code",
      "execution_count": null,
      "metadata": {
        "colab": {
          "base_uri": "https://localhost:8080/",
          "height": 528
        },
        "id": "RTzq3c0pGd76",
        "outputId": "451a3b6d-f6dc-4951-9ca9-44b1e3cd3953"
      },
      "outputs": [
        {
          "data": {
            "text/plain": [
              "[<matplotlib.patches.Polygon at 0x7fc549b596d0>]"
            ]
          },
          "execution_count": 26,
          "metadata": {},
          "output_type": "execute_result"
        },
        {
          "data": {
            "image/png": "[encoded data removed]",
            "text/plain": [
              "<Figure size 910x520 with 1 Axes>"
            ]
          },
          "metadata": {
            "needs_background": "light"
          },
          "output_type": "display_data"
        }
      ],
      "source": [
        "#Plottig Core Flux + Reflector Flux\n",
        "\n",
        "distance1 = np.linspace( -50,-l_val/2, 400)\n",
        "distance2 = np.linspace(-l_val/2,l_val/2,400)\n",
        "distance3 = np.linspace(l_val/2, 50, 400)\n",
        "\n",
        "FluxCore2 = FluxCore0(distance2)/(10**13)\n",
        "\n",
        "Reflector_Solution2 = Reflector_Solution.subs({Ar:Ar_val, Lr:Lr_val})\n",
        "FluxReflector0 = sp.lambdify(x,Reflector_Solution2.rhs)\n",
        "FluxReflector1 = FluxReflector0(distance1)/(10**13)\n",
        "FluxReflector3 = FluxReflector0(distance3)/(10**13)\n",
        "\n",
        "graphFluxes = np.concatenate((FluxReflector1, FluxCore2, FluxReflector3), axis=None)\n",
        "graphDistance = np.concatenate((distance1, distance2, distance3), axis=None)\n",
        "\n",
        "plt.figure(figsize=[7,4], dpi=130)\n",
        "plt.plot(graphDistance, graphFluxes, color=\"tab:red\", label=\"Flux\")\n",
        "\n",
        "plt.vlines(-l_val/2, min(FluxReflector1), max(FluxCore2), color=\"black\", linestyle=\"-\", linewidth=1)\n",
        "plt.vlines(l_val/2, min(FluxReflector3), max(FluxCore2), color=\"black\", linestyle=\"-\", linewidth=1)\n",
        "plt.vlines(-l_val/2, min(FluxReflector1), max(FluxCore2)+1, color=\"black\", linestyle=\"--\", linewidth=1)\n",
        "plt.vlines(l_val/2, min(FluxReflector3), max(FluxCore2)+1, color=\"black\", linestyle=\"--\", linewidth=1)\n",
        "plt.vlines(0, 2.5, max(FluxCore2)+1, color=\"black\", linestyle=\"--\", linewidth=0.5)\n",
        "plt.vlines(0, min(FluxReflector3), 1.8, color=\"black\", linestyle=\"--\", linewidth=0.5)\n",
        "plt.hlines(0,-50,50, color=\"black\", linewidth=0.8)\n",
        "plt.scatter(0,PhiC_max_val/(10**13), marker=\"o\", color=\"black\", label=\"Max Flux\")\n",
        "\n",
        "plt.annotate(\"CORE\", (-4,2), fontsize=11, fontstyle=\"italic\", rotation=0)\n",
        "plt.annotate(\"REFLECTOR\", (-48,4), fontsize=9, fontstyle=\"italic\", rotation=0)\n",
        "plt.annotate(\"REFLECTOR\", (32,4), fontsize=9, fontstyle=\"italic\", rotation=0)\n",
        "plt.annotate(\"+l/2\", (l_val/2-2,-0.28), fontsize=8)\n",
        "plt.annotate(\"-l/2\", (-l_val/2-2,-0.28), fontsize=8)\n",
        "\n",
        "plt.legend(fontsize=9)\n",
        "plt.xlabel(\"Distance [cm]\", fontsize=9, fontstyle=\"italic\")\n",
        "plt.ylabel(\"Flux [#n/(cm2 s)]/(10^13)\", fontsize=9, fontstyle=\"italic\")\n",
        "plt.title(\"Flux Shape in the Reflected Reactor Core\", fontsize=12, fontstyle=\"italic\")\n",
        "\n",
        "plt.xticks(size=8)\n",
        "plt.yticks(size=8)\n",
        "\n",
        "plt.fill(graphDistance , graphFluxes, \"tab:orange\")"
      ]
    },
    {
      "cell_type": "markdown",
      "metadata": {
        "id": "CvDe70fOUlVu"
      },
      "source": [
        "**RECAP FINAL SOLUTION**\n",
        "\n",
        "*REFLECTOR COMPOSITION:*\n",
        "\n",
        "* $\\sigma_{a}^{H_2 O} = 6.19093* 10^{-25} cm^2$\n",
        "* $\\Sigma_{a}^{R} = 0.02069\\; cm^{-1}$\n",
        "* $L^{R} = 2.78061\\; cm$\n",
        "* $A_{R} = 9.06134 * 10^{16} \\; \\frac{n}{cm^{2} sec}$\n",
        "\n",
        "*CORE COMPOSITION:*\n",
        "\n",
        "* $\\sigma_{f}^{235} = 5.41237 * 10^{-22}\\; cm^{2}$\n",
        "* $\\sigma_{a}^{235} =  6.30349 * 10^{-22}\\; cm^{2}$\n",
        "* $\\frac{N_{235}}{N_{H_2 O}} = 0.00092 = 9.2 * 10^{-4} $\n",
        "* $\\Sigma_{f}^{235} = 0.016759\\; cm^{-1}$\n",
        "* $\\Sigma_{a}^{235} = 0.01969\\; cm^{-1}$\n",
        "\n",
        "* $\\Sigma_{a}^{C} = 0.04039\\; cm^{-1}$\n",
        "\n",
        "* $\\phi_{max}^{C} = 6.87941 * 10^{13}\\; \\frac{n}{cm^{2} sec}$"
      ]
    },
    {
      "cell_type": "markdown",
      "metadata": {
        "id": "nenSN4CHZCgH"
      },
      "source": [
        "# QUESTION 3\n",
        "\n",
        "*Based on the one-speed diffusion model, derive the criticality equation for the three-region slab reactor and compute the Critical Width 'a'. The three regions are:*\n",
        "\n",
        "* *Core: composition as Problem 2 and operating at the same temperature (60°C)*\n",
        "* *Blanket: composed of an homogeneous mixture of natural Uranium and Water with* $\\frac{N_{U nat}}{N_{H_2 O}} = 0.01$*, Width b = 5 cm and temperature of 20°C*\n",
        "* *Reflector: composed of Water with infinite width and temperature of 20°C ( same composition as Problem 2 but different operatig temperature)*\n",
        "\n",
        "*Compare the results of Problem 2 and Problem 3 and discuss.*\n",
        "\n",
        "**RESOLUTION:**\n",
        "\n",
        "As seen in the previous Problem, we have to solve the equations for the regions of interest. In this case we have not only the Core with a multiplying material, but also the Blanket region that contains Natural Uranium. This latter region have the same equation as the Core but is better to express the analitycal solution as a summation of hyperbolic cosine and sine. The equations to solve are:\n",
        "\n",
        "\n",
        "**EQUATIONS:**\n",
        "\\begin{aligned}\n",
        " &\\\\\n",
        " Core:\\;\\;\\;\\;&D^{C}\\frac{d^{2}\\phi^{C}(x)}{d x^{2}} + \n",
        " (\\nu\\Sigma_{f}^{C} - \\Sigma_{a}^{C})\\phi^{C}(x) = 0 \n",
        " \\;\\;\\;\\;\\;;\\;\\;\\;\\;\\;0\\leq x \\leq \\frac{a}{2} \\\\\n",
        " &\\\\\n",
        " Blanket:\\;\\;\\;\\;&D^{B}\\frac{d^{2}\\phi^{B}(x)}{d x^{2}} - \n",
        " (\\Sigma_{a}^{B} - \\nu\\Sigma_{f}^{B})\\phi^{B}(x) = 0\n",
        " \\;\\;\\;\\;\\;;\\;\\;\\;\\;\\;\\frac{a}{2} \\leq x \\leq \\frac{a}{2} + b \\\\\n",
        " &\\\\\n",
        " Reflector:\\;\\;\\;\\;&D^{R}\\frac{d^{2}\\phi^{R}(x)}{d x^{2}} - \\Sigma_{a}^{R}\\phi^{R}(x) = 0 \\;\\;\\;\\;\\;;\\;\\;\\;\\;\\;\\frac{a}{2} + b \\leq x \\leq \\infty \\\\\n",
        " &\\\\\n",
        "\\end{aligned}\n",
        "\n",
        "**Note:**\n",
        "\n",
        "We have written the equation for the Blanket in such a way in order to express the solution in $sinh$ and $cosh$; the Buckling has a minus sign in it.\n",
        "\n",
        "**BOUNDARY CONDITIONS:**\n",
        "\\begin{aligned}\n",
        " &\\\\\n",
        " Interface:\\;\\;\\;\\;&(a)\\;\\;\\;\\;\\phi^{C}(\\frac{a}{2}) = \\phi^{B}(\\frac{a}{2})\\\\\n",
        " &\\\\\n",
        " \\;\\;\\;\\;\\;\\;\\;\\;\\;&(b)\\;\\;\\;\\;J^{C}(\\frac{a}{2}) = J^{B}(\\frac{a}{2})\\\\\n",
        " &\\\\\n",
        " \\;\\;\\;\\;\\;\\;\\;\\;\\;&(c)\\;\\;\\;\\;\\phi^{B}(\\frac{a}{2} + b) = \\phi^{R}(\\frac{a}{2} + b)\\\\\n",
        " &\\\\\n",
        " \\;\\;\\;\\;\\;\\;\\;\\;\\;&(d)\\;\\;\\;\\;J^{B}(\\frac{a}{2} + b) = J^{R}(\\frac{a}{2} + b)\\\\\n",
        " &\\\\\n",
        " Infinite\\;\\;\\;\\;\\;&(e)\\;\\;\\;\\;\\phi^{R}(x \\rightarrow \\infty) < \\infty\\\\\n",
        " &\\\\\n",
        "\\end{aligned}\n",
        "\n",
        "**SOLUTIONS:**\n",
        "\n",
        "\\begin{aligned}\n",
        " &\\\\\n",
        " Core:\\;\\;\\;\\;&\\phi^C(x) = A_C\\;cos(B_{m}^{C}\\,x) + B_C\\;sin(B_{m}^{C}\\,x) \\\\\n",
        " &\\\\\n",
        " Blanket:\\;\\;\\;\\;&\\phi^B(x) = A_B\\;cosh(B_{m}^{B}\\,x) + \n",
        " B_B\\;sinh(B_{m}^{B}\\,x)\\\\\n",
        " &\\\\\n",
        " Reflector:\\;\\;\\;\\;&\\phi^R(x) = A_R\\;exp(-\\frac{x}{L_R^2}) + \n",
        " B_R\\;exp(\\frac{x}{L_R^2}) \\\\\n",
        " &\\\\\n",
        "\\end{aligned}\n",
        "\n",
        "\n",
        "(the other passages will be described along with the relative script)."
      ]
    },
    {
      "cell_type": "code",
      "execution_count": null,
      "metadata": {
        "id": "QNr9f7MSOu0L"
      },
      "outputs": [],
      "source": [
        "#Data\n",
        "\n",
        "b_val = 5#cm\n",
        "nubar_val = 2.44\n",
        "rho_H2O_val = 1#g/cm3\n",
        "rho_U_val = 19.1#g/cm3\n",
        "Dc_val = 0.16#cm\n",
        "Dr_val = 0.16#cm\n",
        "Bmc_val = 0.05624#cm^-1\n",
        "M_235_val = 235.043924#g/mol\n",
        "M_238_val = 238.050785#g/mol\n",
        "iso235_val = 0.0072\n",
        "iso238_val = 0.99275\n",
        "M_H2O_val = 18.016#g/mol\n",
        "Nav_val = 6.022*10**23 #atm/mol\n",
        "sigmaa_H2O_zero = 0.66*10**-24#cm^2\n",
        "sigmaf_235_zero = 577*10**-24#cm^2\n",
        "sigmaa_235_zero = 678*10**-24#cm^-2 (577 + 101)\n",
        "sigmaa_238_zero = 2.73*10**-24#cm^-2\n",
        "NU_NW_val = 0.01\n",
        "\n",
        "\n",
        "\n",
        "#Variables and Functions\n",
        "\n",
        "x, h, k = sp.symbols(\"x, h, k\")\n",
        "\n",
        "Dc,Db, Dr, Sigmaf_c, Sigmaa_c, Sigmaa_r, Sigmaa_b, Sigmaa_235, nubar, a = sp.symbols(\"D^{C}, D^{B}, D^{R}, \\Sigma_{f}^{C}, \\Sigma_{a}^{C}, \\Sigma_{a}^{R}, \\Sigma_{a}^{B}, \\Sigma_{a}^{235}, nu, a\")\n",
        "\n",
        "rho_U, rho_H2O, N_235, N_H2O, M_235, M_238, M_H2O, sigmaf_235, sigmaa_235, sigmaa_H2O, sigmaa_238, Nav, NU_NW, iso235, iso238 = sp.symbols(\"rho_U, rho_H2O, N_235, N_H2O, M_235, M_238, M_H2O, \\sigma_{f}^{235}, \\sigma_{a}^{235}, \\sigma_H2O, \\sigma_{a}^{238}, N_AV, \\frac{NU}{NW}, \\gamma_{235}, \\gamma_{238}\")\n",
        "\n",
        "\n",
        "Bmc, Bmb, Lr = sp.symbols(\"B_{m}^{C}, B_{m}^{B}, L^{R}\")  #Bc Material Buckling for the core region\n",
        "\n",
        "Ac, Ab, Bb, Ar, Br = sp.symbols(\"A_C, A_B, B_B, A_R, B_R\") #Constants in the equations\n",
        "C1, C2 = sp.symbols(\"C1,C2\")\n",
        "\n",
        "PhiC, PhiR, PhiB = sp.symbols(\"Phi_C, Phi_R, Phi_B\", cls=sp.Function) #Fluxes\n",
        "Jc, Jr, Jb = sp.symbols(\"J_C, J_R, J_B\", cls=sp.Function)          #Currents"
      ]
    },
    {
      "cell_type": "code",
      "execution_count": null,
      "metadata": {
        "colab": {
          "base_uri": "https://localhost:8080/",
          "height": 54
        },
        "id": "wBA0jSKXSEp2",
        "outputId": "7a2dfba2-ca18-4db6-e966-c4888d9a7d98"
      },
      "outputs": [
        {
          "data": {
            "text/latex": [
              "$\\displaystyle \\left(B_{m}^{C}\\right)^{2} \\Phi_{C}{\\left(x \\right)} + \\frac{d^{2}}{d x^{2}} \\Phi_{C}{\\left(x \\right)} = 0$"
            ],
            "text/plain": [
              "Eq(B_{m}^{C}**2*Phi_C(x) + Derivative(Phi_C(x), (x, 2)), 0)"
            ]
          },
          "execution_count": 28,
          "metadata": {},
          "output_type": "execute_result"
        }
      ],
      "source": [
        "#Core Equation\n",
        "Core_EquationQ3 = sp.Eq(PhiC(x).diff(x,2) + (Bmc**2)*PhiC(x) , 0)\n",
        "Core_EquationQ3"
      ]
    },
    {
      "cell_type": "code",
      "execution_count": null,
      "metadata": {
        "colab": {
          "base_uri": "https://localhost:8080/",
          "height": 39
        },
        "id": "ZFGktFKQSbQ6",
        "outputId": "a770c747-1dea-450b-b3b9-c26b100411e2"
      },
      "outputs": [
        {
          "data": {
            "text/latex": [
              "$\\displaystyle \\Phi_{C}{\\left(x \\right)} = A_{C} \\cos{\\left(B_{m}^{C} x \\right)}$"
            ],
            "text/plain": [
              "Eq(Phi_C(x), A_C*cos(B_{m}^{C}*x))"
            ]
          },
          "execution_count": 29,
          "metadata": {},
          "output_type": "execute_result"
        }
      ],
      "source": [
        "#Core Solution\n",
        "Core_SolutionQ3 = sp.Eq(PhiC(x) , Ac*sp.cos(Bmc*x))\n",
        "Core_SolutionQ3"
      ]
    },
    {
      "cell_type": "code",
      "execution_count": null,
      "metadata": {
        "colab": {
          "base_uri": "https://localhost:8080/",
          "height": 54
        },
        "id": "fQ_wXo4jTMD6",
        "outputId": "15c25e8f-1221-4f3c-f270-279ec596dc53"
      },
      "outputs": [
        {
          "data": {
            "text/latex": [
              "$\\displaystyle \\left(B_{m}^{B}\\right)^{2} \\Phi_{B}{\\left(x \\right)} + \\frac{d^{2}}{d x^{2}} \\Phi_{B}{\\left(x \\right)} = 0$"
            ],
            "text/plain": [
              "Eq(B_{m}^{B}**2*Phi_B(x) + Derivative(Phi_B(x), (x, 2)), 0)"
            ]
          },
          "execution_count": 30,
          "metadata": {},
          "output_type": "execute_result"
        }
      ],
      "source": [
        "#Blanket Equation\n",
        "Blanket_EquationQ3 = sp.Eq(PhiB(x).diff(x,2) + (Bmb**2)*PhiB(x) , 0)\n",
        "Blanket_EquationQ3"
      ]
    },
    {
      "cell_type": "code",
      "execution_count": null,
      "metadata": {
        "colab": {
          "base_uri": "https://localhost:8080/",
          "height": 39
        },
        "id": "KYDAb1qWTcZL",
        "outputId": "b2721037-ced6-4bf6-9d4a-f980bc03cd36"
      },
      "outputs": [
        {
          "data": {
            "text/latex": [
              "$\\displaystyle \\Phi_{B}{\\left(x \\right)} = A_{B} \\cosh{\\left(B_{m}^{B} x \\right)} + B_{B} \\sinh{\\left(B_{m}^{B} x \\right)}$"
            ],
            "text/plain": [
              "Eq(Phi_B(x), A_B*cosh(B_{m}^{B}*x) + B_B*sinh(B_{m}^{B}*x))"
            ]
          },
          "execution_count": 31,
          "metadata": {},
          "output_type": "execute_result"
        }
      ],
      "source": [
        "#Blanket Solution\n",
        "Blanket_SolutionQ3 = sp.Eq(PhiB(x) , Ab*sp.cosh(Bmb*x) + Bb*sp.sinh(Bmb*x))\n",
        "Blanket_SolutionQ3"
      ]
    },
    {
      "cell_type": "code",
      "execution_count": null,
      "metadata": {
        "colab": {
          "base_uri": "https://localhost:8080/",
          "height": 61
        },
        "id": "FESodBjKUnE7",
        "outputId": "11021c18-ac72-4ce4-8dcb-d963af3e3a8f"
      },
      "outputs": [
        {
          "data": {
            "text/latex": [
              "$\\displaystyle \\frac{d^{2}}{d x^{2}} \\Phi_{R}{\\left(x \\right)} - \\frac{\\Phi_{R}{\\left(x \\right)}}{\\left(L^{R}\\right)^{2}} = 0$"
            ],
            "text/plain": [
              "Eq(Derivative(Phi_R(x), (x, 2)) - Phi_R(x)/L^{R}**2, 0)"
            ]
          },
          "execution_count": 32,
          "metadata": {},
          "output_type": "execute_result"
        }
      ],
      "source": [
        "#Reflector Equation\n",
        "Reflector_EquationQ3 = sp.Eq(PhiR(x).diff(x,2) - (1/(Lr**2))*PhiR(x) , 0)\n",
        "Reflector_EquationQ3"
      ]
    },
    {
      "cell_type": "code",
      "execution_count": null,
      "metadata": {
        "colab": {
          "base_uri": "https://localhost:8080/",
          "height": 74
        },
        "id": "QPM08IikVCCU",
        "outputId": "53b381d1-c3aa-4d49-dc0b-39e68046e156"
      },
      "outputs": [
        {
          "name": "stdout",
          "output_type": "stream",
          "text": [
            "Reflector Solution: Eq(Phi_R(x), C1*exp(-x/L^{R}) + C2*exp(x/L^{R}))\n",
            "\n"
          ]
        },
        {
          "data": {
            "text/latex": [
              "$\\displaystyle \\Phi_{R}{\\left(x \\right)} = A_{R} e^{- \\frac{x}{L^{R}}}$"
            ],
            "text/plain": [
              "Eq(Phi_R(x), A_R*exp(-x/L^{R}))"
            ]
          },
          "execution_count": 33,
          "metadata": {},
          "output_type": "execute_result"
        }
      ],
      "source": [
        "#Reflector Solution\n",
        "Reflector_SolutionQ3 = sp.dsolve(Reflector_EquationQ3 , PhiR(x))\n",
        "print(\"Reflector Solution: \" + str(Reflector_SolutionQ3) + \"\\n\")\n",
        "\n",
        "#Reflector Solution by imposing directly BC (e)\n",
        "Reflector_SolutionQ3 = Reflector_SolutionQ3.subs({C1:Ar, C2:0})\n",
        "Reflector_SolutionQ3"
      ]
    },
    {
      "cell_type": "markdown",
      "metadata": {
        "id": "NlBwWLQNVvw_"
      },
      "source": [
        "Before solving the system of equations, we can notice that we have to compute some elements before proceeding on. We have to compute the *Material Buckling* of the Blanket Region $B_{m}^{B}$ and also the *Diffusion Lenght* $L^{R}$ of the Reflector region.\n",
        "\n",
        "**Diffusion Lenght Reflector**\n",
        "\n",
        "For what concerns the Diffusion Lenght $L^{R}$ we can recall the procedure followed in the previous problem.\n",
        "\n",
        "In order to compute $L^{R}$ we need to know Atomic Density $N_{H_2 O}$ and the Microscopic cross-section $\\sigma_{a}^{H_2 O}$.\n",
        "\n",
        "We can compute $\\sigma_{a}^{H_2 O}$ as follow:\n",
        "\\begin{equation}\n",
        " \\sigma_{a}^{H_2 O} = \\sigma_{a_{0}}^{H_2 O}  (\\frac{T_0}{\\bar T})^{\\frac{1}{2}}\n",
        "\\end{equation}\n",
        "\n",
        "since we have 20°C in this region we have that $ \\sigma_{a}^{H_2 O} = \\sigma_{a_{0}}^{H_2 O}$.\n",
        "\n",
        "We can follow the following procedure to compute $L^{R}$:\n",
        "\\begin{aligned}\n",
        "&\\\\\n",
        "&N_{H_2 O} = \\rho_{H_2 O}\\;\\frac{N_{AV}}{M_{H_2 O}} \\\\\n",
        "&\\\\\n",
        "&\\Sigma_{a}^{R} = N_{H_2 O}\\;\\;\\sigma_{a_0}^{H_2 O}\n",
        "&\\\\\n",
        "&\\\\\n",
        "&L^{R} = \\sqrt{\\frac{D^{R}}{\\Sigma_{a}^{R}}}\n",
        "&\\\\\n",
        "\\end{aligned}\n",
        "\n",
        "**Material Buckling Blanket**\n",
        "\n",
        "As well as for the previous section we recall the procedure exploited in Problem 2.\n",
        "\n",
        "We know the expression of the Material Buckling that we recall (look the equation at the beginning for the sign):\n",
        "\n",
        "\\begin{equation}\n",
        "\\\\\n",
        " (B_m^{B})^{2} \\equiv \\frac{\\Sigma_{a}^{B} - \\nu \\Sigma_{f}^{235}}{D^{B}}\n",
        "\\\\\n",
        "\\end{equation}\n",
        "\n",
        "Since fission is only determined by $^{235}U$, the $\\Sigma_{f}^{B}$ is equal to $\\Sigma_{f}^{235}$.\n",
        "\n",
        "We know from the data that $\\frac{N_{U nat}}{N_{H_2 O}} = 0.01$, we can say that Uranium is present in a quantity just equal to 1% of Water. I have assumed possible to assess the fuel as diluted like in the previous excercise. In such a way, I can say that $D^{B} \\sim D^{R} = 0.16\\;cm$.\n",
        "\n",
        "We consider only $^{235}{U}$ and $^{238}{U}$ neglecting $^{234}{U}$. The Isotopic Abundance for the two isotopes is respectively:\n",
        "* $\\gamma_{235} = 0.0072 $\n",
        "* $\\gamma_{238} = 0.99275 $\n",
        "\n",
        "\n",
        "We can express the Atomic Densities for the two species in function of the Atomic Density of Natural Uranium, or directly linked to that of Water.\n",
        "\n",
        "\n",
        "* $M_{U_{nat}} = \\gamma_{235} \\; M_{235} + \\gamma_{238} \\; M_{238} $\n",
        "* $N_{235} = \\gamma_{235} \\; \\rho_{U_{nat} } \\; \\frac{N_{A}}{ M_{U_{nat}}} = \\gamma_{235} \\; N_{U_{nat}} = \\gamma_{235} \\; 0.01 \\; N_{H_2 O}$\n",
        "* $N_{238} = \\gamma_{238} \\; \\rho_{U_{nat} } \\; \\frac{N_{A}}{ M_{U_{nat}}} = \\gamma_{238} \\; N_{U_{nat}} = \\gamma_{238} \\; 0.01 \\; N_{H_2 O}$\n",
        "\n",
        "We can calculate directly all the Microscopic Cross-sections and Macroscopic ones and recall the relation for the Buckling to compute $B_{m}^{B}$."
      ]
    },
    {
      "cell_type": "code",
      "execution_count": null,
      "metadata": {
        "colab": {
          "base_uri": "https://localhost:8080/"
        },
        "id": "DOkD1f06Vve-",
        "outputId": "9d7dd331-a7af-4ed9-b1bb-5a17e48a08b5"
      },
      "outputs": [
        {
          "name": "stdout",
          "output_type": "stream",
          "text": [
            "EXPRESSIONS:\n",
            "\n",
            "Atomic Densisty of Water: N_AV*rho_H2O/M_H2O\n",
            "Macroscopic Sigma Absorption of Reflector region: N_AV*\\sigma_H2O*rho_H2O/M_H2O\n",
            "Diffusion Lenght for Reflector Region: sqrt(D^{R}*M_H2O/(N_AV*\\sigma_H2O*rho_H2O))\n",
            "\n",
            "VALUES:\n",
            "\n",
            "Atomic Densisty of Water: 3.3425843694493783e+22 atm/cm3\n",
            "Microscopic Absorption Cross-section for Water: 6.6e-25 cm^2\n",
            "Macroscopic Sigma Absorption of Reflector region: 0.022061056838365897 cm^-1\n",
            "Diffusion Lenght for Reflector Region: 2.69306499290059 cm\n"
          ]
        }
      ],
      "source": [
        "#Diffusion Lenght Reflector\n",
        "Atomic_Density_H2O = rho_H2O * (Nav/M_H2O)\n",
        "Sigmaa_r_exp = Atomic_Density_H2O * sigmaa_H2O\n",
        "Lr_exp = sp.sqrt(Dr/Sigmaa_r_exp)\n",
        "\n",
        "print(\"EXPRESSIONS:\\n\")\n",
        "print(\"Atomic Densisty of Water: \" + str(Atomic_Density_H2O))\n",
        "print(\"Macroscopic Sigma Absorption of Reflector region: \" + str(Sigmaa_r_exp))\n",
        "print(\"Diffusion Lenght for Reflector Region: \" + str(Lr_exp))\n",
        "\n",
        "sigmaa_H2O_Q3val = sigmaa_H2O_zero\n",
        "Atomic_Density_H2O_Q3val = rho_H2O_val * (Nav_val/M_H2O_val)\n",
        "Sigmaa_r_Q3val = Atomic_Density_H2O_Q3val * sigmaa_H2O_Q3val\n",
        "Lr_Q3val = sp.sqrt(Dr_val/Sigmaa_r_Q3val).evalf()\n",
        "\n",
        "print(\"\\nVALUES:\\n\")\n",
        "print(\"Atomic Densisty of Water: \" + str(Atomic_Density_H2O_Q3val) + \" atm/cm3\")\n",
        "print(\"Microscopic Absorption Cross-section for Water: \" + str(sigmaa_H2O_Q3val) + \" cm^2\")\n",
        "print(\"Macroscopic Sigma Absorption of Reflector region: \" + str(Sigmaa_r_Q3val) + \" cm^-1\")\n",
        "print(\"Diffusion Lenght for Reflector Region: \" + str(Lr_Q3val) + \" cm\")"
      ]
    },
    {
      "cell_type": "code",
      "execution_count": null,
      "metadata": {
        "colab": {
          "base_uri": "https://localhost:8080/"
        },
        "id": "v_Ot4u1NlZmq",
        "outputId": "41dbcd9f-602d-4e96-d752-ae740520c383"
      },
      "outputs": [
        {
          "name": "stdout",
          "output_type": "stream",
          "text": [
            "EXPRESSION:\n",
            "\n",
            "Atomic Density of 235: 0.01*N_AV*\\gamma_{235}*rho_H2O/M_H2O\n",
            "Atomic Density of 238: 0.01*N_AV*\\gamma_{238}*rho_H2O/M_H2O\n",
            "\n",
            "\n",
            "VALUES:\n",
            "\n",
            "Atomic Density of 235: 2.406660746003552e+18 atm/cm3\n",
            "Atomic Density of 238: 3.31835063277087e+20 atm/cm3\n",
            "Macroscopic Sigma Absorption of Uranium-235: 0.0016317159857904082 cm^-1\n",
            "Macroscopic Sigma Fission of Uranium-235: 0.0013886432504440496 cm^-1\n",
            "Macroscopic Sigma Absorption of Uranium-238: 0.0009059097227464474 cm^-1\n",
            "\n",
            "Material Buckling for the Blanket Region: 0.364094707938567 cm^-2\n",
            "Diffusion coefficient in the Blanket Region: 0.16 cm\n"
          ]
        }
      ],
      "source": [
        "#Material Buckling for the Blanket region\n",
        "Atomic_Density_235Q3 = (iso235 * 0.01) * Atomic_Density_H2O\n",
        "Atomic_Density_238Q3 = (iso238 * 0.01) * Atomic_Density_H2O\n",
        "\n",
        "print(\"EXPRESSION:\\n\")\n",
        "print(\"Atomic Density of 235: \" + str(Atomic_Density_235Q3))\n",
        "print(\"Atomic Density of 238: \" + str(Atomic_Density_238Q3) + \"\\n\")\n",
        "\n",
        "Atomic_Density_235Q3val = (iso235_val * 0.01) * Atomic_Density_H2O_Q3val\n",
        "Atomic_Density_238Q3val = (iso238_val * 0.01) * Atomic_Density_H2O_Q3val\n",
        "Sigmaa_235Q3val = Atomic_Density_235Q3val * sigmaa_235_zero\n",
        "Sigmaf_235Q3val = Atomic_Density_235Q3val * sigmaf_235_zero\n",
        "Sigmaa_238Q3val = Atomic_Density_238Q3val * sigmaa_238_zero\n",
        "\n",
        "print(\"\\nVALUES:\\n\")\n",
        "print(\"Atomic Density of 235: \" + str(Atomic_Density_235Q3val) + \" atm/cm3\")\n",
        "print(\"Atomic Density of 238: \" + str(Atomic_Density_238Q3val) + \" atm/cm3\")\n",
        "print(\"Macroscopic Sigma Absorption of Uranium-235: \" + str(Sigmaa_235Q3val) + \" cm^-1\")\n",
        "print(\"Macroscopic Sigma Fission of Uranium-235: \" + str(Sigmaf_235Q3val) + \" cm^-1\")\n",
        "print(\"Macroscopic Sigma Absorption of Uranium-238: \" + str(Sigmaa_238Q3val) + \" cm^-1\")\n",
        "\n",
        "Bmb_val = sp.sqrt((Sigmaa_235Q3val + Sigmaa_238Q3val + Sigmaa_r_Q3val - (nubar_val * Sigmaf_235Q3val)) / (Dr_val)).evalf()\n",
        "Db_val = Dr_val\n",
        "\n",
        "print(\"\\nMaterial Buckling for the Blanket Region: \" + str(Bmb_val) + \" cm^-2\")\n",
        "print(\"Diffusion coefficient in the Blanket Region: \" + str(Db_val) + \" cm\")"
      ]
    },
    {
      "cell_type": "markdown",
      "metadata": {
        "id": "V1sGh2ncY0fj"
      },
      "source": [
        "Now we have as data $B_{m}^{C}$, $B_{m}^{B}$, $L^{R}$, $b$, $D^{C}$, $D^{B}$ and $D^{R}$. By applying the BCs (a),(b),(c) and (d) we obtain 4 equations in 4 variables $A_C$, $A_B$, $B_B$ and $A_R$.\n",
        "\n",
        "If we express the problem as a matrix and we ask the determinant to be equal to zero, we are able to obtain the value of $a$ that is the width of the Core Region.\n"
      ]
    },
    {
      "cell_type": "code",
      "execution_count": null,
      "metadata": {
        "colab": {
          "base_uri": "https://localhost:8080/",
          "height": 59
        },
        "id": "guuKkgAfabVb",
        "outputId": "82af5914-fef4-40dd-f888-a95d7f3f7e96"
      },
      "outputs": [
        {
          "data": {
            "text/latex": [
              "$\\displaystyle - A_{B} \\cosh{\\left(\\frac{B_{m}^{B} a}{2} \\right)} + A_{C} \\cos{\\left(\\frac{B_{m}^{C} a}{2} \\right)} - B_{B} \\sinh{\\left(\\frac{B_{m}^{B} a}{2} \\right)} = 0$"
            ],
            "text/plain": [
              "Eq(-A_B*cosh(B_{m}^{B}*a/2) + A_C*cos(B_{m}^{C}*a/2) - B_B*sinh(B_{m}^{B}*a/2), 0)"
            ]
          },
          "execution_count": 36,
          "metadata": {},
          "output_type": "execute_result"
        }
      ],
      "source": [
        "#Boundary Condition (a)\n",
        "\n",
        "Core_SolutionQ3_int = Core_SolutionQ3.subs(x,a/2)\n",
        "Blanket_SolutionQ3_inta = Blanket_SolutionQ3.subs(x,a/2)\n",
        "EquationA = sp.Eq(Core_SolutionQ3_int.rhs - Blanket_SolutionQ3_inta.rhs , 0)\n",
        "EquationA"
      ]
    },
    {
      "cell_type": "code",
      "execution_count": null,
      "metadata": {
        "colab": {
          "base_uri": "https://localhost:8080/",
          "height": 59
        },
        "id": "RF5n46eJcmFE",
        "outputId": "b9dc9a8a-1b0b-446c-a4d9-91d507a3d715"
      },
      "outputs": [
        {
          "data": {
            "text/latex": [
              "$\\displaystyle A_{C} B_{m}^{C} D^{C} \\sin{\\left(\\frac{B_{m}^{C} a}{2} \\right)} + D^{B} \\left(A_{B} B_{m}^{B} \\sinh{\\left(\\frac{B_{m}^{B} a}{2} \\right)} + B_{B} B_{m}^{B} \\cosh{\\left(\\frac{B_{m}^{B} a}{2} \\right)}\\right) = 0$"
            ],
            "text/plain": [
              "Eq(A_C*B_{m}^{C}*D^{C}*sin(B_{m}^{C}*a/2) + D^{B}*(A_B*B_{m}^{B}*sinh(B_{m}^{B}*a/2) + B_B*B_{m}^{B}*cosh(B_{m}^{B}*a/2)), 0)"
            ]
          },
          "execution_count": 37,
          "metadata": {},
          "output_type": "execute_result"
        }
      ],
      "source": [
        "#Boundary Condition (b)\n",
        "\n",
        "Core_CurrentQ3 = - Dc * Core_SolutionQ3.rhs.diff(x)\n",
        "Core_CurrentQ3_int = Core_CurrentQ3.subs(x,(a/2))\n",
        "\n",
        "Blanket_CurrentQ3 = - Db * Blanket_SolutionQ3.rhs.diff(x)\n",
        "Blanket_CurrentQ3_inta = Blanket_CurrentQ3.subs(x,(a/2))\n",
        "\n",
        "EquationB = sp.Eq(Core_CurrentQ3_int - Blanket_CurrentQ3_inta , 0)\n",
        "EquationB"
      ]
    },
    {
      "cell_type": "code",
      "execution_count": null,
      "metadata": {
        "colab": {
          "base_uri": "https://localhost:8080/",
          "height": 52
        },
        "id": "GX6HUn19fStT",
        "outputId": "86dc7027-51c1-48ae-ead5-f5cfb7a3de5d"
      },
      "outputs": [
        {
          "data": {
            "text/latex": [
              "$\\displaystyle A_{B} \\cosh{\\left(B_{m}^{B} \\left(\\frac{a}{2} + b\\right) \\right)} - A_{R} e^{- \\frac{\\frac{a}{2} + b}{L^{R}}} + B_{B} \\sinh{\\left(B_{m}^{B} \\left(\\frac{a}{2} + b\\right) \\right)} = 0$"
            ],
            "text/plain": [
              "Eq(A_B*cosh(B_{m}^{B}*(a/2 + b)) - A_R*exp(-(a/2 + b)/L^{R}) + B_B*sinh(B_{m}^{B}*(a/2 + b)), 0)"
            ]
          },
          "execution_count": 38,
          "metadata": {},
          "output_type": "execute_result"
        }
      ],
      "source": [
        "#Boundary Condition (c)\n",
        "\n",
        "Blanket_SolutionQ3_intb = Blanket_SolutionQ3.subs(x,(a/2) + b)\n",
        "Reflector_SolutionQ3_int = Reflector_SolutionQ3.subs(x,(a/2) + b)\n",
        "EquationC = sp.Eq(Blanket_SolutionQ3_intb.rhs - Reflector_SolutionQ3_int.rhs , 0)\n",
        "EquationC"
      ]
    },
    {
      "cell_type": "code",
      "execution_count": null,
      "metadata": {
        "colab": {
          "base_uri": "https://localhost:8080/",
          "height": 63
        },
        "id": "KcAJnoGVgSE5",
        "outputId": "7b11dea5-768c-495b-ea43-74713a559756"
      },
      "outputs": [
        {
          "data": {
            "text/latex": [
              "$\\displaystyle \\frac{A_{R} D^{R} e^{- \\frac{\\frac{a}{2} + b}{L^{R}}}}{L^{R}} + D^{B} \\left(A_{B} B_{m}^{B} \\sinh{\\left(B_{m}^{B} \\left(\\frac{a}{2} + b\\right) \\right)} + B_{B} B_{m}^{B} \\cosh{\\left(B_{m}^{B} \\left(\\frac{a}{2} + b\\right) \\right)}\\right) = 0$"
            ],
            "text/plain": [
              "Eq(A_R*D^{R}*exp(-(a/2 + b)/L^{R})/L^{R} + D^{B}*(A_B*B_{m}^{B}*sinh(B_{m}^{B}*(a/2 + b)) + B_B*B_{m}^{B}*cosh(B_{m}^{B}*(a/2 + b))), 0)"
            ]
          },
          "execution_count": 39,
          "metadata": {},
          "output_type": "execute_result"
        }
      ],
      "source": [
        "#Boundary Condition (d)\n",
        "\n",
        "Blanket_CurrentQ3_intb = Blanket_CurrentQ3.subs(x,(a/2) + b)\n",
        "\n",
        "Reflector_CurrentQ3 = -Dr * Reflector_SolutionQ3.rhs.diff(x)\n",
        "Reflector_CurrentQ3_int = Reflector_CurrentQ3.subs(x,(a/2) + b)\n",
        "\n",
        "EquationD = sp.Eq(Reflector_CurrentQ3_int - Blanket_CurrentQ3_intb , 0)\n",
        "EquationD "
      ]
    },
    {
      "cell_type": "code",
      "execution_count": null,
      "metadata": {
        "colab": {
          "base_uri": "https://localhost:8080/",
          "height": 177
        },
        "id": "HWoBJ2c7hp47",
        "outputId": "16ffce2c-63ed-43d2-adc1-a0873a472dcf"
      },
      "outputs": [
        {
          "name": "stdout",
          "output_type": "stream",
          "text": [
            "Vector of variables: Matrix([[A_C], [A_B], [B_B], [A_R]])\n",
            "\n"
          ]
        },
        {
          "data": {
            "text/latex": [
              "$\\displaystyle \\left[\\begin{matrix}\\cos{\\left(\\frac{B_{m}^{C} a}{2} \\right)} & - \\cosh{\\left(\\frac{B_{m}^{B} a}{2} \\right)} & - \\sinh{\\left(\\frac{B_{m}^{B} a}{2} \\right)} & 0\\\\B_{m}^{C} D^{C} \\sin{\\left(\\frac{B_{m}^{C} a}{2} \\right)} & B_{m}^{B} D^{B} \\sinh{\\left(\\frac{B_{m}^{B} a}{2} \\right)} & B_{m}^{B} D^{B} \\cosh{\\left(\\frac{B_{m}^{B} a}{2} \\right)} & 0\\\\0 & \\cosh{\\left(B_{m}^{B} \\left(\\frac{a}{2} + b\\right) \\right)} & \\sinh{\\left(B_{m}^{B} \\left(\\frac{a}{2} + b\\right) \\right)} & - e^{- \\frac{\\frac{a}{2} + b}{L^{R}}}\\\\0 & B_{m}^{B} D^{B} \\sinh{\\left(B_{m}^{B} \\left(\\frac{a}{2} + b\\right) \\right)} & B_{m}^{B} D^{B} \\cosh{\\left(B_{m}^{B} \\left(\\frac{a}{2} + b\\right) \\right)} & \\frac{D^{R} e^{- \\frac{\\frac{a}{2} + b}{L^{R}}}}{L^{R}}\\end{matrix}\\right]$"
            ],
            "text/plain": [
              "Matrix([\n",
              "[                cos(B_{m}^{C}*a/2),                      -cosh(B_{m}^{B}*a/2),                      -sinh(B_{m}^{B}*a/2),                                 0],\n",
              "[B_{m}^{C}*D^{C}*sin(B_{m}^{C}*a/2),       B_{m}^{B}*D^{B}*sinh(B_{m}^{B}*a/2),       B_{m}^{B}*D^{B}*cosh(B_{m}^{B}*a/2),                                 0],\n",
              "[                                 0,                 cosh(B_{m}^{B}*(a/2 + b)),                 sinh(B_{m}^{B}*(a/2 + b)),            -exp(-(a/2 + b)/L^{R})],\n",
              "[                                 0, B_{m}^{B}*D^{B}*sinh(B_{m}^{B}*(a/2 + b)), B_{m}^{B}*D^{B}*cosh(B_{m}^{B}*(a/2 + b)), D^{R}*exp(-(a/2 + b)/L^{R})/L^{R}]])"
            ]
          },
          "execution_count": 40,
          "metadata": {},
          "output_type": "execute_result"
        }
      ],
      "source": [
        "#Problem as a product of a matrix M and a vector n / We have  M*n=0\n",
        "\n",
        "M = sp.zeros(4, 4)\n",
        "n = sp.Matrix([Ac,Ab,Bb,Ar])\n",
        "print(\"Vector of variables: \" + str(n) + \"\\n\")\n",
        "\n",
        "M[0,0] = Core_SolutionQ3_int.rhs / Ac\n",
        "M[0,1] = - Blanket_SolutionQ3_inta.rhs.subs(Bb,0) / Ab\n",
        "M[0,2] = - Blanket_SolutionQ3_inta.rhs.subs(Ab,0) / Bb\n",
        "M[0,3] = 0\n",
        "\n",
        "M[1,0] = Core_CurrentQ3_int / Ac\n",
        "M[1,1] = - Blanket_CurrentQ3_inta.subs(Bb,0) / Ab\n",
        "M[1,2] = - Blanket_CurrentQ3_inta.subs(Ab,0) / Bb\n",
        "M[1,3] = 0\n",
        "\n",
        "M[2,0] = 0\n",
        "M[2,1] = Blanket_SolutionQ3_intb.rhs.subs(Bb,0) / Ab\n",
        "M[2,2] = Blanket_SolutionQ3_intb.rhs.subs(Ab,0) / Bb\n",
        "M[2,3] = - Reflector_SolutionQ3_int.rhs / Ar\n",
        "\n",
        "M[3,0] = 0\n",
        "M[3,1] = - Blanket_CurrentQ3_intb.subs(Bb,0) / Ab\n",
        "M[3,2] = - Blanket_CurrentQ3_intb.subs(Ab,0) / Bb\n",
        "M[3,3] = Reflector_CurrentQ3_int / Ar\n",
        "\n",
        "M"
      ]
    },
    {
      "cell_type": "code",
      "execution_count": null,
      "metadata": {
        "colab": {
          "base_uri": "https://localhost:8080/",
          "height": 112
        },
        "id": "NMMhMbP7lbKZ",
        "outputId": "e9485fff-ed17-4d05-a80e-29bbd12c4ff7"
      },
      "outputs": [
        {
          "data": {
            "text/latex": [
              "$\\displaystyle \\left[\\begin{matrix}B_{m}^{B} D^{B} \\sinh{\\left(\\frac{B_{m}^{B} a}{2} \\right)} & B_{m}^{B} D^{B} \\cosh{\\left(\\frac{B_{m}^{B} a}{2} \\right)} & 0\\\\\\cosh{\\left(B_{m}^{B} \\left(\\frac{a}{2} + b\\right) \\right)} & \\sinh{\\left(B_{m}^{B} \\left(\\frac{a}{2} + b\\right) \\right)} & - e^{- \\frac{\\frac{a}{2} + b}{L^{R}}}\\\\B_{m}^{B} D^{B} \\sinh{\\left(B_{m}^{B} \\left(\\frac{a}{2} + b\\right) \\right)} & B_{m}^{B} D^{B} \\cosh{\\left(B_{m}^{B} \\left(\\frac{a}{2} + b\\right) \\right)} & \\frac{D^{R} e^{- \\frac{\\frac{a}{2} + b}{L^{R}}}}{L^{R}}\\end{matrix}\\right]$"
            ],
            "text/plain": [
              "Matrix([\n",
              "[      B_{m}^{B}*D^{B}*sinh(B_{m}^{B}*a/2),       B_{m}^{B}*D^{B}*cosh(B_{m}^{B}*a/2),                                 0],\n",
              "[                cosh(B_{m}^{B}*(a/2 + b)),                 sinh(B_{m}^{B}*(a/2 + b)),            -exp(-(a/2 + b)/L^{R})],\n",
              "[B_{m}^{B}*D^{B}*sinh(B_{m}^{B}*(a/2 + b)), B_{m}^{B}*D^{B}*cosh(B_{m}^{B}*(a/2 + b)), D^{R}*exp(-(a/2 + b)/L^{R})/L^{R}]])"
            ]
          },
          "execution_count": 41,
          "metadata": {},
          "output_type": "execute_result"
        }
      ],
      "source": [
        "#Matrix M1 extracted from M\n",
        "determinant_M = sp.det(M)\n",
        "determinant_M_val = determinant_M.subs({Bmc:Bmc_val, Lr:Lr_Q3val, Dc:Dc_val, Db:Db_val, Dr:Dr_val, Bmb:Bmb_val, b:b_val})\n",
        "\n",
        "M1 = sp.zeros(3,3)\n",
        "for i in range(0,3):\n",
        "  for j in range(0,3):\n",
        "    M1[i,j] = M[i+1,j+1]\n",
        "M1"
      ]
    },
    {
      "cell_type": "code",
      "execution_count": null,
      "metadata": {
        "colab": {
          "base_uri": "https://localhost:8080/",
          "height": 112
        },
        "id": "sCu9qeBotg1c",
        "outputId": "66747a86-986b-4571-d04f-2288c26c571c"
      },
      "outputs": [
        {
          "data": {
            "text/latex": [
              "$\\displaystyle \\left[\\begin{matrix}- \\cosh{\\left(\\frac{B_{m}^{B} a}{2} \\right)} & - \\sinh{\\left(\\frac{B_{m}^{B} a}{2} \\right)} & 0\\\\\\cosh{\\left(B_{m}^{B} \\left(\\frac{a}{2} + b\\right) \\right)} & \\sinh{\\left(B_{m}^{B} \\left(\\frac{a}{2} + b\\right) \\right)} & - e^{- \\frac{\\frac{a}{2} + b}{L^{R}}}\\\\B_{m}^{B} D^{B} \\sinh{\\left(B_{m}^{B} \\left(\\frac{a}{2} + b\\right) \\right)} & B_{m}^{B} D^{B} \\cosh{\\left(B_{m}^{B} \\left(\\frac{a}{2} + b\\right) \\right)} & \\frac{D^{R} e^{- \\frac{\\frac{a}{2} + b}{L^{R}}}}{L^{R}}\\end{matrix}\\right]$"
            ],
            "text/plain": [
              "Matrix([\n",
              "[                     -cosh(B_{m}^{B}*a/2),                      -sinh(B_{m}^{B}*a/2),                                 0],\n",
              "[                cosh(B_{m}^{B}*(a/2 + b)),                 sinh(B_{m}^{B}*(a/2 + b)),            -exp(-(a/2 + b)/L^{R})],\n",
              "[B_{m}^{B}*D^{B}*sinh(B_{m}^{B}*(a/2 + b)), B_{m}^{B}*D^{B}*cosh(B_{m}^{B}*(a/2 + b)), D^{R}*exp(-(a/2 + b)/L^{R})/L^{R}]])"
            ]
          },
          "execution_count": 42,
          "metadata": {},
          "output_type": "execute_result"
        }
      ],
      "source": [
        "#Matrix M2 extracted from M\n",
        "M2 = sp.zeros(3,3)\n",
        "for i in range(0,3):\n",
        "  for j in range(0,3):\n",
        "    if i==0: M2[i,j] = M[i,j+1]\n",
        "    if i==1: M2[i,j] = M[i+1,j+1]\n",
        "    if i==2: M2[i,j] = M[i+1,j+1]\n",
        "M2"
      ]
    },
    {
      "cell_type": "code",
      "execution_count": null,
      "metadata": {
        "colab": {
          "base_uri": "https://localhost:8080/",
          "height": 86
        },
        "id": "LwpDnXzAp1KK",
        "outputId": "44585b5f-2403-448a-9ead-7814cdcae6ea"
      },
      "outputs": [
        {
          "data": {
            "text/latex": [
              "$\\displaystyle \\frac{\\left(B_{m}^{B}\\right)^{2} \\left(D^{B}\\right)^{2} L^{R} e^{- \\frac{a}{2 L^{R}} - \\frac{b}{L^{R}}} \\sinh{\\left(\\frac{B_{m}^{B} a}{2} \\right)} \\cosh{\\left(\\frac{B_{m}^{B} a}{2} + B_{m}^{B} b \\right)} - \\left(B_{m}^{B}\\right)^{2} \\left(D^{B}\\right)^{2} L^{R} e^{- \\frac{a}{2 L^{R}} - \\frac{b}{L^{R}}} \\sinh{\\left(\\frac{B_{m}^{B} a}{2} + B_{m}^{B} b \\right)} \\cosh{\\left(\\frac{B_{m}^{B} a}{2} \\right)} + B_{m}^{B} D^{B} D^{R} e^{- \\frac{a}{2 L^{R}} - \\frac{b}{L^{R}}} \\sinh{\\left(\\frac{B_{m}^{B} a}{2} \\right)} \\sinh{\\left(\\frac{B_{m}^{B} a}{2} + B_{m}^{B} b \\right)} - B_{m}^{B} D^{B} D^{R} e^{- \\frac{a}{2 L^{R}} - \\frac{b}{L^{R}}} \\cosh{\\left(\\frac{B_{m}^{B} a}{2} \\right)} \\cosh{\\left(\\frac{B_{m}^{B} a}{2} + B_{m}^{B} b \\right)}}{L^{R}}$"
            ],
            "text/plain": [
              "(B_{m}^{B}**2*D^{B}**2*L^{R}*exp(-a/(2*L^{R}) - b/L^{R})*sinh(B_{m}^{B}*a/2)*cosh(B_{m}^{B}*a/2 + B_{m}^{B}*b) - B_{m}^{B}**2*D^{B}**2*L^{R}*exp(-a/(2*L^{R}) - b/L^{R})*sinh(B_{m}^{B}*a/2 + B_{m}^{B}*b)*cosh(B_{m}^{B}*a/2) + B_{m}^{B}*D^{B}*D^{R}*exp(-a/(2*L^{R}) - b/L^{R})*sinh(B_{m}^{B}*a/2)*sinh(B_{m}^{B}*a/2 + B_{m}^{B}*b) - B_{m}^{B}*D^{B}*D^{R}*exp(-a/(2*L^{R}) - b/L^{R})*cosh(B_{m}^{B}*a/2)*cosh(B_{m}^{B}*a/2 + B_{m}^{B}*b))/L^{R}"
            ]
          },
          "execution_count": 43,
          "metadata": {},
          "output_type": "execute_result"
        }
      ],
      "source": [
        "sp.det(M1)"
      ]
    },
    {
      "cell_type": "code",
      "execution_count": null,
      "metadata": {
        "colab": {
          "base_uri": "https://localhost:8080/",
          "height": 66
        },
        "id": "5hMXBiZOs6Qy",
        "outputId": "ea8a4562-c6f0-4366-e114-63a74e872226"
      },
      "outputs": [
        {
          "data": {
            "text/latex": [
              "$\\displaystyle \\frac{B_{m}^{B} D^{B} L^{R} e^{- \\frac{a}{2 L^{R}} - \\frac{b}{L^{R}}} \\sinh{\\left(\\frac{B_{m}^{B} a}{2} \\right)} \\sinh{\\left(\\frac{B_{m}^{B} a}{2} + B_{m}^{B} b \\right)} - B_{m}^{B} D^{B} L^{R} e^{- \\frac{a}{2 L^{R}} - \\frac{b}{L^{R}}} \\cosh{\\left(\\frac{B_{m}^{B} a}{2} \\right)} \\cosh{\\left(\\frac{B_{m}^{B} a}{2} + B_{m}^{B} b \\right)} + D^{R} e^{- \\frac{a}{2 L^{R}} - \\frac{b}{L^{R}}} \\sinh{\\left(\\frac{B_{m}^{B} a}{2} \\right)} \\cosh{\\left(\\frac{B_{m}^{B} a}{2} + B_{m}^{B} b \\right)} - D^{R} e^{- \\frac{a}{2 L^{R}} - \\frac{b}{L^{R}}} \\sinh{\\left(\\frac{B_{m}^{B} a}{2} + B_{m}^{B} b \\right)} \\cosh{\\left(\\frac{B_{m}^{B} a}{2} \\right)}}{L^{R}}$"
            ],
            "text/plain": [
              "(B_{m}^{B}*D^{B}*L^{R}*exp(-a/(2*L^{R}) - b/L^{R})*sinh(B_{m}^{B}*a/2)*sinh(B_{m}^{B}*a/2 + B_{m}^{B}*b) - B_{m}^{B}*D^{B}*L^{R}*exp(-a/(2*L^{R}) - b/L^{R})*cosh(B_{m}^{B}*a/2)*cosh(B_{m}^{B}*a/2 + B_{m}^{B}*b) + D^{R}*exp(-a/(2*L^{R}) - b/L^{R})*sinh(B_{m}^{B}*a/2)*cosh(B_{m}^{B}*a/2 + B_{m}^{B}*b) - D^{R}*exp(-a/(2*L^{R}) - b/L^{R})*sinh(B_{m}^{B}*a/2 + B_{m}^{B}*b)*cosh(B_{m}^{B}*a/2))/L^{R}"
            ]
          },
          "execution_count": 44,
          "metadata": {},
          "output_type": "execute_result"
        }
      ],
      "source": [
        "sp.det(M2)"
      ]
    },
    {
      "cell_type": "markdown",
      "metadata": {
        "id": "M5f5_nr11CPI"
      },
      "source": [
        "After a series of calculations and simplifications I have written det(M)=0 in the following form:"
      ]
    },
    {
      "cell_type": "code",
      "execution_count": null,
      "metadata": {
        "id": "URx9bjPS1Alk"
      },
      "outputs": [],
      "source": [
        "#I have splitted the Determinant into two terms by using the matrixes M1 and M2 reported above\n",
        "LHS_detM = Bmb*Db*sp.cos(Bmc*(a/2))*(sp.tanh(Bmb*a/2)*((Dr/Lr)*sp.tanh(Bmb*((a/2)+b)) + Bmb*Db) - ((Dr/Lr) + Bmb*Db*sp.tanh(Bmb*((a/2)+b))))\n",
        "RHS_detM = Bmc*Dc*sp.sin(Bmc*(a/2))*(-1*((Dr/Lr)*sp.tanh(Bmb*((a/2)+b)) + Bmb*Db) + sp.tanh(Bmb*((a/2)+b))*((Dr/Lr) + Bmb*Db*sp.tanh(Bmb*((a/2)+b))))"
      ]
    },
    {
      "cell_type": "code",
      "execution_count": null,
      "metadata": {
        "colab": {
          "base_uri": "https://localhost:8080/",
          "height": 68
        },
        "id": "lmfdg-Xa4nnE",
        "outputId": "c3adf0b2-4fd0-4671-9c9a-3cadb954a793"
      },
      "outputs": [
        {
          "data": {
            "text/latex": [
              "$\\displaystyle B_{m}^{B} D^{B} \\left(- B_{m}^{B} D^{B} \\tanh{\\left(B_{m}^{B} \\left(\\frac{a}{2} + b\\right) \\right)} - \\frac{D^{R}}{L^{R}} + \\left(B_{m}^{B} D^{B} + \\frac{D^{R} \\tanh{\\left(B_{m}^{B} \\left(\\frac{a}{2} + b\\right) \\right)}}{L^{R}}\\right) \\tanh{\\left(\\frac{B_{m}^{B} a}{2} \\right)}\\right) \\cos{\\left(\\frac{B_{m}^{C} a}{2} \\right)}$"
            ],
            "text/plain": [
              "B_{m}^{B}*D^{B}*(-B_{m}^{B}*D^{B}*tanh(B_{m}^{B}*(a/2 + b)) - D^{R}/L^{R} + (B_{m}^{B}*D^{B} + D^{R}*tanh(B_{m}^{B}*(a/2 + b))/L^{R})*tanh(B_{m}^{B}*a/2))*cos(B_{m}^{C}*a/2)"
            ]
          },
          "execution_count": 46,
          "metadata": {},
          "output_type": "execute_result"
        }
      ],
      "source": [
        "#Left-hand-side term\n",
        "LHS_detM"
      ]
    },
    {
      "cell_type": "code",
      "execution_count": null,
      "metadata": {
        "colab": {
          "base_uri": "https://localhost:8080/",
          "height": 68
        },
        "id": "LqfePAAn4ovS",
        "outputId": "c5e8a98e-1b91-43f0-9090-1d793f525611"
      },
      "outputs": [
        {
          "data": {
            "text/latex": [
              "$\\displaystyle B_{m}^{C} D^{C} \\left(- B_{m}^{B} D^{B} - \\frac{D^{R} \\tanh{\\left(B_{m}^{B} \\left(\\frac{a}{2} + b\\right) \\right)}}{L^{R}} + \\left(B_{m}^{B} D^{B} \\tanh{\\left(B_{m}^{B} \\left(\\frac{a}{2} + b\\right) \\right)} + \\frac{D^{R}}{L^{R}}\\right) \\tanh{\\left(B_{m}^{B} \\left(\\frac{a}{2} + b\\right) \\right)}\\right) \\sin{\\left(\\frac{B_{m}^{C} a}{2} \\right)}$"
            ],
            "text/plain": [
              "B_{m}^{C}*D^{C}*(-B_{m}^{B}*D^{B} - D^{R}*tanh(B_{m}^{B}*(a/2 + b))/L^{R} + (B_{m}^{B}*D^{B}*tanh(B_{m}^{B}*(a/2 + b)) + D^{R}/L^{R})*tanh(B_{m}^{B}*(a/2 + b)))*sin(B_{m}^{C}*a/2)"
            ]
          },
          "execution_count": 47,
          "metadata": {},
          "output_type": "execute_result"
        }
      ],
      "source": [
        "#Right-hand-side term\n",
        "RHS_detM"
      ]
    },
    {
      "cell_type": "markdown",
      "metadata": {
        "id": "_9r-et4haEiO"
      },
      "source": [
        "I have simplified a bit these two equations since the result obtained by plotting the these terms and performing an analysis of the trascendental equation didn't give me back a good response (maybe due to some mistakes in the code). By simplifying some terms I have reached this final simple equation:\n",
        "\n",
        "\\begin{equation}\n",
        "tan(B_{m}^{C}\\;\\frac{a}{2}) \\simeq \\frac{B_{m}^{B}\\;D^B}{B_{m}^{C}\\;D^C} = \n",
        "\\frac{B_{m}^{B}}{B_{m}^{C}}\\;\\;\\;\\;\\;\\;\\;\\;;\\;\\;\\;\\;\\;\\;\\;\\;D_B \\sim D_C \\sim D_R = 0.16\\;cm \\\\\n",
        "\\end{equation}"
      ]
    },
    {
      "cell_type": "code",
      "execution_count": null,
      "metadata": {
        "colab": {
          "base_uri": "https://localhost:8080/",
          "height": 47
        },
        "id": "ynPzMMs0Zy16",
        "outputId": "c386a249-c6aa-4612-a8c8-c8c2635fce88"
      },
      "outputs": [
        {
          "data": {
            "text/latex": [
              "$\\displaystyle \\frac{a}{2} = 25.2052$"
            ],
            "text/plain": [
              "Eq(a/2, 25.2052)"
            ]
          },
          "execution_count": 48,
          "metadata": {},
          "output_type": "execute_result"
        }
      ],
      "source": [
        "#Value of half the slab dimension a/2\n",
        "\n",
        "s = sp.Symbol(\"s\")\n",
        "\n",
        "Simpl_Equation = sp.Eq(sp.tan(Bmc*(a/2)) , (Bmb/Bmc))\n",
        "Simpl_Equation = Simpl_Equation.subs({Bmc:Bmc_val, Bmb:Bmb_val, (a/2):s})\n",
        "Simpl_Eq_Sol = round(sp.solve(Simpl_Equation , s)[0] , 4)\n",
        "\n",
        "sp.Eq((a/2) , Simpl_Eq_Sol)"
      ]
    },
    {
      "cell_type": "markdown",
      "metadata": {
        "id": "PAd_btq1Izn6"
      },
      "source": [
        "The following script refers to the same calculation performed above but without simplifications. As we can see the result is not that we expected."
      ]
    },
    {
      "cell_type": "code",
      "execution_count": null,
      "metadata": {
        "colab": {
          "base_uri": "https://localhost:8080/",
          "height": 469
        },
        "id": "jMrZfJVm4_cr",
        "outputId": "9263670e-637b-41b8-e4b4-6a67fe456687"
      },
      "outputs": [
        {
          "name": "stdout",
          "output_type": "stream",
          "text": [
            "Graphically we can evaluate 'a/2' as:  27.859 cm\n",
            "\n"
          ]
        },
        {
          "data": {
            "image/png": "[encoded data removed]",
            "text/plain": [
              "<Figure size 660x440 with 1 Axes>"
            ]
          },
          "metadata": {
            "needs_background": "light"
          },
          "output_type": "display_data"
        }
      ],
      "source": [
        "#Plotting the trascendental equation to evaluate the Core Width\n",
        "\n",
        "s = sp.Symbol(\"s\")\n",
        "\n",
        "LHS_detM_val = LHS_detM.subs({Bmb:Bmb_val, Bmc:Bmc_val, Db:Db_val, b:b_val, Dr:Dr_val, Lr:Lr_Q3val, (a/2):s})\n",
        "RHS_detM_val = RHS_detM.subs({Bmb:Bmb_val, Bmc:Bmc_val, Db:Db_val, b:b_val, Dr:Dr_val, Lr:Lr_Q3val, Dc:Dc_val, (a/2):s})\n",
        "\n",
        "LHS_detM_lambda1 = sp.lambdify(s,LHS_detM_val)\n",
        "RHS_detM_lambda1 = sp.lambdify(s,RHS_detM_val)\n",
        "\n",
        "k = np.linspace(27.85,27.87,600)\n",
        "\n",
        "LHS_detM_lambda2 = LHS_detM_lambda1(k)/(10**-14)\n",
        "RHS_detM_lambda2 = RHS_detM_lambda1(k)/(10**-14)\n",
        "\n",
        "plt.figure(figsize=[6,4], dpi=110)\n",
        "plt.plot(k,LHS_detM_lambda2,color=\"red\", label=\"LHS\")\n",
        "plt.plot(k,RHS_detM_lambda2,color=\"blue\", label=\"RHS\")\n",
        "\n",
        "plt.title(\"Trascendental Equation\",fontsize=10,fontstyle=\"italic\")\n",
        "plt.xlabel(\"Value of 'a/2'[cm]\",fontsize=10,fontstyle=\"italic\")\n",
        "plt.xticks(fontsize=7)\n",
        "plt.yticks(fontsize=7)\n",
        "plt.legend(fontsize=10)\n",
        "plt.grid(\"gray\",linewidth=0.5, linestyle=\"-\")\n",
        "\n",
        "a_half_val = round((27.8575 + 27.8600)/2,3)\n",
        "plt.scatter(a_half_val ,LHS_detM_lambda1(a_half_val )/(10**-14), marker=\"o\",color=\"black\")\n",
        "print(\"Graphically we can evaluate 'a/2' as:  \" + str(a_half_val) + \" cm\\n\")"
      ]
    },
    {
      "cell_type": "markdown",
      "metadata": {
        "id": "BHLg0fPVJIOk"
      },
      "source": [
        "The Problem asks also for a comparison between Problem 2 and Problem 3. We have just to take the same matix and determinant that we have found in the previous calculations and apply the limit to the case of a slab Core made only of Reflector and Core regions. This situation can be described as:\n",
        "\n",
        "* $b=0\\;cm$\n",
        "* $(B_{m}^{B})^2 = \\frac{1}{L_R^2}$"
      ]
    },
    {
      "cell_type": "code",
      "execution_count": null,
      "metadata": {
        "colab": {
          "base_uri": "https://localhost:8080/",
          "height": 469
        },
        "id": "BTURPz0NUJuk",
        "outputId": "b66eaffc-3067-4f96-b92c-d1ce957506bf"
      },
      "outputs": [
        {
          "name": "stdout",
          "output_type": "stream",
          "text": [
            "Graphically we can evaluate 'a/2' as:  25.258 cm\n",
            "\n"
          ]
        },
        {
          "data": {
            "image/png": "[encoded data removed]",
            "text/plain": [
              "<Figure size 660x440 with 1 Axes>"
            ]
          },
          "metadata": {
            "needs_background": "light"
          },
          "output_type": "display_data"
        }
      ],
      "source": [
        "#Comparison between Problem 2 and Problem 3\n",
        "\n",
        "#Problem 2 (b=0cm, 1/Lr^2 = Bmb^2)\n",
        "LHS_case2 = LHS_detM.subs(b,0)\n",
        "LHS_case22 = LHS_case2.subs({Bmb:(1/Lr_Q3val), Bmc:Bmc_val, Db:Db_val, Dr:Dr_val, Lr:Lr_Q3val, (a/2):s})\n",
        "RHS_case2 = RHS_detM.subs(b,0)\n",
        "RHS_case22 = RHS_case2.subs({Bmb:(1/Lr_Q3val), Bmc:Bmc_val, Db:Db_val, Dr:Dr_val, Lr:Lr_Q3val, Dc:Dc_val, (a/2):s})\n",
        "\n",
        "LHS_case2_lambda1 = sp.lambdify(s,LHS_case22)\n",
        "RHS_case2_lambda1 = sp.lambdify(s,RHS_case22)\n",
        "\n",
        "#lambdified functions\n",
        "p = np.linspace(25.2,25.4,600)\n",
        "\n",
        "LHS_case2_lambda2 = LHS_case2_lambda1(p)/(10**-14)\n",
        "RHS_case2_lambda2 = RHS_case2_lambda1(p)/(10**-14)\n",
        "\n",
        "plt.figure(figsize=[6,4], dpi=110)\n",
        "plt.plot(p,LHS_case2_lambda2, color=\"royalblue\", label=\"LHS Q2\")\n",
        "plt.plot(p,RHS_case2_lambda2, color=\"forestgreen\", label=\"RHS Q2\")\n",
        "\n",
        "plt.title(\"Trascendental Equation in the limit to Q2\",fontsize=10,fontstyle=\"italic\")\n",
        "plt.xlabel(\"Value of 'a/2'[cm]\",fontsize=10,fontstyle=\"italic\")\n",
        "plt.xticks(fontsize=7)\n",
        "plt.yticks(fontsize=7)\n",
        "plt.grid(\"gray\",linewidth=0.5, linestyle=\"-\")\n",
        "plt.scatter(25.258, LHS_case2_lambda1(25.258)/(10**-14), marker=\"o\",color=\"black\", label=\"Q2 solution\")\n",
        "plt.legend(fontsize=9)\n",
        "\n",
        "print(\"Graphically we can evaluate 'a/2' as:  \" + str(25.258) + \" cm\\n\")"
      ]
    },
    {
      "cell_type": "markdown",
      "metadata": {
        "id": "m4lyG1k5l5k9"
      },
      "source": [
        "**RECAP FINAL SOLUTION**\n",
        "\n",
        "*DIMENSIONS:*\n",
        "\n",
        "* $Width\\;\\frac{a}{2} = 25.2052\\;cm\\;(Core\\;Region)$\n",
        "* $Width\\;Problem\\;2 = 25.258\\;cm\\;(Limit\\;to\\;Problem\\;2)$\n",
        "\n",
        "*COMPARISONS:*\n",
        "\n",
        "As we can see if we impose the conditions on our Problem 3 such that we are describing the same situation of Problem 2 (which means $b=0\\;cm$ and $B_{m}^{B} = \\frac{1}{L_R}$), we find a value for the Width a little bit greater than that in Problem 2 ($\\frac{a}{2}=25\\;cm$) because now the structure has two regions at lower temperature, hence the absorption is greater in the latter case.\n",
        "\n",
        "Comparing (for the same conditions) Problem 2 and Problem 3 I have a shorter distance in the last excercise since we have the blanket and not only the reflector region surrounding the Core Slab. However this difference is minimum."
      ]
    },
    {
      "cell_type": "markdown",
      "metadata": {
        "id": "BJlFBTfTED2i"
      },
      "source": [
        "#QUESTION 4\n",
        "\n",
        "*In an usupervised room of a nuclear power plant, there is a cylindrical tank containing a mixtrure of Berillyum and* ${^{235}U}$. *The clylinder has a sub-critical configuration with ratio* $\\frac{B_{m}^2}{B_{g}^2}=0.75$, *radius* $R=20\\;cm$ *and height* $H=40\\;cm$. *Now, a person accidentally sits on top of the cylinder. Assume that:*\n",
        "\n",
        "* *The person can be approximated as a cylinder with radius* $R=20\\;cm$\n",
        "* *The person is a homogeneous medium composed of Water*\n",
        "* *Neglect all surfaces and media (floor,air,etc.) near the cylinder and all other materials contained within the cylinder and the worker*\n",
        "* *For both regions the one-speed diffusion model can be used, also neglecting the extrapolated lenght*\n",
        "\n",
        "*Using the data reported below, compute the height* $H_P$ *of the person for which the system becomes critical. Repeat the procedure using* $\\frac{B_{m}^2}{B_{g}^2}=0.93$ *and discuss the safetyof the tank.*\n",
        "\n",
        "**DATA:**\n",
        "\n",
        "\\begin{aligned}\n",
        "{^{235}U}-Be\\;:\\;\\;\\;&\\nu=2.4\\;\\;;\\;\\;\\Sigma_{a}^{U}=0.01297\\;cm^{-1}\\;\\;;\\;\\;D_T=0.7\\;cm\\;\\;;\\;\\;\\Sigma_{a}^{Be}=0.0013\\;cm^{-1} \\\\\n",
        "&\\\\\n",
        "H_2 O\\;:\\;\\;\\;&L_P=2.85\\;cm\\;\\;;\\;\\;D_P=0.16\\;cm \\\\\n",
        "&\\\\\n",
        "Case\\;1\\;:\\;\\;\\;&\\frac{B_{m}^2}{B_{g}^2}=0.75 \\\\\n",
        "&\\\\\n",
        "Case\\;2\\;:\\;\\;\\;&\\frac{B_{m}^2}{B_{g}^2}=0.93 \\\\\n",
        "&\\\\\n",
        "&\\\\\n",
        "\\end{aligned}\n",
        "\n",
        "**RESOLUTION:**\n",
        "\n",
        "We are treating two cylinders for which the Helmoltz equations for fluxes are:\n",
        "\n",
        "\\begin{aligned}\n",
        "&\\\\\n",
        "&\\frac{1}{r}\\;\\frac{\\partial}{\\partial r}\\;r\\;\\frac{\\partial \\phi_T}{\\partial r} + \\frac{\\partial^2 \\phi_T}{\\partial z^2} + (B_{m}^{T})^2\\;\\phi_T(r,z) = 0\\;\\;\\;\\;\\;;\\;\\;\\;\\;\\;z \\leq 0\\;\\;,\\;\\;0 \\leq r \\leq R\\\\\n",
        "&\\\\\n",
        "&\\frac{1}{r}\\;\\frac{\\partial}{\\partial r}\\;r\\;\\frac{\\partial \\phi_P}{\\partial r} + \\frac{\\partial^2 \\phi_P}{\\partial z^2} - \\frac{1}{L_P^2}\\;\\phi_P(r,z) = 0\\;\\;\\;\\;\\;;\\;\\;\\;\\;\\;z \\ge 0\\;\\;,\\;\\;0 \\leq r \\leq R\\\\\n",
        "&\\\\\n",
        "\\end{aligned}\n",
        "\n",
        "I have choosen to place the interface in location $z=0$; in this way we have the Tank cylinder expressed for $z < 0$.\n",
        "\n",
        "If we use the *separation of variable* by seeking the solution in the form:\n",
        "\n",
        "\\begin{equation}\n",
        "\\\\\n",
        "\\phi_i(r,z) = Z_i(z)\\;R_i(r) \\\\\n",
        "\\\\\n",
        "\\end{equation}\n",
        "\n",
        "and applying the separation also to the costants $(B_{m}^{T})^2$ and $\\frac{1}{L_P^2}$:\n",
        "\n",
        "\\begin{aligned}\n",
        "&\\\\\n",
        "*\\;\\;\\;&(B_{m}^{T})^2 = \\alpha ^2 + \\gamma ^2 \\\\\n",
        "&\\\\\n",
        "*\\;\\;\\;&-\\frac{1}{L_P^2} = \\beta ^2 -\\delta ^2 \\\\\n",
        "&\\\\\n",
        "\\end{aligned}\n",
        "\n",
        "We can express the two equations as follow:\n",
        "\n",
        "**EQUATIONS:**\n",
        "\n",
        "\\begin{aligned}\n",
        "&\\\\\n",
        "Tank\\;Cylinder\\;Equations:\\;\\;\\;&(a)\\;\\;\\;\\;\\frac{1}{r}\\;\\frac{\\partial}{\\partial r}\\;r\\;\\frac{\\partial R_T}{\\partial r} + \\alpha^2 R_T(r) = 0 \\\\\n",
        "&\\\\\n",
        "&(b)\\;\\;\\;\\;\\frac{\\partial^2 Z_T}{\\partial z^2} + \\gamma^2 Z_T(z) = 0 \\\\\n",
        "&\\\\\n",
        "Person\\;Cylinder\\;Equations:\\;\\;\\;&(c)\\;\\;\\;\\;\\frac{1}{r}\\;\\frac{\\partial}{\\partial r}\\;r\\;\\frac{\\partial R_P}{\\partial r} + \\beta^2 R_P(r) = 0 \\\\\n",
        "&\\\\\n",
        "&(d)\\;\\;\\;\\;\\frac{\\partial^2 Z_P}{\\partial z^2} - \\delta^2 Z_P(z) = 0 \\\\\n",
        "&\\\\\n",
        "\\end{aligned}\n",
        "\n",
        "for which the solutions are well known to be:\n",
        "\n",
        "**SOLUTIONS:**\n",
        "\n",
        "\\begin{aligned}\n",
        "&\\\\\n",
        "Tank\\;Cylinder\\;Solutions:\\;\\;\\;&(a)\\;\\;\\;\\;R_T(r) = \n",
        "A_T^R\\;J_0(\\alpha\\,r) + B_T^R\\;Y_0(\\alpha\\,r) \\\\\n",
        "&\\\\\n",
        "&(b)\\;\\;\\;\\;Z_T(z) = A_T^Z\\;cos(\\gamma\\,z) + B_T^Z\\;sin(\\gamma\\,z) \\\\\n",
        "&\\\\\n",
        "Person\\;Cylinder\\;Solutions:\\;\\;\\;&(c)\\;\\;\\;\\;R_P(r) = \n",
        "A_P^R\\;J_0(\\beta\\,r) + B_P^R\\;Y_0(\\beta\\,r) \\\\\n",
        "&\\\\\n",
        "&(d)\\;\\;\\;\\;Z_P(z) = A_P^Z\\;cosh(\\delta\\,z) + B_P^Z\\;sinh(\\delta\\,z) \\\\\n",
        "&\\\\\n",
        "\\end{aligned}\n",
        "\n",
        "**BOUNDARY CONDITIONS:**\n",
        "\n",
        "\\begin{aligned}\n",
        "&\\\\\n",
        "(a)\\;\\;\\;\\;&R_T(R) = 0 \\\\\n",
        "&\\\\\n",
        "(b)\\;\\;\\;\\;&R_P(R) = 0 \\\\\n",
        "&\\\\\n",
        "(c)\\;\\;\\;\\;&Z_T(-H_T) = 0 \\\\\n",
        "&\\\\\n",
        "(d)\\;\\;\\;\\;&Z_P(H_P) = 0 \\\\\n",
        "&\\\\\n",
        "(e)\\;\\;\\;\\;&\\phi_T(r,0) = \\phi_P(r,0) \\\\\n",
        "&\\\\\n",
        "(f)\\;\\;\\;\\;&J_T(r,0) = J_P(r,0) \\\\\n",
        "&\\\\\n",
        "\\end{aligned}\n",
        "\n",
        "\n",
        "(the other passages will be described along with the relative script)."
      ]
    },
    {
      "cell_type": "code",
      "execution_count": null,
      "metadata": {
        "id": "y_AppkYZIncD"
      },
      "outputs": [],
      "source": [
        "#Data\n",
        "\n",
        "R_val = 20#cm\n",
        "Ht_val = 40#cm\n",
        "nubarQ4_val = 2.4\n",
        "Sigmaa_UQ4_val = 0.01297#cm^-1\n",
        "Sigmaa_BeQ4_val = 0.0013#cm^-1\n",
        "Dt_Q4_val = 0.7#cm\n",
        "Lp_val = 2.85#cm\n",
        "Dp_Q4_val = 0.16#cm\n",
        "ratioB1 = 0.75\n",
        "ratioB2 = 0.93\n",
        "\n",
        "#Variables and Functions\n",
        "\n",
        "r, z = sp.symbols(\"r, z\") #coordinates\n",
        "\n",
        "R, Ht, Hp = sp.symbols(\"R, H_T, H_P\")\n",
        "Dt, Dp = sp.symbols(\"D_T, D_P\")\n",
        "\n",
        "alpha, gamma, beta, delta = sp.symbols(\"alpha, gamma, beta, delta\") #separation of variables\n",
        "\n",
        "Lp = sp.Symbol(\"L_P\")\n",
        "\n",
        "Atr, Atz, Btr, Btz = sp.symbols(\"A_{T}^{R}, A_{T}^{Z}, B_{T}^{R}, B_{T}^{Z}\") #coefficients for solutions\n",
        "Apr, Apz, Bpr, Bpz = sp.symbols(\"A_{P}^{R}, A_{P}^{Z}, B_{P}^{R}, B_{P}^{Z}\")\n",
        "\n",
        "PhiT, PhiP = sp.symbols(\"\\phi_T, \\phi_P\", cls=sp.Function) #fluxes\n",
        "JT, JP = sp.symbols(\"J_T, J_P\", cls=sp.Function)           #currents\n",
        "\n",
        "Rt, Zt, Rp, Zp = sp.symbols(\"R_T, Z_T, R_P, Z_P\", cls=sp.Function) #radial and vertical separated functions"
      ]
    },
    {
      "cell_type": "code",
      "execution_count": null,
      "metadata": {
        "colab": {
          "base_uri": "https://localhost:8080/",
          "height": 56
        },
        "id": "En1f45lmLqJH",
        "outputId": "6fa99464-d73d-411a-de7d-c8c8eaa3ecd8"
      },
      "outputs": [
        {
          "data": {
            "text/latex": [
              "$\\displaystyle \\alpha^{2} \\operatorname{R_{T}}{\\left(r \\right)} + \\frac{d^{2}}{d r^{2}} \\operatorname{R_{T}}{\\left(r \\right)} + \\frac{\\frac{d}{d r} \\operatorname{R_{T}}{\\left(r \\right)}}{r} = 0$"
            ],
            "text/plain": [
              "Eq(alpha**2*R_T(r) + Derivative(R_T(r), (r, 2)) + Derivative(R_T(r), r)/r, 0)"
            ]
          },
          "execution_count": 52,
          "metadata": {},
          "output_type": "execute_result"
        }
      ],
      "source": [
        "#EQUATIONS\n",
        "\n",
        "#Tank Cylinder Radial Equation\n",
        "RadialT_Equation = sp.Eq((1/r)*Rt(r).diff(r) + Rt(r).diff(r,2) + (alpha**2)*Rt(r) , 0)\n",
        "RadialT_Equation"
      ]
    },
    {
      "cell_type": "code",
      "execution_count": null,
      "metadata": {
        "colab": {
          "base_uri": "https://localhost:8080/",
          "height": 54
        },
        "id": "mlvCO38tOph8",
        "outputId": "1f78ab02-3963-4b97-aa38-186bcbe8e6be"
      },
      "outputs": [
        {
          "data": {
            "text/latex": [
              "$\\displaystyle \\gamma^{2} \\operatorname{Z_{T}}{\\left(z \\right)} + \\frac{d^{2}}{d z^{2}} \\operatorname{Z_{T}}{\\left(z \\right)} = 0$"
            ],
            "text/plain": [
              "Eq(gamma**2*Z_T(z) + Derivative(Z_T(z), (z, 2)), 0)"
            ]
          },
          "execution_count": 53,
          "metadata": {},
          "output_type": "execute_result"
        }
      ],
      "source": [
        "#Tank Cylinder Assial Equation\n",
        "VerticalT_Equation = sp.Eq(Zt(z).diff(z,2) + (gamma**2)*Zt(z) , 0)\n",
        "VerticalT_Equation"
      ]
    },
    {
      "cell_type": "code",
      "execution_count": null,
      "metadata": {
        "colab": {
          "base_uri": "https://localhost:8080/",
          "height": 56
        },
        "id": "0x2OWGVIO_1s",
        "outputId": "95cf78fd-d92b-4f87-f39f-aee0c69a7144"
      },
      "outputs": [
        {
          "data": {
            "text/latex": [
              "$\\displaystyle \\beta^{2} \\operatorname{R_{P}}{\\left(r \\right)} + \\frac{d^{2}}{d r^{2}} \\operatorname{R_{P}}{\\left(r \\right)} + \\frac{\\frac{d}{d r} \\operatorname{R_{P}}{\\left(r \\right)}}{r} = 0$"
            ],
            "text/plain": [
              "Eq(beta**2*R_P(r) + Derivative(R_P(r), (r, 2)) + Derivative(R_P(r), r)/r, 0)"
            ]
          },
          "execution_count": 54,
          "metadata": {},
          "output_type": "execute_result"
        }
      ],
      "source": [
        "#Person Cylinder Radial Equation\n",
        "RadialP_Equation = sp.Eq((1/r)*Rp(r).diff(r) + Rp(r).diff(r,2) + (beta**2)*Rp(r) , 0)\n",
        "RadialP_Equation"
      ]
    },
    {
      "cell_type": "code",
      "execution_count": null,
      "metadata": {
        "colab": {
          "base_uri": "https://localhost:8080/",
          "height": 54
        },
        "id": "PvsaXTOSPJ0-",
        "outputId": "91e9e55e-c764-4e0c-a254-ae67e4ec3d6a"
      },
      "outputs": [
        {
          "data": {
            "text/latex": [
              "$\\displaystyle \\delta^{2} \\operatorname{Z_{P}}{\\left(z \\right)} + \\frac{d^{2}}{d z^{2}} \\operatorname{Z_{P}}{\\left(z \\right)} = 0$"
            ],
            "text/plain": [
              "Eq(delta**2*Z_P(z) + Derivative(Z_P(z), (z, 2)), 0)"
            ]
          },
          "execution_count": 55,
          "metadata": {},
          "output_type": "execute_result"
        }
      ],
      "source": [
        "#Person Cylinder Assial Equation\n",
        "VerticalP_Equation = sp.Eq(Zp(z).diff(z,2) + (delta**2)*Zp(z) , 0)\n",
        "VerticalP_Equation"
      ]
    },
    {
      "cell_type": "markdown",
      "metadata": {
        "id": "Ia3QszyFPgG8"
      },
      "source": [
        "As we can see, these equations have known solutions: Bessel solution for the radial part and a summation of cosines ans sines for the z-axis part."
      ]
    },
    {
      "cell_type": "code",
      "execution_count": null,
      "metadata": {
        "colab": {
          "base_uri": "https://localhost:8080/",
          "height": 39
        },
        "id": "ELYBnlWCPWAl",
        "outputId": "d65bcd1a-bf3e-446b-a630-25d891147307"
      },
      "outputs": [
        {
          "data": {
            "text/latex": [
              "$\\displaystyle \\operatorname{R_{T}}{\\left(r \\right)} = A_{T}^{R} J_{0}\\left(\\alpha r\\right)$"
            ],
            "text/plain": [
              "Eq(R_T(r), A_{T}^{R}*besselj(0, alpha*r))"
            ]
          },
          "execution_count": 56,
          "metadata": {},
          "output_type": "execute_result"
        }
      ],
      "source": [
        "#SOLUTIONS\n",
        "\n",
        "#Tank Cylinder Radial Solution\n",
        "RadialT_Solution = sp.Eq(Rt(r) , Atr*sp.besselj(0,alpha*r) + Btr*sp.bessely(0,alpha*r))\n",
        "\n",
        "#since lim(Yo) for r->0 is 00:\n",
        "RadialT_Solution = RadialT_Solution.subs(Btr,0)\n",
        "RadialT_Solution"
      ]
    },
    {
      "cell_type": "code",
      "execution_count": null,
      "metadata": {
        "colab": {
          "base_uri": "https://localhost:8080/",
          "height": 39
        },
        "id": "zpIYN_TvRWdA",
        "outputId": "2d4018eb-c797-4bf9-8945-691e491fb196"
      },
      "outputs": [
        {
          "data": {
            "text/latex": [
              "$\\displaystyle \\operatorname{R_{P}}{\\left(r \\right)} = A_{P}^{R} J_{0}\\left(\\beta r\\right)$"
            ],
            "text/plain": [
              "Eq(R_P(r), A_{P}^{R}*besselj(0, beta*r))"
            ]
          },
          "execution_count": 57,
          "metadata": {},
          "output_type": "execute_result"
        }
      ],
      "source": [
        "#Person Cylinder Radial Solution\n",
        "RadialP_Solution = sp.Eq(Rp(r) , Apr*sp.besselj(0,beta*r) + Bpr*sp.bessely(0,beta*r))\n",
        "\n",
        "#since lim(Yo) for r->0 is 00:\n",
        "RadialP_Solution = RadialP_Solution.subs(Bpr,0)\n",
        "RadialP_Solution"
      ]
    },
    {
      "cell_type": "code",
      "execution_count": null,
      "metadata": {
        "colab": {
          "base_uri": "https://localhost:8080/",
          "height": 39
        },
        "id": "taijX5m0Rqco",
        "outputId": "b48bb67a-c7e4-442e-f803-000b9a783500"
      },
      "outputs": [
        {
          "data": {
            "text/latex": [
              "$\\displaystyle \\operatorname{Z_{T}}{\\left(z \\right)} = A_{T}^{Z} \\cos{\\left(\\gamma z \\right)} + B_{T}^{Z} \\sin{\\left(\\gamma z \\right)}$"
            ],
            "text/plain": [
              "Eq(Z_T(z), A_{T}^{Z}*cos(gamma*z) + B_{T}^{Z}*sin(gamma*z))"
            ]
          },
          "execution_count": 58,
          "metadata": {},
          "output_type": "execute_result"
        }
      ],
      "source": [
        "#Tank Cylinder Assial Solution\n",
        "VerticalT_Solution = sp.Eq(Zt(z) , Atz*sp.cos(gamma*z) + Btz*sp.sin(gamma*z))\n",
        "VerticalT_Solution"
      ]
    },
    {
      "cell_type": "code",
      "execution_count": null,
      "metadata": {
        "colab": {
          "base_uri": "https://localhost:8080/",
          "height": 39
        },
        "id": "AN33jnH-SEZ3",
        "outputId": "485d108a-1e89-4272-9050-ad168fa00184"
      },
      "outputs": [
        {
          "data": {
            "text/latex": [
              "$\\displaystyle \\operatorname{Z_{P}}{\\left(z \\right)} = A_{P}^{Z} \\cosh{\\left(\\delta z \\right)} + B_{P}^{Z} \\sinh{\\left(\\delta z \\right)}$"
            ],
            "text/plain": [
              "Eq(Z_P(z), A_{P}^{Z}*cosh(delta*z) + B_{P}^{Z}*sinh(delta*z))"
            ]
          },
          "execution_count": 59,
          "metadata": {},
          "output_type": "execute_result"
        }
      ],
      "source": [
        "#Person Cylinder Assial Solution\n",
        "VerticalP_Solution = sp.Eq(Zp(z) , Apz*sp.cosh(delta*z) + Bpz*sp.sinh(delta*z))\n",
        "VerticalP_Solution"
      ]
    },
    {
      "cell_type": "code",
      "execution_count": null,
      "metadata": {
        "colab": {
          "base_uri": "https://localhost:8080/",
          "height": 82
        },
        "id": "Qsp4Dy4PSXaQ",
        "outputId": "d128e0a7-bd81-4580-c596-d87f2cafc3b4"
      },
      "outputs": [
        {
          "name": "stdout",
          "output_type": "stream",
          "text": [
            "Equation to solve: Eq(A_{T}^{R}*besselj(0, alpha*r), 0)\n",
            "\n"
          ]
        },
        {
          "data": {
            "text/latex": [
              "$\\displaystyle \\alpha = \\frac{\\nu_{0}}{R}$"
            ],
            "text/plain": [
              "Eq(alpha, nu_0/R)"
            ]
          },
          "execution_count": 60,
          "metadata": {},
          "output_type": "execute_result"
        }
      ],
      "source": [
        "#Imposing BC (a) Rt(R)=0 , avoiding Atr=0, we have just selected the first zero of the Bessel function\n",
        "\n",
        "BCa_Equation = sp.Eq(RadialT_Solution.rhs , 0)\n",
        "print(\"Equation to solve: \" + str(BCa_Equation) + \"\\n\")\n",
        "BCa_Solution = sp.Eq(alpha , (nu0/R))\n",
        "BCa_Solution"
      ]
    },
    {
      "cell_type": "code",
      "execution_count": null,
      "metadata": {
        "colab": {
          "base_uri": "https://localhost:8080/",
          "height": 82
        },
        "id": "OfqsSdXSUBo_",
        "outputId": "3fe54c32-af05-414d-d875-6a4d572443e7"
      },
      "outputs": [
        {
          "name": "stdout",
          "output_type": "stream",
          "text": [
            "Equation to solve: Eq(A_{P}^{R}*besselj(0, beta*r), 0)\n",
            "\n"
          ]
        },
        {
          "data": {
            "text/latex": [
              "$\\displaystyle \\beta = \\frac{\\nu_{0}}{R}$"
            ],
            "text/plain": [
              "Eq(beta, nu_0/R)"
            ]
          },
          "execution_count": 61,
          "metadata": {},
          "output_type": "execute_result"
        }
      ],
      "source": [
        "#Imposing BC (b) Rp(R)=0 , avoiding Apr=0, we have just selected the first zero of the Bessel function\n",
        "\n",
        "BCb_Equation = sp.Eq(RadialP_Solution.rhs , 0)\n",
        "print(\"Equation to solve: \" + str(BCb_Equation) + \"\\n\")\n",
        "BCb_Solution = sp.Eq(beta, (nu0/R))\n",
        "BCb_Solution"
      ]
    },
    {
      "cell_type": "code",
      "execution_count": null,
      "metadata": {
        "colab": {
          "base_uri": "https://localhost:8080/",
          "height": 39
        },
        "id": "4peLK3boUWcN",
        "outputId": "74f2b62a-15e5-4487-9915-0adb332f099a"
      },
      "outputs": [
        {
          "data": {
            "text/latex": [
              "$\\displaystyle A_{T}^{Z} = B_{T}^{Z} \\tan{\\left(H_{T} \\gamma \\right)}$"
            ],
            "text/plain": [
              "Eq(A_{T}^{Z}, B_{T}^{Z}*tan(H_T*gamma))"
            ]
          },
          "execution_count": 62,
          "metadata": {},
          "output_type": "execute_result"
        }
      ],
      "source": [
        "#Imposing BC (c) Zt(-Ht)=0\n",
        "\n",
        "Zt_inHt = VerticalT_Solution.rhs.subs(z,-Ht)\n",
        "BCc_Equation = sp.Eq(Zt_inHt , 0)\n",
        "Atz_Solution = sp.solve(BCc_Equation , Atz)[0]\n",
        "BCc_Solution_Eq = sp.Eq(Atz , Atz_Solution )\n",
        "BCc_Solution_Eq"
      ]
    },
    {
      "cell_type": "code",
      "execution_count": null,
      "metadata": {
        "colab": {
          "base_uri": "https://localhost:8080/",
          "height": 39
        },
        "id": "NswcYDuTVfJn",
        "outputId": "8e699289-99e4-45cd-ead7-fbec4849ce0a"
      },
      "outputs": [
        {
          "data": {
            "text/latex": [
              "$\\displaystyle A_{P}^{Z} = - B_{P}^{Z} \\tanh{\\left(H_{P} \\delta \\right)}$"
            ],
            "text/plain": [
              "Eq(A_{P}^{Z}, -B_{P}^{Z}*tanh(H_P*delta))"
            ]
          },
          "execution_count": 63,
          "metadata": {},
          "output_type": "execute_result"
        }
      ],
      "source": [
        "#Imposing BC (d) Zp(Hp)=0\n",
        "\n",
        "Zp_inHp = VerticalP_Solution.rhs.subs(z,Hp)\n",
        "BCd_Equation = sp.Eq(Zp_inHp , 0)\n",
        "Apz_Solution = sp.solve(BCd_Equation , Apz)[0]\n",
        "BCd_Solution_Eq = sp.Eq(Apz , Apz_Solution )\n",
        "BCd_Solution_Eq"
      ]
    },
    {
      "cell_type": "code",
      "execution_count": null,
      "metadata": {
        "id": "KPBwmZqEW-N_"
      },
      "outputs": [],
      "source": [
        "#Sobstitution of beta and alpha in the solutions\n",
        "\n",
        "RadialT_Solution_new = RadialT_Solution.subs(beta , BCa_Solution.rhs)\n",
        "RadialP_Solution_new = RadialP_Solution.subs(alpha , BCb_Solution.rhs)"
      ]
    },
    {
      "cell_type": "code",
      "execution_count": null,
      "metadata": {
        "id": "4C5BsFkxV1yX"
      },
      "outputs": [],
      "source": [
        "#Sobstitution of Atz and Apz in the solutions\n",
        "\n",
        "VerticalT_Solution_new = VerticalT_Solution.subs(Atz , Atz_Solution)\n",
        "VerticalP_Solution_new = VerticalP_Solution.subs(Apz , Apz_Solution)"
      ]
    },
    {
      "cell_type": "code",
      "execution_count": null,
      "metadata": {
        "colab": {
          "base_uri": "https://localhost:8080/",
          "height": 48
        },
        "id": "nPQePboyWVLz",
        "outputId": "d90afffe-746d-4245-fb67-44cb50edfb02"
      },
      "outputs": [
        {
          "data": {
            "text/latex": [
              "$\\displaystyle \\phi_{T}{\\left(r,z \\right)} = A_{T}^{R} \\left(B_{T}^{Z} \\sin{\\left(\\gamma z \\right)} + B_{T}^{Z} \\cos{\\left(\\gamma z \\right)} \\tan{\\left(H_{T} \\gamma \\right)}\\right) J_{0}\\left(\\frac{\\nu_{0} r}{R}\\right)$"
            ],
            "text/plain": [
              "Eq(\\phi_T(r, z), A_{T}^{R}*(B_{T}^{Z}*sin(gamma*z) + B_{T}^{Z}*cos(gamma*z)*tan(H_T*gamma))*besselj(0, nu_0*r/R))"
            ]
          },
          "execution_count": 66,
          "metadata": {},
          "output_type": "execute_result"
        }
      ],
      "source": [
        "#FLUXES\n",
        "\n",
        "#Tank Flux\n",
        "Tank_Flux_Equation = sp.Eq(PhiT(r,z) , RadialT_Solution_new.rhs * VerticalT_Solution_new.rhs)\n",
        "Tank_Flux_Equation = Tank_Flux_Equation.subs(alpha , BCa_Solution.rhs)\n",
        "Tank_Flux_Equation"
      ]
    },
    {
      "cell_type": "code",
      "execution_count": null,
      "metadata": {
        "colab": {
          "base_uri": "https://localhost:8080/",
          "height": 48
        },
        "id": "nHf8KYzAXj09",
        "outputId": "209e9154-6bed-4d0c-e8bc-039172fa3e18"
      },
      "outputs": [
        {
          "data": {
            "text/latex": [
              "$\\displaystyle \\phi_{P}{\\left(r,z \\right)} = A_{P}^{R} \\left(B_{P}^{Z} \\sinh{\\left(\\delta z \\right)} - B_{P}^{Z} \\cosh{\\left(\\delta z \\right)} \\tanh{\\left(H_{P} \\delta \\right)}\\right) J_{0}\\left(\\frac{\\nu_{0} r}{R}\\right)$"
            ],
            "text/plain": [
              "Eq(\\phi_P(r, z), A_{P}^{R}*(B_{P}^{Z}*sinh(delta*z) - B_{P}^{Z}*cosh(delta*z)*tanh(H_P*delta))*besselj(0, nu_0*r/R))"
            ]
          },
          "execution_count": 67,
          "metadata": {},
          "output_type": "execute_result"
        }
      ],
      "source": [
        "#Person Flux\n",
        "Person_Flux_Equation = sp.Eq(PhiP(r,z) , RadialP_Solution_new.rhs * VerticalP_Solution_new.rhs)\n",
        "Person_Flux_Equation = Person_Flux_Equation.subs(beta , BCb_Solution.rhs)\n",
        "Person_Flux_Equation"
      ]
    },
    {
      "cell_type": "code",
      "execution_count": null,
      "metadata": {
        "colab": {
          "base_uri": "https://localhost:8080/",
          "height": 55
        },
        "id": "9Q9TfO1-Xvud",
        "outputId": "dd69f6d4-aa49-4dc1-f7f3-a8e9bbba71f5"
      },
      "outputs": [
        {
          "data": {
            "text/latex": [
              "$\\displaystyle \\tanh{\\left(H_{P} \\delta \\right)} = - \\frac{C_{T} \\tan{\\left(H_{T} \\gamma \\right)}}{C_{P}}$"
            ],
            "text/plain": [
              "Eq(tanh(H_P*delta), -C_T*tan(H_T*gamma)/C_P)"
            ]
          },
          "execution_count": 68,
          "metadata": {},
          "output_type": "execute_result"
        }
      ],
      "source": [
        "#Imposing BC (e) PhiT(0,r) = PhiP(0,r)\n",
        "\n",
        "Tank_Flux_0r = Tank_Flux_Equation.subs(z,0)\n",
        "Person_Flux_0r = Person_Flux_Equation.subs(z,0)\n",
        "\n",
        "tgh = sp.Symbol(\"tanh\")\n",
        "\n",
        "BCe_Equation = sp.Eq(Tank_Flux_0r.rhs , Person_Flux_0r.rhs)\n",
        "BCe_Equation = BCe_Equation.subs(sp.tanh(Hp*delta) , tgh)\n",
        "BCe_Solution = sp.solve(BCe_Equation , tgh)[0]\n",
        "BCe_Solution_Eq = sp.Eq(sp.tanh(delta*Hp) , BCe_Solution)\n",
        "\n",
        "Ct, Cp = sp.symbols(\"C_T, C_P\")\n",
        "\n",
        "BCe_Solution_Eq = BCe_Solution_Eq.subs({Atr*Btz:Ct, Apr*Bpz:Cp})\n",
        "BCe_Solution_Eq"
      ]
    },
    {
      "cell_type": "code",
      "execution_count": null,
      "metadata": {
        "colab": {
          "base_uri": "https://localhost:8080/",
          "height": 55
        },
        "id": "NMXBJmFqZf2n",
        "outputId": "3a7c1e9f-1f0d-4d99-d252-16b98fd22dd6"
      },
      "outputs": [
        {
          "data": {
            "text/latex": [
              "$\\displaystyle \\frac{C_{T}}{C_{P}} = \\frac{D_{P} \\delta}{D_{T} \\gamma}$"
            ],
            "text/plain": [
              "Eq(C_T/C_P, D_P*delta/(D_T*gamma))"
            ]
          },
          "execution_count": 69,
          "metadata": {},
          "output_type": "execute_result"
        }
      ],
      "source": [
        "#Imposing BC (f) JT(0,r) = JP(0,r)\n",
        "\n",
        "CurrentT = - Dt * Tank_Flux_Equation.rhs.diff(z)\n",
        "CurrentP = - Dp * Person_Flux_Equation.rhs.diff(z)\n",
        "\n",
        "CurrentT_0r = CurrentT.subs(z,0)\n",
        "CurrentP_0r = CurrentP.subs(z,0)\n",
        "\n",
        "CurrentT_0r = CurrentT_0r.subs(Atr*Btz,Ct)\n",
        "CurrentP_0r = CurrentP_0r.subs(Apr*Bpz,Cp)\n",
        "\n",
        "BCf_Equation = sp.Eq(-CurrentT_0r + CurrentP_0r , 0)\n",
        "BCf_Solution_Ct = sp.solve(BCf_Equation , Ct)[0]\n",
        "BCf_Solution_Eq = sp.Eq(Ct/Cp , BCf_Solution_Ct/Cp)\n",
        "BCf_Solution_Eq"
      ]
    },
    {
      "cell_type": "markdown",
      "metadata": {
        "id": "zHj35orLeByz"
      },
      "source": [
        "If we mix the results from application of BC (e) and (f) we obtain an equation that have just $H_P$ as unknown term, because we can compute $\\gamma$ and $\\delta$."
      ]
    },
    {
      "cell_type": "code",
      "execution_count": null,
      "metadata": {
        "colab": {
          "base_uri": "https://localhost:8080/",
          "height": 56
        },
        "id": "SN0E1nM9dq1x",
        "outputId": "bc3116da-62fe-4298-8bc4-41019cdb4326"
      },
      "outputs": [
        {
          "data": {
            "text/latex": [
              "$\\displaystyle \\tanh{\\left(H_{P} \\delta \\right)} = - \\frac{D_{P} \\delta \\tan{\\left(H_{T} \\gamma \\right)}}{D_{T} \\gamma}$"
            ],
            "text/plain": [
              "Eq(tanh(H_P*delta), -D_P*delta*tan(H_T*gamma)/(D_T*gamma))"
            ]
          },
          "execution_count": 70,
          "metadata": {},
          "output_type": "execute_result"
        }
      ],
      "source": [
        "#Mixing BC (e) and (f)\n",
        "\n",
        "BCe_Solution_Eq_new = BCe_Solution_Eq.subs(Ct/Cp , BCf_Solution_Eq.rhs)\n",
        "BCe_Solution_Eq_new"
      ]
    },
    {
      "cell_type": "code",
      "execution_count": null,
      "metadata": {
        "colab": {
          "base_uri": "https://localhost:8080/",
          "height": 56
        },
        "id": "Nvc28XT4LUQI",
        "outputId": "7f957985-077b-4c6b-a7a1-6b6d821c70d9"
      },
      "outputs": [
        {
          "data": {
            "text/latex": [
              "$\\displaystyle \\tanh{\\left(H_{P} \\delta \\right)} = - \\frac{0.228571428571429 \\delta \\tan{\\left(40 \\gamma \\right)}}{\\gamma}$"
            ],
            "text/plain": [
              "Eq(tanh(H_P*delta), -0.228571428571429*delta*tan(40*gamma)/gamma)"
            ]
          },
          "execution_count": 71,
          "metadata": {},
          "output_type": "execute_result"
        }
      ],
      "source": [
        "#Evaluated solution\n",
        "BCe_Solution_Eq_eval = BCe_Solution_Eq_new.subs({Dt:Dt_Q4_val, Dp:Dp_Q4_val, Ht:Ht_val})\n",
        "BCe_Solution_Eq_eval"
      ]
    },
    {
      "cell_type": "markdown",
      "metadata": {
        "id": "0Wpf8czqEXGC"
      },
      "source": [
        "We can recall the definition for separation coefficients:\n",
        "\n",
        "\\begin{aligned}\n",
        "&\\\\\n",
        "*\\;\\;\\;&(B_{m}^{T})^2 = \\alpha ^2 + \\gamma ^2 \\\\\n",
        "&\\\\\n",
        "*\\;\\;\\;&-\\frac{1}{L_P^2} = \\beta ^2 -\\delta ^2 \\\\\n",
        "&\\\\\n",
        "\\end{aligned}\n",
        "\n",
        "For what concers the first equation, $\\alpha$ has been computed, we have to compute $(B_{m}^{T})^2$. We know from data the value of the ratio between *Material Buckling* and *Geometric Buckling*; we can apply the relationship between the two also knowing that:\n",
        "\n",
        "\\begin{equation}\n",
        "(B_g^T)^2 = (\\frac{\\nu_0}{R})^2 + (\\frac{\\pi}{H_T})^2\n",
        "\\end{equation}\n",
        "\n",
        "We have to evaluate for both the two cases.\n",
        "\n",
        "On the other hand, for what concerns the second equation, the value of $\\beta$ is equal to that of $\\alpha$ because they are solution of the Bessel Function $J_0$, and the value of the Diffusion Lenght is given by the text."
      ]
    },
    {
      "cell_type": "code",
      "execution_count": null,
      "metadata": {
        "colab": {
          "base_uri": "https://localhost:8080/"
        },
        "id": "N8Y78PS4EW1C",
        "outputId": "edab5032-426c-4ed8-c5a7-9c0008830398"
      },
      "outputs": [
        {
          "name": "stdout",
          "output_type": "stream",
          "text": [
            "Solution for Delta: 0.370910861333620\n"
          ]
        }
      ],
      "source": [
        "#Second Equation for constants\n",
        "\n",
        "delta_Eq = sp.Eq(delta**2 , beta**2 + (1/(Lp**2)))\n",
        "delta_Eq = delta_Eq.subs({beta:BCb_Solution.rhs})\n",
        "delta_Eq = delta_Eq.subs({nu0:nu0_val, R:R_val, Lp:Lp_val})\n",
        "delta_Sol = sp.solve(delta_Eq , delta)[1] #gamma>0\n",
        "\n",
        "print(\"Solution for Delta: \" + str(delta_Sol))"
      ]
    },
    {
      "cell_type": "code",
      "execution_count": null,
      "metadata": {
        "colab": {
          "base_uri": "https://localhost:8080/"
        },
        "id": "KCNFY8-NI5hC",
        "outputId": "9f5129ce-d977-4d4a-c6e6-5dd7a1057b00"
      },
      "outputs": [
        {
          "name": "stdout",
          "output_type": "stream",
          "text": [
            "Solution for Gamma in Case 1: 0.0318019093453622\n",
            "\n",
            "Solution for Gamma in Case 2: 0.0687350215183875\n"
          ]
        }
      ],
      "source": [
        "#First Equation for constants\n",
        "\n",
        "BgQ4 = sp.sqrt((nu0/R)**2 + (sp.pi/Ht)**2)\n",
        "\n",
        "#Case 1 - ratio=0,75\n",
        "gamma_Eq1 = sp.Eq(gamma**2 , ratioB1*(BgQ4**2) - alpha**2)\n",
        "gamma_Eq1 = gamma_Eq1.subs({alpha:BCa_Solution.rhs})\n",
        "gamma_Eq1 = gamma_Eq1.subs({nu0:nu0_val, R:R_val, Ht:Ht_val})\n",
        "gamma_Sol1 = sp.solve(gamma_Eq1 , gamma)[1]\n",
        "\n",
        "print(\"Solution for Gamma in Case 1: \" + str(gamma_Sol1))\n",
        "\n",
        "#Case 2 - ratio=0,93\n",
        "gamma_Eq2 = sp.Eq(gamma**2 , ratioB2*(BgQ4**2) - alpha**2)\n",
        "gamma_Eq2 = gamma_Eq2.subs({alpha:BCa_Solution.rhs})\n",
        "gamma_Eq2 = gamma_Eq2.subs({nu0:nu0_val, R:R_val, Ht:Ht_val})\n",
        "gamma_Sol2 = sp.solve(gamma_Eq2 , gamma)[1]\n",
        "\n",
        "print(\"\\nSolution for Gamma in Case 2: \" + str(gamma_Sol2))"
      ]
    },
    {
      "cell_type": "code",
      "execution_count": null,
      "metadata": {
        "colab": {
          "base_uri": "https://localhost:8080/",
          "height": 39
        },
        "id": "4-z1OGE-L0qG",
        "outputId": "a47de993-155d-4f4b-84e8-49b6a8a49521"
      },
      "outputs": [
        {
          "data": {
            "text/latex": [
              "$\\displaystyle H_{P} = -0.312818889907063 - 4.23496988237836 i$"
            ],
            "text/plain": [
              "Eq(H_P, -0.312818889907063 - 4.23496988237836*I)"
            ]
          },
          "execution_count": 74,
          "metadata": {},
          "output_type": "execute_result"
        }
      ],
      "source": [
        "#Solution for Case 1\n",
        "\n",
        "BCe_Solution_Eq_eval1 = BCe_Solution_Eq_eval.subs({gamma:gamma_Sol1})\n",
        "Solution_Case1 = sp.solve(BCe_Solution_Eq_eval1 , Hp*delta)[0]\n",
        "Solution_Case1 = Solution_Case1/delta\n",
        "Solution_Case1 = Solution_Case1.subs(delta,delta_Sol).evalf()\n",
        "sp.Eq(Hp , Solution_Case1)\n",
        "#the result is not valid!!! The system cannot be turned into a critical state!!!"
      ]
    },
    {
      "cell_type": "code",
      "execution_count": null,
      "metadata": {
        "colab": {
          "base_uri": "https://localhost:8080/",
          "height": 39
        },
        "id": "5Z27ZZbwMtVS",
        "outputId": "028c5828-62d4-4ab7-e39d-3b1114fe84c7"
      },
      "outputs": [
        {
          "data": {
            "text/latex": [
              "$\\displaystyle H_{P} = 1.518$"
            ],
            "text/plain": [
              "Eq(H_P, 1.518)"
            ]
          },
          "execution_count": 75,
          "metadata": {},
          "output_type": "execute_result"
        }
      ],
      "source": [
        "#Solution for Case 2\n",
        "\n",
        "BCe_Solution_Eq_eval2 = BCe_Solution_Eq_eval.subs({gamma:gamma_Sol2,delta:delta_Sol})\n",
        "Equation_Case2 = sp.Eq(delta_Sol*Hp , sp.atanh(BCe_Solution_Eq_eval2.rhs))\n",
        "Solution_Case2 = sp.solve(Equation_Case2  , Hp)[0]\n",
        "sp.Eq(Hp , round(Solution_Case2,3))\n",
        "#The result mirrors the minimum value needed to turn the system critical!"
      ]
    },
    {
      "cell_type": "markdown",
      "metadata": {
        "id": "MEEQGqA6OvCK"
      },
      "source": [
        "**FINAL SOLUTION:**\n",
        "\n",
        "We have obtained two different results for *Case 1* and *Case 2*: the first case describe the situation of a system that cannot be turned into a critical state, whereas the second one can be turned into a critical state with an addition of 1.518 cm of cylindrical refelctor."
      ]
    }
  ],
  "metadata": {
    "colab": {
      "collapsed_sections": [],
      "name": "HOMEWORK1_MattiaGuarnieri.ipynb",
      "provenance": []
    },
    "kernelspec": {
      "display_name": "Python 3",
      "name": "python3"
    },
    "language_info": {
      "name": "python"
    }
  },
  "nbformat": 4,
  "nbformat_minor": 0
}
