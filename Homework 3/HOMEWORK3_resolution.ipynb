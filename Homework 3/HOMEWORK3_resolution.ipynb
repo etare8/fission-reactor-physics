{
  "cells": [
    {
      "cell_type": "markdown",
      "metadata": {
        "id": "-xqozpfl3Q9N"
      },
      "source": [
        "# HOMEWORK 3"
      ]
    },
    {
      "cell_type": "code",
      "execution_count": null,
      "metadata": {
        "id": "lZFnF8klHGCL"
      },
      "outputs": [],
      "source": [
        "import sympy as sp\n",
        "import numpy as np\n",
        "import scipy as sci\n",
        "import matplotlib.pyplot as plt"
      ]
    },
    {
      "cell_type": "markdown",
      "metadata": {
        "id": "vo2DdsY9Fnj7"
      },
      "source": [
        "**QUESTION**\n",
        "\n",
        "Using two-group theory, determine the critical core width of a slab reactor with core composition similar to that of a PWR and surrouded by an infinite water reflector. Use the following data for the core. Subscript 1 refers to fast group whereas subscript 2 refers to thermal group."
      ]
    },
    {
      "cell_type": "code",
      "execution_count": null,
      "metadata": {
        "id": "BMucYuWSYp6n"
      },
      "outputs": [],
      "source": [
        "# Problem data\n",
        "\n",
        "FastFissionFactor = 1.27\n",
        "y_0 = 340#cm\n",
        "z_0 = 370#cm\n",
        "\n",
        "#CORE\n",
        "#G1\n",
        "nu_Sigmaf_C1_val = 0.008476\n",
        "Sigmaa_C1_val = 0.01207\n",
        "D_C1_val = 1.2627\n",
        "SigmaR_C1_val = 0.02619\n",
        "#G2\n",
        "nu_Sigmaf_C2_val = 0.18514\n",
        "Sigmaa_C2_val = 0.121\n",
        "D_C2_val = 0.3543\n",
        "SigmaR_C2_val = 0.121\n",
        "\n",
        "#REFLECTOR\n",
        "#G1\n",
        "Sigmaa_R1_val = 0.0004\n",
        "D_R1_val = 1.13\n",
        "SigmaR_R1_val = 0.0494\n",
        "#G2\n",
        "Sigmaa_R2_val = 0.0197\n",
        "D_R2_val = 0.16\n",
        "SigmaR_R2_val = 0.0197\n"
      ]
    },
    {
      "cell_type": "code",
      "execution_count": null,
      "metadata": {
        "id": "q3vLUpouMcR9"
      },
      "outputs": [],
      "source": [
        "#in scattering terms\n",
        "Sigma12_C2_val = SigmaR_C1_val-Sigmaa_C1_val\n",
        "Sigma12_R2_val = SigmaR_R1_val-Sigmaa_R1_val"
      ]
    },
    {
      "cell_type": "markdown",
      "metadata": {
        "id": "Zhx4IfA-gxYQ"
      },
      "source": [
        "# 1.GENERALITIES ABOUT PROBLEM SOLUTION\n",
        "\n",
        "**ASSUMPTIONS:**\n",
        "\n",
        "Consider the following assumptions (2G):\n",
        "* One fast group and one thermal group\n",
        "* No upscatter from thermal to fast\n",
        "* Fission reactions only in the thermal group, all fission neutrons emitted in the fast group\n",
        "* Effects of fast fission are taken into account with the fast fission factor $\\epsilon$.\n",
        "\n",
        "We are considering a 1D domain. We can use the *transverse buckling* $B_T$ to take into account the effects of neutron leakage in the transverse direction (out-scattering term):\n",
        "\n",
        "\\begin{equation}\n",
        "  B_T^2 = \\left(\\frac{\\pi}{y_0 + 2\\delta}\\right)^2 + \\left(\\frac{\\pi}{z_0 + 2\\delta}\\right)^2\n",
        "\\end{equation}\n",
        "\n",
        "Based on the assumptions above (refer to Lesson 35 Slide 7):\n",
        "\\begin{aligned}\n",
        "  &\\text{Core Fast: Leakage + Out-scattering = Production} \\\\\n",
        "  &\\text{Core Thermal: Leakage + Out-scattering = In-Scattering} \\\\\n",
        "  &\\text{Reflector Fast: Leakage + Out-scattering = 0} \\\\ \n",
        "  &\\text{Reflector Thermal: Leakage + Out-scattering = In-Scattering} \\\\\n",
        "\\end{aligned}\n",
        "\n",
        "**EQUATIONS AND CONDITIONS:**\n",
        "\n",
        "\\begin{aligned}\n",
        "  -D_{1c}\\frac{d^2\\varphi_{1c}}{dx^2} + (\\Sigma_{1ac}+\\Sigma_{1\\rightarrow 2c} + D_{1c}B_T^2)\\varphi_{1c} = \\epsilon\\nu\\Sigma_{f2}\\varphi_{2c} \\quad &\\text{Core G1} \\\\\n",
        "  -D_{2c}\\frac{d^2\\varphi_{2c}}{dx^2} + (\\Sigma_{2ac} + D_{2c}B_T^2)\\varphi_{2c} = \\Sigma_{1\\rightarrow 2c}\\varphi_{1c} \\quad &\\text{Core G2} \\\\\n",
        "  -D_{1r}\\frac{d^2\\varphi_{1r}}{dx^2} + (\\Sigma_{1ar}+\\Sigma_{1\\rightarrow 2r} + D_{1r}B_T^2)\\varphi_{1r} = 0 \\quad &\\text{Reflector G1} \\\\\n",
        "  -D_{2r}\\frac{d^2\\varphi_{2r}}{dx^2} + (\\Sigma_{2ar} + D_{2r}B_T^2)\\varphi_{2r} = \\Sigma_{1\\rightarrow 2r}\\varphi_{1r} \\quad &\\text{Reflector G2} \\\\\n",
        "\\end{aligned}\n",
        "\n",
        "\n",
        "Boundary conditions:\n",
        "* $\\frac{d\\varphi_{1c}}{dx}\\Big\\vert_{x=0}$ = 0 (symmetry)\n",
        "* $\\frac{d\\varphi_{2c}}{dx}\\Big\\vert_{x=0}$ = 0 (symmetry)\n",
        "* $\\varphi_{1c}(a) = \\varphi_{1r}(a)$ (flux interface)\n",
        "* $\\varphi_{2c}(a) = \\varphi_{2r}(a)$ (flux interface)\n",
        "* $-D_{1c}\\frac{d\\varphi_{1c}}{dx}\\Big\\vert_{x=a} = -D_{1r}\\frac{d\\varphi_{1r}}{dx}\\Big\\vert_{x=a}$ (current interface)\n",
        "* $-D_{2c}\\frac{d\\varphi_{2c}}{dx}\\Big\\vert_{x=a} = -D_{2r}\\frac{d\\varphi_{2r}}{dx}\\Big\\vert_{x=a}$ (current interface)\n",
        "* $\\lim_{x\\rightarrow \\infty}\\varphi_{1r}(x)$ = 0 (boundedness)\n",
        "* $\\lim_{x\\rightarrow \\infty}\\varphi_{2r}(x)$ = 0 (boundedness)\n",
        "\n"
      ]
    },
    {
      "cell_type": "code",
      "execution_count": null,
      "metadata": {
        "id": "u9F4w2SJjUMk"
      },
      "outputs": [],
      "source": [
        "#Equations\n",
        "\n",
        "x = sp.Symbol(\"x\")\n",
        "\n",
        "D_C1, D_C2, D_R1, D_R2 = sp.symbols(\"D_{C1}, D_{C2}, D_{R1}, D_{R2}\")\n",
        "\n",
        "Sigma_C1, Sigma_C2, Sigma_R1, Sigma_R2 = sp.symbols(\"\\Sigma_{C1}, \\Sigma_{C2}, \\Sigma_{R1}, \\Sigma_{R2}\")  #Total\n",
        "\n",
        "Sigma12_C2, Sigma12_R2 = sp.symbols(\"\\Sigma_{12_{C2}}, \\Sigma_{12_{R2}}\")\n",
        "\n",
        "eps = sp.Symbol(\"\\epsilon\")\n",
        "\n",
        "nu = sp.Symbol(\"nu\")\n",
        "Sigmaf_C2 = sp.Symbol(\"\\Sigma_{f_{C2}}\")\n",
        "\n",
        "Phi1C, Phi2C, Phi1R, Phi2R = sp.symbols(\"\\phi_{1C}, \\phi_{2C}, \\phi_{1R}, \\phi_{2R}\", cls=sp.Function)\n"
      ]
    },
    {
      "cell_type": "code",
      "execution_count": null,
      "metadata": {
        "colab": {
          "base_uri": "https://localhost:8080/",
          "height": 54
        },
        "id": "mscFCvDbP07j",
        "outputId": "a3edc395-a9d6-447e-8ed2-ed124a5ad634"
      },
      "outputs": [
        {
          "data": {
            "text/latex": [
              "$\\displaystyle - D_{C1} \\frac{d^{2}}{d x^{2}} \\phi_{1C}{\\left(x \\right)} + \\Sigma_{C1} \\phi_{1C}{\\left(x \\right)} = \\Sigma_{f_{C2}} \\epsilon \\nu \\phi_{2C}{\\left(x \\right)}$"
            ],
            "text/plain": [
              "Eq(-D_{C1}*Derivative(\\phi_{1C}(x), (x, 2)) + \\Sigma_{C1}*\\phi_{1C}(x), \\Sigma_{f_{C2}}*\\epsilon*nu*\\phi_{2C}(x))"
            ]
          },
          "execution_count": 5,
          "metadata": {},
          "output_type": "execute_result"
        }
      ],
      "source": [
        "#Core G1\n",
        "\n",
        "Core_G1_Equation = sp.Eq( -D_C1*Phi1C(x).diff(x,2) + Sigma_C1*Phi1C(x) , eps*nu*Sigmaf_C2*Phi2C(x))\n",
        "Core_G1_Equation"
      ]
    },
    {
      "cell_type": "code",
      "execution_count": null,
      "metadata": {
        "colab": {
          "base_uri": "https://localhost:8080/",
          "height": 54
        },
        "id": "XJmxw5r8S-Ax",
        "outputId": "19ce8a5a-8853-4108-d3b9-932256177cd9"
      },
      "outputs": [
        {
          "data": {
            "text/latex": [
              "$\\displaystyle - D_{C2} \\frac{d^{2}}{d x^{2}} \\phi_{2C}{\\left(x \\right)} + \\Sigma_{C2} \\phi_{2C}{\\left(x \\right)} = \\Sigma_{12_{C2}} \\phi_{1C}{\\left(x \\right)}$"
            ],
            "text/plain": [
              "Eq(-D_{C2}*Derivative(\\phi_{2C}(x), (x, 2)) + \\Sigma_{C2}*\\phi_{2C}(x), \\Sigma_{12_{C2}}*\\phi_{1C}(x))"
            ]
          },
          "execution_count": 6,
          "metadata": {},
          "output_type": "execute_result"
        }
      ],
      "source": [
        "#Core G2\n",
        "\n",
        "Core_G2_Equation = sp.Eq( -D_C2*Phi2C(x).diff(x,2) + Sigma_C2*Phi2C(x) , Sigma12_C2*Phi1C(x))\n",
        "Core_G2_Equation"
      ]
    },
    {
      "cell_type": "code",
      "execution_count": null,
      "metadata": {
        "colab": {
          "base_uri": "https://localhost:8080/",
          "height": 54
        },
        "id": "2YH35zN1TTJ2",
        "outputId": "bb3bb2dd-0764-412d-a549-a95049f854aa"
      },
      "outputs": [
        {
          "data": {
            "text/latex": [
              "$\\displaystyle - D_{R1} \\frac{d^{2}}{d x^{2}} \\phi_{1R}{\\left(x \\right)} + \\Sigma_{R1} \\phi_{1R}{\\left(x \\right)} = 0$"
            ],
            "text/plain": [
              "Eq(-D_{R1}*Derivative(\\phi_{1R}(x), (x, 2)) + \\Sigma_{R1}*\\phi_{1R}(x), 0)"
            ]
          },
          "execution_count": 7,
          "metadata": {},
          "output_type": "execute_result"
        }
      ],
      "source": [
        "#Reflector G1\n",
        "\n",
        "Ref_G1_Equation = sp.Eq( -D_R1*Phi1R(x).diff(x,2) + Sigma_R1*Phi1R(x) , 0)\n",
        "Ref_G1_Equation"
      ]
    },
    {
      "cell_type": "code",
      "execution_count": null,
      "metadata": {
        "colab": {
          "base_uri": "https://localhost:8080/",
          "height": 54
        },
        "id": "Ql9VYGOsTtR3",
        "outputId": "e378031d-46bd-4bab-e802-54e7b7ee73fc"
      },
      "outputs": [
        {
          "data": {
            "text/latex": [
              "$\\displaystyle - D_{R2} \\frac{d^{2}}{d x^{2}} \\phi_{2R}{\\left(x \\right)} + \\Sigma_{R2} \\phi_{2R}{\\left(x \\right)} = \\Sigma_{12_{R2}} \\phi_{1R}{\\left(x \\right)}$"
            ],
            "text/plain": [
              "Eq(-D_{R2}*Derivative(\\phi_{2R}(x), (x, 2)) + \\Sigma_{R2}*\\phi_{2R}(x), \\Sigma_{12_{R2}}*\\phi_{1R}(x))"
            ]
          },
          "execution_count": 8,
          "metadata": {},
          "output_type": "execute_result"
        }
      ],
      "source": [
        "# Reflector G2\n",
        "\n",
        "Ref_G2_Equation = sp.Eq( -D_R2*Phi2R(x).diff(x,2) + Sigma_R2*Phi2R(x) , Sigma12_R2*Phi1R(x))\n",
        "Ref_G2_Equation"
      ]
    },
    {
      "cell_type": "markdown",
      "metadata": {
        "id": "fk5AXy1Roa-5"
      },
      "source": [
        "# 2.CORE-PROBLEM RESOLUTION\n",
        "\n",
        "\n",
        "Overall out-scattering cross-sections considering also the transverse buckling (core):\n",
        "\\begin{aligned}\n",
        "  \\Sigma_{C1} &= \\Sigma_{1ac}+\\Sigma_{1\\rightarrow 2c} + D_{1c}B_T^2 \\\\\n",
        "  \\Sigma_{C2} &= \\Sigma_{2ac}+D_{2c}B_T^2\n",
        "\\end{aligned}\n",
        "\n",
        "Use the concept of buckling (Lesson 35 Slide 13) and substitute:\n",
        "\\begin{aligned}\n",
        "  \\frac{d\\varphi_{1c}}{dx^2} + B^2\\varphi_{1c} = 0 \\\\\n",
        "  \\frac{d\\varphi_{2c}}{dx^2} + B^2\\varphi_{2c} = 0\n",
        "\\end{aligned}\n",
        "\n",
        "\\begin{aligned}\n",
        "  D_{1c}B^2\\varphi_{1c} + \\Sigma_{C1}\\varphi_{1c} - \\epsilon\\nu\\Sigma_{f2}\\varphi_{2c} = 0 \\quad &\\text{Core G1} \\\\\n",
        "  D_{2c}B^2\\varphi_{2c} + \\Sigma_{C2}\\varphi_{2c} - \\Sigma_{1\\rightarrow 2c}\\varphi_{1c} = 0 \\quad &\\text{Core G2} \\\\\n",
        "\\end{aligned}\n",
        "\n",
        "In matrix form:\n",
        "\\begin{equation}\n",
        "\\begin{bmatrix}\n",
        "  D_{1c}B^2 + \\Sigma_{C1} & -\\epsilon\\nu\\Sigma_{f2} \\\\\n",
        "  -\\Sigma_{1\\rightarrow 2c} & D_{2c}B^2 + \\Sigma_{C2}\n",
        "\\end{bmatrix}\\begin{bmatrix}\n",
        "  \\varphi_{1c} \\\\\n",
        "  \\varphi_{2c} \\\\\n",
        "\\end{bmatrix} = \\begin{bmatrix} 0 \\\\ 0 \\end{bmatrix}\\end{equation}\n",
        "\n",
        "By putting the determinant equal to zero we can determine the two roots for the Buckling, a positive one and a negative one (so we have different signs! As a reference, $\\mu^2$ is the positive one, $-\\lambda^2$ is the negative one.\n",
        "\n",
        "There are two solutions:\n",
        "\\begin{aligned}\n",
        "  \\frac{dX^2}{dx^2} + \\mu^2X = 0 \\\\\n",
        "  \\frac{dY}{dx^2} - \\lambda^2Y= 0\n",
        "\\end{aligned}\n",
        "\n",
        "And thus:\n",
        "\\begin{aligned}\n",
        "  \\varphi_{1c} = A_1 X(x) + B_1 Y(x) \\\\\n",
        "  \\varphi_{2c} = A_2 X(x) + B_2 Y(x)\n",
        "\\end{aligned}"
      ]
    },
    {
      "cell_type": "code",
      "execution_count": null,
      "metadata": {
        "colab": {
          "base_uri": "https://localhost:8080/",
          "height": 113
        },
        "id": "jTn5ARKhr6mv",
        "outputId": "f942c2a2-2c9c-43ff-e847-7df5e829b3bc"
      },
      "outputs": [
        {
          "name": "stdout",
          "output_type": "stream",
          "text": [
            "Transversal Buckling (squared): 0.00015747073175398043\n",
            "Matrix M:\n",
            "\n"
          ]
        },
        {
          "data": {
            "text/latex": [
              "$\\displaystyle \\left[\\begin{matrix}B^{2}_{g} D_{C1} + \\Sigma_{C1} & - \\Sigma_{f_{C2}} \\epsilon \\nu\\\\- \\Sigma_{12_{C2}} & B^{2}_{g} D_{C2} + \\Sigma_{C2}\\end{matrix}\\right]$"
            ],
            "text/plain": [
              "Matrix([\n",
              "[B_g^2*D_{C1} + \\Sigma_{C1}, -\\Sigma_{f_{C2}}*\\epsilon*nu],\n",
              "[         -\\Sigma_{12_{C2}},   B_g^2*D_{C2} + \\Sigma_{C2}]])"
            ]
          },
          "execution_count": 9,
          "metadata": {},
          "output_type": "execute_result"
        }
      ],
      "source": [
        "#Geom Buckling\n",
        "Bg2 = sp.Symbol(\"B_g^2\")\n",
        "BT2_val = (np.pi/(y_0))**2 + (np.pi/(z_0))**2\n",
        "Sigma_C1_val = SigmaR_C1_val + D_C1_val*BT2_val\n",
        "Sigma_C2_val = Sigmaa_C2_val + D_C2_val*BT2_val\n",
        "\n",
        "#Matrices\n",
        "M_core = sp.zeros(2,2)\n",
        "n_core = sp.Matrix([Phi1C, Phi2C])\n",
        "\n",
        "M_core[0,0] = D_C1*Bg2 + Sigma_C1\n",
        "M_core[0,1] = -eps*nu*Sigmaf_C2\n",
        "M_core[1,0] = -Sigma12_C2\n",
        "M_core[1,1] = D_C2*Bg2 + Sigma_C2\n",
        "\n",
        "print(\"Transversal Buckling (squared): \" + str(BT2_val))\n",
        "print(\"Matrix M:\\n\")\n",
        "M_core"
      ]
    },
    {
      "cell_type": "code",
      "execution_count": null,
      "metadata": {
        "id": "Ffku4zo85kzP"
      },
      "outputs": [],
      "source": [
        "#Roots Core\n",
        "mu, lambd = sp.symbols(\"\\mu, \\lambda\")\n",
        "\n",
        "detM_core = sp.det(M_core)\n",
        "detEquationCore = sp.Eq(detM_core,0)\n",
        "detSolutionCore = sp.solve(detEquationCore , Bg2)\n",
        "\n",
        "mu2_val = detSolutionCore[0].subs({D_C1:D_C1_val, D_C2:D_C2_val, eps:FastFissionFactor, nu:1, Sigmaf_C2:nu_Sigmaf_C2_val, Sigma12_C2:Sigma12_C2_val, Sigma_C1:Sigma_C1_val, Sigma_C2:Sigma_C2_val})\n",
        "lambd2_val = detSolutionCore[1].subs({D_C1:D_C1_val, D_C2:D_C2_val, eps:FastFissionFactor, nu:1, Sigmaf_C2:nu_Sigmaf_C2_val, Sigma12_C2:Sigma12_C2_val, Sigma_C1:Sigma_C1_val, Sigma_C2:Sigma_C2_val})\n"
      ]
    },
    {
      "cell_type": "code",
      "execution_count": null,
      "metadata": {
        "colab": {
          "base_uri": "https://localhost:8080/"
        },
        "id": "xa4sV7M3NPrs",
        "outputId": "0db91ee5-1174-408c-88ee-42a3b9b4444c"
      },
      "outputs": [
        {
          "name": "stdout",
          "output_type": "stream",
          "text": [
            "Transversal Buckling (squared): 0.00015747073175398043\n",
            "Overall core cross sections: 0.02638883829298575 (fast); 0.12105579188026043 (thermal)\n",
            "First root value: 0.000771954624628785\n",
            "Second root value: -0.363346651955820\n"
          ]
        }
      ],
      "source": [
        "print(\"Transversal Buckling (squared): \" + str(BT2_val))\n",
        "print(\"Overall core cross sections: \" + str(Sigma_C1_val) + \" (fast); \" + str(Sigma_C2_val) + \" (thermal)\")\n",
        "print(\"First root value: \" + str(mu2_val))\n",
        "print(\"Second root value: \" + str(lambd2_val))"
      ]
    },
    {
      "cell_type": "code",
      "execution_count": null,
      "metadata": {
        "id": "Sonx1-mUAzvF"
      },
      "outputs": [],
      "source": [
        "#Determining Fluxes for Core\n",
        "X, Y = sp.symbols(\"X, Y\", cls=sp.Function)\n",
        "C1, C2, C3, C4 = sp.symbols(\"C1, C2, C3, C4 \")\n",
        "A1, A2, B1, B2 = sp.symbols(\"A1, A2, B1, B2\")\n"
      ]
    },
    {
      "cell_type": "code",
      "execution_count": null,
      "metadata": {
        "colab": {
          "base_uri": "https://localhost:8080/",
          "height": 38
        },
        "id": "wwFZze0QCwQe",
        "outputId": "c1d9d72b-6f1d-474c-c6f4-ed2dbb356fa3"
      },
      "outputs": [
        {
          "data": {
            "text/latex": [
              "$\\displaystyle X{\\left(x \\right)} = C_{1} \\cos{\\left(\\mu x \\right)}$"
            ],
            "text/plain": [
              "Eq(X(x), C1*cos(\\mu*x))"
            ]
          },
          "execution_count": 13,
          "metadata": {},
          "output_type": "execute_result"
        }
      ],
      "source": [
        "FirstEq = sp.Eq(X(x) , C1*sp.cos(mu*x) + C2*sp.sin(mu*x))\n",
        "FirstEq.subs(C2,0) #for symmetry in the core"
      ]
    },
    {
      "cell_type": "code",
      "execution_count": null,
      "metadata": {
        "colab": {
          "base_uri": "https://localhost:8080/",
          "height": 38
        },
        "id": "zyF1fNkdBjBm",
        "outputId": "e6e4dc4d-ca25-4c6a-8c7f-be4a724f736d"
      },
      "outputs": [
        {
          "data": {
            "text/latex": [
              "$\\displaystyle Y{\\left(x \\right)} = C_{3} \\cosh{\\left(\\lambda x \\right)}$"
            ],
            "text/plain": [
              "Eq(Y(x), C3*cosh(\\lambda*x))"
            ]
          },
          "execution_count": 14,
          "metadata": {},
          "output_type": "execute_result"
        }
      ],
      "source": [
        "SecondEq = sp.Eq(Y(x) , C3*sp.cosh(lambd*x) + C4*sp.sinh(lambd*x))\n",
        "SecondEq.subs(C4,0) #for symmetry in the core"
      ]
    },
    {
      "cell_type": "code",
      "execution_count": null,
      "metadata": {
        "colab": {
          "base_uri": "https://localhost:8080/",
          "height": 38
        },
        "id": "d9hTuuAcCy2T",
        "outputId": "2358b5d1-a6be-4620-b25e-2de8714f577a"
      },
      "outputs": [
        {
          "data": {
            "text/latex": [
              "$\\displaystyle \\phi_{1C}{\\left(x \\right)} = A_{1} \\cos{\\left(\\mu x \\right)} + B_{1} \\cosh{\\left(\\lambda x \\right)}$"
            ],
            "text/plain": [
              "Eq(\\phi_{1C}(x), A1*cos(\\mu*x) + B1*cosh(\\lambda*x))"
            ]
          },
          "execution_count": 15,
          "metadata": {},
          "output_type": "execute_result"
        }
      ],
      "source": [
        "#Fast Flux Core\n",
        "\n",
        "FastFluxCore = sp.Eq(Phi1C(x), A1*sp.cos(mu*x) + B1*sp.cosh(lambd*x))\n",
        "FastFluxCore"
      ]
    },
    {
      "cell_type": "code",
      "execution_count": null,
      "metadata": {
        "colab": {
          "base_uri": "https://localhost:8080/",
          "height": 38
        },
        "id": "ORLRz2FZDJyB",
        "outputId": "a4b0f2d4-48c6-4661-8e8b-ecfe9b83a676"
      },
      "outputs": [
        {
          "data": {
            "text/latex": [
              "$\\displaystyle \\phi_{2C}{\\left(x \\right)} = A_{2} \\cos{\\left(\\mu x \\right)} + B_{2} \\cosh{\\left(\\lambda x \\right)}$"
            ],
            "text/plain": [
              "Eq(\\phi_{2C}(x), A2*cos(\\mu*x) + B2*cosh(\\lambda*x))"
            ]
          },
          "execution_count": 16,
          "metadata": {},
          "output_type": "execute_result"
        }
      ],
      "source": [
        "#Thermal Flux Core\n",
        "\n",
        "ThermalFluxCore = sp.Eq(Phi2C(x), A2*sp.cos(mu*x) + B2*sp.cosh(lambd*x))\n",
        "ThermalFluxCore"
      ]
    },
    {
      "cell_type": "markdown",
      "metadata": {
        "id": "q5jzcHoihTBB"
      },
      "source": [
        "# 3.REFLECTOR-PROBLEM RESOLUTION\n",
        "\n",
        "Overall reflector out-scattering cross-sections:\n",
        "\\begin{aligned}\n",
        "  \\Sigma_{R1} &= \\Sigma_{1ar}+\\Sigma_{1\\rightarrow 2r} + D_{1r}B_T^2 \\\\\n",
        "  \\Sigma_{R2} &= \\Sigma_{2ar}+D_{2r}B_T^2\n",
        "\\end{aligned}\n",
        "\n",
        "First group equation can be solved directly cause appears just one flux term.\n",
        "\n",
        "To solve the second group equation: you can assume the shape of the solution or proceed like before (hint: in the second group reflector flux you also need to take into account the production term due to fast neutrons scattering).\n",
        "\n",
        "**EQUATIONs:**\n",
        "\n",
        "\\begin{aligned}\n",
        "-D_{1r}\\frac{d^2\\varphi_{1r}}{dx^2} + \\Sigma_{R1}\\varphi_{1r} = 0 \\quad &\\text{Reflector G1} \\\\\n",
        "  -D_{2r}\\frac{d^2\\varphi_{2r}}{dx^2} + \\Sigma_{R2}\\varphi_{2r} = \\Sigma_{1\\rightarrow 2r}\\varphi_{1r} \\quad &\\text{Reflector G2} \\\\\n",
        "\\end{aligned}\n",
        "\n",
        "The first one can be solved directly with recalling the general solution of this kind of equations, which is the form of an exponential.\n",
        "\n",
        "For the second group, the equation is:\n",
        "\n",
        "\\begin{equation}\n",
        "  -D_{2r}\\frac{d^2\\varphi_{2r}}{dx^2} + \\Sigma_{2r}\\varphi_{2r} - \\Sigma_{1\\rightarrow 2r}\\varphi_{1r} = 0\n",
        "\\end{equation}\n",
        "\n",
        "Can be rewritten as:\n",
        "\n",
        "\\begin{equation}\n",
        "  \\frac{d^2\\varphi_{2r}}{dx^2} - \\frac{1}{L^2_{2R}}\\varphi_{2r} + \\frac{\\Sigma_{1\\rightarrow 2r}}{D_{2r}}\\varphi_{1r} = 0\n",
        "\\end{equation}\n",
        "\n",
        "We can look for a general solution of the type:\n",
        "\n",
        "\\begin{equation}\n",
        "  \\varphi_{2r}(x) = \n",
        "  F_2 exp(-\\frac{x}{L_{1R}}) + E_2 exp(-\\frac{x}{L_{2R}})\n",
        "\\end{equation}\n",
        "\n",
        "Inserting in the above equation we obtain:\n",
        "\n",
        "\\begin{equation}\n",
        "  \\frac{F_2}{L^{2}_{1R}} exp(-\\frac{x}{L_{1R}}) + \\frac{E_2}{L^{2}_{2R}}\n",
        "  exp(-\\frac{x}{L_{2R}}) - \\frac{1}{L^{2}_{2R}} [F_2 exp(-\\frac{x}{L_{1R}}) + E_2 exp(-\\frac{x}{L_{2R}})] + \\frac{\\Sigma_{1\\rightarrow 2r}}{D_{2r}} F_1 exp(-\\frac{x}{L_{1R}}) = 0\n",
        "\\end{equation}\n",
        "\n",
        "Simplifying:\n",
        "\n",
        "\\begin{equation}\n",
        "\\frac{F_2}{L^2_{1R}} - \\frac{F_2}{L^2_{2R}} + \\frac{\\Sigma_{1\\rightarrow 2r}}{D_{2r}}F_1= 0\n",
        "\\end{equation}\n",
        "\n",
        "\n",
        "We can link together 2 coefficients $F_1$ and $F_2$"
      ]
    },
    {
      "cell_type": "code",
      "execution_count": null,
      "metadata": {
        "colab": {
          "base_uri": "https://localhost:8080/"
        },
        "id": "zovB1oNfjlqj",
        "outputId": "088a71d6-0b97-4d72-beee-e33bb6bcd3fc"
      },
      "outputs": [
        {
          "name": "stdout",
          "output_type": "stream",
          "text": [
            "Reflector Diffusion Length (squared): 22.7923942802332 (fast); 8.11145326715478 (thermal)\n"
          ]
        }
      ],
      "source": [
        "#Some parameters\n",
        "\n",
        "L_1R, L_2R = sp.symbols(\"L_{1R}, L_{2R}\")\n",
        "E1, E2, F1, F2 = sp.symbols(\"E1, E2, F1, F2\")\n",
        "\n",
        "L_1R_val = sp.sqrt(D_R1_val/ (SigmaR_R1_val + D_R1_val*BT2_val))\n",
        "L_2R_val = sp.sqrt(D_R2_val/(Sigmaa_R2_val + D_R2_val*BT2_val))\n",
        "\n",
        "print(\"Reflector Diffusion Length (squared): \" + str(L_1R_val**2) + \" (fast); \" + str(L_2R_val**2) + \" (thermal)\")"
      ]
    },
    {
      "cell_type": "code",
      "execution_count": null,
      "metadata": {
        "colab": {
          "base_uri": "https://localhost:8080/",
          "height": 40
        },
        "id": "1NCG47HYh7sp",
        "outputId": "084119f4-8434-4cfd-bb25-4517a80578b6"
      },
      "outputs": [
        {
          "data": {
            "text/latex": [
              "$\\displaystyle \\phi_{1R}{\\left(x \\right)} = F_{1} e^{- \\frac{x}{L_{1R}}}$"
            ],
            "text/plain": [
              "Eq(\\phi_{1R}(x), F1*exp(-x/L_{1R}))"
            ]
          },
          "execution_count": 18,
          "metadata": {},
          "output_type": "execute_result"
        }
      ],
      "source": [
        "#First Group Resolution\n",
        "\n",
        "FastFluxReflector = sp.Eq(Phi1R(x), E1*sp.exp(x/L_1R) + F1*sp.exp(-x/L_1R))\n",
        "FastFluxReflector.subs(E1,0) #for bondness on flux"
      ]
    },
    {
      "cell_type": "code",
      "execution_count": null,
      "metadata": {
        "colab": {
          "base_uri": "https://localhost:8080/",
          "height": 40
        },
        "id": "ragQcMViQ19r",
        "outputId": "09a41c66-cf39-4798-d03c-c18500879813"
      },
      "outputs": [
        {
          "data": {
            "text/latex": [
              "$\\displaystyle \\phi_{2R}{\\left(x \\right)} = E_{2} e^{- \\frac{x}{L_{2R}}} + F_{2} e^{- \\frac{x}{L_{1R}}}$"
            ],
            "text/plain": [
              "Eq(\\phi_{2R}(x), E2*exp(-x/L_{2R}) + F2*exp(-x/L_{1R}))"
            ]
          },
          "execution_count": 19,
          "metadata": {},
          "output_type": "execute_result"
        }
      ],
      "source": [
        "#Second Group Resolution\n",
        "\n",
        "ThermalFluxReflector = sp.Eq(Phi2R(x), E2*sp.exp(-x/L_2R) + F2*sp.exp(-x/L_1R))\n",
        "ThermalFluxReflector"
      ]
    },
    {
      "cell_type": "markdown",
      "metadata": {
        "id": "wGQzKS-UdGKi"
      },
      "source": [
        "**SYSTEM OF EQUATIONS:** (I have studied only for x>0 to avoid Abs(x) notation)\n",
        "\n",
        "*CORE:*\n",
        "\\begin{aligned}\n",
        "&\\\\\n",
        "\\phi_{1C} &= A_1 cos(\\mu x) + B_1 cosh(\\lambda x) \\\\\n",
        "&\\\\\n",
        "\\phi_{2C} &= A_2 cos(\\mu x) + B_2 cosh(\\lambda x) \\\\\n",
        "&\\\\\n",
        "\\end{aligned}\n",
        "\n",
        "*REFLECTOR:*\n",
        "\\begin{aligned}\n",
        "&\\\\\n",
        "\\phi_{1R} &= F_1 exp(-\\frac{x}{L_{1R}}) \\\\\n",
        "&\\\\\n",
        "\\phi_{2R} &=  F_2 exp(-\\frac{x}{L_{1R}}) +  E_2 exp(-\\frac{x}{L_{2R}}) \\\\\n",
        "&\\\\\n",
        "\\end{aligned}\n",
        "\n",
        "*COUPLING COEFFICIENTS:*\n",
        "\n",
        "We can exploit these Coupling coefficients for simplifying the system:\n",
        "\n",
        "\\begin{aligned}\n",
        "  S_{1c} &= \\frac{A _2}{A_1} = \\frac {D_{1c}\\mu^2 + \\Sigma_{1c}}{\\epsilon\\nu\\Sigma_{f_2}}\\\\\n",
        "  S_{2c} &= \\frac{B _2}{B_1} = \\frac {D_{1c}\\lambda^2 + \\Sigma_{1c}}{\\epsilon\\nu\\Sigma_{f_2}} \\\\\n",
        "  S_{1r} &= \\frac{F_2}{F_1} = \\frac{\\frac{\\Sigma_{1\\rightarrow 2r}}{D_{2r}}}\n",
        "  {{L_{1R}^2 - L_{2R}^2}} (L_{1R}^2 L_{2R}^2)\n",
        "\\end{aligned}\n",
        "\n",
        "\n",
        "So we obtain:\n",
        "\n",
        "*FINAL SYSTEM:*\n",
        "\n",
        "\\begin{aligned}\n",
        "&\\\\\n",
        "\\phi_{1C} &= A_1 cos(\\mu x) + B_1 cosh(\\lambda x) \\\\\n",
        "&\\\\\n",
        "\\phi_{2C} &= S_{1c} A_1 cos(\\mu x) + S_{2c} B_1 cosh(\\lambda x) \\\\\n",
        "&\\\\\n",
        "\\phi_{1R} &= F_1 exp(-\\frac{x}{L_{1R}}) \\\\\n",
        "&\\\\\n",
        "\\phi_{2R} &=  S_{1r}F_1 exp(-\\frac{x}{L_{1R}}) +  E_2 exp(-\\frac{x}{L_{2R}}) \\\\\n",
        "&\\\\\n",
        "\\end{aligned}\n",
        "\n",
        "\n",
        "In this way we have just 4 unknown!!"
      ]
    },
    {
      "cell_type": "code",
      "execution_count": null,
      "metadata": {
        "colab": {
          "base_uri": "https://localhost:8080/"
        },
        "id": "MruPIHIinJpe",
        "outputId": "1b7ce2ee-2d58-48b6-e180-671009e78cd6"
      },
      "outputs": [
        {
          "name": "stdout",
          "output_type": "stream",
          "text": [
            "Coupling Coefficient S1c: 0.116377499374827\n",
            "\n",
            "Coupling Coefficient S2c: -1.43641894129215\n",
            "\n",
            "Coupling Coefficient S1r: 3.85665529010239\n"
          ]
        }
      ],
      "source": [
        "#Coupling Coefficients\n",
        "\n",
        "S1C = (D_C1_val*mu2_val + Sigma_C1_val)/ (FastFissionFactor*nu_Sigmaf_C2_val)\n",
        "S2C = (-D_C1_val*(-lambd2_val) + Sigma_C2_val)/ (FastFissionFactor*nu_Sigmaf_C2_val)\n",
        "S1R = (Sigma12_R2_val/ D_R2_val)*(L_1R_val**2 * L_2R_val**2)/(L_1R_val**2 - L_2R_val**2)\n",
        "\n",
        "print(\"Coupling Coefficient S1c: \" + str(S1C) + \"\\n\")\n",
        "print(\"Coupling Coefficient S2c: \" + str(S2C) + \"\\n\")\n",
        "print(\"Coupling Coefficient S1r: \" + str(S1R))"
      ]
    },
    {
      "cell_type": "markdown",
      "metadata": {
        "id": "eRmfyxhO--CK"
      },
      "source": [
        "# 4.APPLICATION OF BOUNDARY CONDITIONS\n",
        "\n",
        "\n",
        "Recalling Boundary Conditions:\n",
        "\n",
        "* $\\varphi_{1c}(a) = \\varphi_{1r}(a)$ (flux interface)\n",
        "\n",
        "* $\\varphi_{2c}(a) = \\varphi_{2r}(a)$ (flux interface)\n",
        "\n",
        "* $-D_{1c}\\frac{d\\varphi_{1c}}{dx}\\Big\\vert_{x=a} = -D_{1r}\\frac{d\\varphi_{1r}}{dx}\\Big\\vert_{x=a}$ (current interface)\n",
        "\n",
        "* $-D_{2c}\\frac{d\\varphi_{2c}}{dx}\\Big\\vert_{x=a} = -D_{2r}\\frac{d\\varphi_{2r}}{dx}\\Big\\vert_{x=a}$ (current interface)\n",
        "\n",
        "\n",
        "Applying these Boundary conditions we obtain a matricial form that can be solved to compute the dimension of the core slab (which is the only one unknownin the system). (I have omitted the procedure that I have done by hand)\n",
        "\n",
        "\\begin{equation}\n",
        "\\begin{bmatrix}\n",
        "  cos(\\mu a) & cosh(\\lambda a) & -exp(-\\frac{a}{L_1}) & 0 \\\\\n",
        "  S_{1c} cos(\\mu a) & S_{2c} cosh(\\lambda a) & -S_{1r} exp(-\\frac{a}{L_1}) & -exp(-\\frac{a}{L_2}) \\\\\n",
        "  D_{1c}\\mu sin(\\mu a) & - D_{1c}\\lambda sinh(\\lambda a) & -\\frac{D_{1r}}{L_1}exp(-\\frac{a}{L_1}) & 0 \\\\\n",
        "  D_{2c}S_{1c}\\mu sin(\\mu a)) & -D_{2c}S_{2c}\\lambda sinh(\\lambda a)) & -\\frac{S_{1r}D_{2r}}{L_1} exp(-\\frac{a}{L_1}) & -\\frac{D_{2r}}{L_2} exp(-\\frac{a}{L_2})\n",
        "\\end{bmatrix}\\begin{bmatrix}\n",
        "  A_1 \\\\\n",
        "  B_1 \\\\\n",
        "  F_1 \\\\\n",
        "  E_2 \n",
        "\\end{bmatrix} = \\begin{bmatrix} 0 \\\\ 0 \\\\ 0 \\\\ 0 \\end{bmatrix}\\end{equation}"
      ]
    },
    {
      "cell_type": "code",
      "execution_count": null,
      "metadata": {
        "id": "eIrmZEHzSkg1"
      },
      "outputs": [],
      "source": [
        "#Final Matrix\n",
        "a = sp.Symbol(\"a\")\n",
        "Matrix = sp.zeros(4,4)\n",
        "\n",
        "Matrix[0,0] = sp.cos(sp.sqrt(mu)*a)\n",
        "Matrix[0,1] = sp.cosh(sp.sqrt(lambd)*a)\n",
        "Matrix[0,2] = -sp.exp(-a/ L_1R)\n",
        "Matrix[0,3] = 0\n",
        "Matrix[1,0] = S1C*sp.cos(sp.sqrt(mu)*a)\n",
        "Matrix[1,1] = S2C*sp.cosh(sp.sqrt(lambd)*a)\n",
        "Matrix[1,2] = -S1R*sp.exp(-a/L_1R)\n",
        "Matrix[1,3] = -sp.exp(-a/L_2R)\n",
        "Matrix[2,0] = D_C1*sp.sqrt(mu)*sp.sin(sp.sqrt(mu)*a)\n",
        "Matrix[2,1] = -D_C1*sp.sqrt(lambd)*sp.sinh(lambd*a)\n",
        "Matrix[2,2] = -(D_R1/L_1R)*sp.exp(-a/L_1R)\n",
        "Matrix[2,3] = 0\n",
        "Matrix[3,0] = D_C2*sp.sqrt(mu)*S1C*sp.sin(sp.sqrt(mu)*a)\n",
        "Matrix[3,1] = -D_C2*sp.sqrt(lambd)*S2C*sp.sinh(sp.sqrt(lambd)*a)\n",
        "Matrix[3,2] = -(D_R2/L_1R)*S1R*sp.exp(-a/L_1R)\n",
        "Matrix[3,3] = -(D_R2/L_2R)*sp.exp(-a/L_2R)\n",
        "\n",
        "#I have called mu and lambda the two roots that are squared"
      ]
    },
    {
      "cell_type": "code",
      "execution_count": null,
      "metadata": {
        "id": "vBuMG4XguX_v"
      },
      "outputs": [],
      "source": [
        "Matrix_val = Matrix.subs({mu:mu2_val, lambd:-lambd2_val, L_1R:L_1R_val, L_2R:L_2R_val, D_C1:D_C1_val, D_C2:D_C2_val, D_R1:D_R1_val, D_R2:D_R2_val})\n",
        "MatrixDet = sp.det(Matrix_val)\n",
        "detEquationMatrix = sp.Eq(MatrixDet,0)"
      ]
    },
    {
      "cell_type": "code",
      "execution_count": null,
      "metadata": {
        "colab": {
          "base_uri": "https://localhost:8080/",
          "height": 597
        },
        "id": "Qzrqpzg2voX3",
        "outputId": "b137222f-3f0b-4def-a0df-0365d6ea2262"
      },
      "outputs": [
        {
          "name": "stdout",
          "output_type": "stream",
          "text": [
            "\n",
            "Half Slab dimension: 50.0851\n",
            "Reactor Dimension: 100.17\n",
            "\n"
          ]
        },
        {
          "data": {
            "image/png": "[encoded data removed]",
            "text/plain": [
              "<Figure size 550x550 with 1 Axes>"
            ]
          },
          "metadata": {
            "needs_background": "light"
          },
          "output_type": "display_data"
        }
      ],
      "source": [
        "l = np.linspace(40,65,1000)\n",
        "\n",
        "MatrixDetLambd = sp.lambdify(a, MatrixDet)\n",
        "plt.figure(figsize=(5,5), dpi=110);\n",
        "plt.plot(l, MatrixDetLambd(l), color=\"darkred\");\n",
        "plt.title(\"Determinat Representation\", style=\"italic\", fontsize=12);\n",
        "plt.xlabel(\"Lenght [cm]\", fontsize=10);\n",
        "plt.ylabel(\"Determinant Value [cm]\", fontsize=10);\n",
        "\n",
        "H = np.where(MatrixDetLambd(l)>0)\n",
        "P = l[H[0][0]]\n",
        "plt.scatter(P,MatrixDetLambd(P), color=\"blue\");\n",
        "plt.grid();\n",
        "\n",
        "print(\"\\nHalf Slab dimension: \" + str(round(P,4)))\n",
        "print(\"Reactor Dimension: \" + str(round(P*2,2)) + \"\\n\")"
      ]
    },
    {
      "cell_type": "markdown",
      "metadata": {
        "id": "5a-Gv8dRzul-"
      },
      "source": [
        "# 5.CALCULATION OF COEFFICIENTS AND FINAL REPRESENTATION OF FLUXES IN THE CORE SLAB AND REFLECTOR"
      ]
    },
    {
      "cell_type": "markdown",
      "metadata": {
        "id": "LIxOE-dQq9CK"
      },
      "source": [
        "Now you can compute the coefficients. Note that since we have a critical system, the system is undetermined. What I did is the following: I assume that I have a normalised source for start-up (this is physical, reactors are kept sub-critical and you need an external source for start-up), so this means that my coefficient $A_1$ (core fast equation) is 1."
      ]
    },
    {
      "cell_type": "markdown",
      "metadata": {
        "id": "d0mfDUcztAJ0"
      },
      "source": [
        "\\begin{equation}\n",
        "\\begin{bmatrix}\n",
        "  cos(\\mu a) & cosh(\\lambda a) & -exp(-\\frac{a}{L_1}) & 0 \\\\\n",
        "  S_{1c} cos(\\mu a) & S_{2c} cosh(\\lambda a) & -S_{1r} exp(-\\frac{a}{L_1}) & -exp(-\\frac{a}{L_2}) \\\\\n",
        "  D_{1c}\\mu sin(\\mu a) & - D_{1c}\\lambda sinh(\\lambda a) & -\\frac{D_{1r}}{L_1}exp(-\\frac{a}{L_1}) & 0 \\\\\n",
        "  D_{2c}S_{1c}\\mu sin(\\mu a)) & -D_{2c}S_{2c}\\lambda sinh(\\lambda a)) & -\\frac{S_{1r}D_{2r}}{L_1} exp(-\\frac{a}{L_1}) & -\\frac{D_{2r}}{L_2} exp(-\\frac{a}{L_2})\n",
        "\\end{bmatrix}\\begin{bmatrix}\n",
        "  A_1 \\\\\n",
        "  B_1 \\\\\n",
        "  F_1 \\\\\n",
        "  E_2 \n",
        "\\end{bmatrix} = \\begin{bmatrix} 0 \\\\ 0 \\\\ 0 \\\\ 0 \\end{bmatrix}\\end{equation}\n",
        "\n",
        "Applying $A_1=1$ we obtain:\n",
        "\n",
        "\\begin{aligned}\n",
        "&\\\\\n",
        "(1)&\\;\\;\\;cos(\\mu a) + B_1 cosh(\\lambda a) - F_1 exp(-\\frac{a}{L_{2R}}) = 0 \\\\\n",
        "(3)&\\;\\;\\;D_{C1} \\mu sin(\\mu a) - B_1 D_{C1} \\lambda sinh(\\lambda a) - F_1 \\frac{D_{R1}}{L_{R1}}exp(-\\frac{a}{L_{1R}}) = 0 \\\\\n",
        "&\\\\\n",
        "\\end{aligned}\n",
        "\n",
        "We can solve for $B_1$ and $F_1$, and then apply the link between $F_1$ and $F_2$."
      ]
    },
    {
      "cell_type": "code",
      "execution_count": null,
      "metadata": {
        "id": "evit94SI3MW8"
      },
      "outputs": [],
      "source": [
        "#Coefficients calculation\n",
        "\n",
        "EQ_1 = sp.Eq(sp.cos(sp.sqrt(mu2_val)*P) + B1*sp.cosh(sp.sqrt(-lambd2_val)*P) - F1*sp.exp(-P/L_2R_val) , 0)\n",
        "EQ_2 = sp.Eq(D_C1_val*sp.sqrt(mu2_val)*sp.sin(sp.sqrt(mu2_val)*P) - B1*D_C1_val*sp.sinh(sp.sqrt(-lambd2_val)*P) - F1*(D_R1_val/L_1R_val)*sp.exp(-P/L_1R_val), 0)\n",
        "\n",
        "B1_F1_1 = sp.solve(EQ_1, B1)[0]\n",
        "B1_F1_3 = sp.solve(EQ_2, B1)[0]\n",
        "F1sol = sp.solve(sp.Eq(B1_F1_1 - B1_F1_3, 0), F1)[0]\n",
        "\n",
        "B1sol = B1_F1_1.subs({F1:F1sol})\n",
        "F2sol = F1sol*S1R\n",
        "\n",
        "E2eq = sp.Eq(S1C*sp.cos(sp.sqrt(mu2_val)*P) + S2C*B1sol*sp.cosh(sp.sqrt(-lambd2_val)*P) - F1sol*S1R*sp.exp(-P/L_2R_val) - E2*sp.exp(-P/L_2R_val) , 0)\n",
        "E2sol = sp.solve(E2eq, E2)[0]\n",
        "\n",
        "d = np.linspace(0,P,1000)\n",
        "v = np.linspace(P,100,1000)\n",
        "Flux1C = 1*sp.cos(sp.sqrt(mu2_val)*x) + B1sol*sp.cosh(sp.sqrt(-lambd2_val)*x)\n",
        "Flux2C = S1C*sp.cos(sp.sqrt(mu2_val)*x) + S2C*B1sol*sp.cosh(sp.sqrt(-lambd2_val)*x)\n",
        "Flux1R = F1sol*sp.exp(-x/L_1R_val)\n",
        "Flux2R = F2sol*sp.exp(-x/L_1R_val) + E2sol*sp.exp(-x/L_2R_val)\n",
        "\n",
        "Flux1Clamb = sp.lambdify(x,Flux1C)\n",
        "Flux2Clamb = sp.lambdify(x,Flux2C)\n",
        "Flux1Rlamb = sp.lambdify(x,Flux1R)\n",
        "Flux2Rlamb = sp.lambdify(x,Flux2R)"
      ]
    },
    {
      "cell_type": "code",
      "execution_count": null,
      "metadata": {
        "colab": {
          "base_uri": "https://localhost:8080/",
          "height": 714
        },
        "id": "2kvvzK88BVwO",
        "outputId": "42d7362f-5ac3-4838-be36-49db7f46fb86"
      },
      "outputs": [
        {
          "name": "stdout",
          "output_type": "stream",
          "text": [
            "Coefficients:\n",
            "\n",
            "1\n",
            "-2.74390901384845e-14\n",
            "39299.7864473134\n",
            "11802365.9103227\n",
            "\n"
          ]
        },
        {
          "data": {
            "image/png": "[encoded data removed]",
            "text/plain": [
              "<Figure size 660x660 with 1 Axes>"
            ]
          },
          "metadata": {
            "needs_background": "light"
          },
          "output_type": "display_data"
        }
      ],
      "source": [
        "#Plot\n",
        "\n",
        "plt.figure(figsize=(6,6), dpi=110)\n",
        "plt.grid(linewidth=0.5, color=\"grey\")\n",
        "plt.title(\"Fluxes\", style=\"italic\", fontsize=12)\n",
        "plt.plot(d, Flux1Clamb(d), label=\"Fast Core\");\n",
        "plt.plot(d, Flux2Clamb(d), label=\"Thermal Core\");\n",
        "plt.plot(v, Flux1Rlamb(v), label=\"Fast Reflector\");\n",
        "plt.plot(v, Flux2Rlamb(v), label=\"Thermal Reflector\");\n",
        "plt.legend()\n",
        "plt.vlines(P,0,1,linestyle=\"--\")\n",
        "\n",
        "print(\"Coefficients:\\n\\n\" + str(1) + \"\\n\" + str(B1sol) + \"\\n\" + str(F1sol) + \"\\n\" + str(E2sol) + \"\\n\")"
      ]
    },
    {
      "cell_type": "markdown",
      "metadata": {
        "id": "920GXJCA7u4d"
      },
      "source": [
        "The final result is far away from the correct one, I tried to solve the problem but I failed..."
      ]
    },
    {
      "cell_type": "markdown",
      "metadata": {
        "id": "kv_JotC66xDC"
      },
      "source": [
        "![immagine_2022-05-31_134136672.png](data:image/png;base64,iVBORw0KGgoAAAANSUhEUgAAAXwAAAEICAYAAABcVE8dAAAgAElEQVR4nO3dd3gU5dr48e/sZpNN7wVIoyb0hNARCKBSlKIHVEQFXxHwHHtFXvWoP2zH8to4CjYsIKCAIEVQSAQBpYaa0AOEQKrpfbO/P2YTQglslk022dyf65orO7Mzz95PJrln9pmZ5wEhhBBCCCGEEEIIIYQQQgghhBBCCCGEEEIIIYSoFw8BaUAB4AsYgXY2jUgIIezY3cBO1KR7DlgL3NAAn6sDioHuNZZJwhdCiHryJJAO3A64oibh0cDbFpTlUMf1g1ETfM3tJOELIUQ98EQ9q59wlXWcgPeBVNP0vmkZQCyQAjwHnAe+BTTATOA4kAUsAXyuUG4HoBA1wRcAG03Layb8eGBqjW2mAH+YXvcHMoEQ03x34G8g0jR/K5AA5ABbgW41ynkOOAvkA4eBYVepvxBC2IURQAVXPzN/FfgTCAD8UZPn/zO9F2va/i3Ug4Az8Jhp/WDTsrnA97WUHc7Vz/CvlvABXkM9UDgD+4GHTcujUb+19AG0wGQg2RRPBHAGaFkjhrZXqb8QQtiFSahn5ldzHBhVY344avIENeGXAfoa7ydy8RlzC6CcKx9Urjfh64BdqMn+F0AxLf+ECwelKoeBwaay04EbTdsLUS80tg5AiEtkAX5c/Qy/JXCqxvwpLpwdA2QAJTXmw4DlqE0pOagHAAMQaIV4L1UOzAe6AO+iHiyqYniqRgw5qE0/LYFjwOPAy6iJf9El9RHCKiThi8ZmG1AKjLvKOqmoCbRKqGlZFePFq3MGGAl41Zj0qG3mdVUIuNSYD7rk/VbAv4GvUBN+1bWFM6jNPTVjcOFC09JC1LuQwkzxv2VBbEII0eQ8hXof/DjUpKhDTdj/Mb0/G7Xd3h/128AfpmVw4aJtTU+gNsVUHST8gbG1fPa1mnReM5XlYlp2lAtNOgrwK2qyVoB1NWLuiZr0+5jecwVuAdxR2/CHoh4cHIEvga9riU8IIezOJNT78AtR2/RXo94FA+rZ+Yeo9+efM72uarO/UsLXoN7qeRj1LpjjwOu1fO61Er4fsN5UzhbUZpiqhP8YsBc1aYPaLJMBDDTNjwB2oDbnnAN+QE343YDtpjKzgVVIk44QQgghhBBCCCGEEEIIIYQQQghhX5Rrr1I/fH19jeHh4RZtW1hYiKurq5Ujajqk/lL/5lr/5lx3UOuflJSUiXprcZ3VtSdBqwkPD2fnzp0WbRsfH09sbKyVI2o6pP5S/+Za/+Zcd1DrP2TIkFPXXvPK5ElbIYRoJiThCyFEMyEJXwghmgmbteELIeqmvLyclJQUPD09SUxMtHU4NtGc6q7X6wkODkans16P2ZLwhWgiUlJScHd3x9fXFw8PD1uHYxP5+fm4u7vbOox6ZzQaycrKIiUlhdatW1utXHOadL5E7aP7QC3vK6idVx0D9gE9rBOaEKKmkpISfH19URSb3U0tGoiiKPj6+lJSUnLtlevAnIQ/H7WXv9qMBNqbpmmoI/sIIeqBJPvmoz72tTlNOptQu4ytzVjgG9QuZP9EHdihBWr3r1a3Izmb5UfL2FtxFAetgkZRcNAoaDTqT61GQadVcHZ0wFmnxcVRi7Oj+tNF54DeUYO7kw69TiP/PEKIZsUabfitUAd2qJJiWnalhD/NNJGSkkJ8fHydP2zNyTJWHC+H40csCPUCBw246RRcdeCqU2pM4K5T8HRS8HJS8NJr8HRScNOBppEcIAoKCiz63dmL5lp/T09P8vPzMRgM5OfnX3P906dPAxAaGmq1GNLS0njuuefYvXs3Xl5e+Pv78+abb9K+fXurfQaAl5cXnTt3rp5fuHAhYWFhZtd9zpw53H///bi4uFxz3caspKTkor/1goKC6yqvoS/azjNNBAcHGy15Yi42FkbGxTFocCyGSqM6GY0YDEYqKisxGI2UVVRSUm6guKySorIKisoNFJepU1G5gYKSCnKLy8ktLiOnqFydistJKygjp7icorKKyz7XQaPg7+5EgLsTQZ56gr1dCPZ2JsTbhWAfZ4K9XXBzaphfpzxt2Dzrn5iYiLu7u9kXLh0c1L9Ha13kNBqN3HzzzUyePJmlS5cCsHfvXvLy8sz6jIqKiuqYrsXZ2Zl9+/Zdttzcun/66adMnTq1yV/g1ev1REdHV89f74mONTLUWdTBmKsEY9lYoWZTFLXpRqupnzPu4jIDGfmlpOeXkJan/kzPLyXd9Pp4RiG/H8mgpLzyou28XXQEe7sQ6uNCW39X2vi70dbfjTb+rrg20MFAiPoSFxeHTqdjxowZ1cu6d+8OqAeDZ599lrVr16IoCi+88AJ33nkn8fHxvPjii3h7e5OUlERiYiIzZ84kPj6e0tJS/vWvfzF9+vRrfnZBQQFjx44lKysLg8HA7NmzGTt2LIWFhdxxxx2kpKRgMBh48cUXSUtLIzU1lSFDhuDn50dcXFy9/U6aGmtkoZXAw8Ai1PE6c6mn9vuG4uyoJdTXhVDf2r8OGo1GsgrLSPm7mJS/iziTbfr5dzEHU3NZe+AclTWG0g7y0NPG35W2/m60C3CjYwsPIoLc8XS23j22ovl45eeDHErNu+o6xcVFADjHZ5tVZqeWHvx7dOda3z9w4AAxMTFXfG/ZsmUkJCSwd+9eMjMz6dWrF4MGDQJg9+7dHDhwgNatWzNv3jw8PT3ZsWMHpaWlDBgwgJtvvvmyWw+Li4uJiooCoHXr1vzwww8sX74cRVEoLS2lb9++jBkzhl9++YWWLVuyevVqAHJzc/H09OS9994jLi4OPz8/s+reXJiT8L9HHSfUD7V9/t+og0oDfAqsAUah3pZZBNxv/TAbH0VR8HNzws/NiagQr8veL60wcDqriOMZhRzPKOCE6eeKhLPklVxoMmrl5UzHFu50bOFBZJAHHVu4E+brWm/fXoSoD3/88QcTJ05Eq9USGBjI4MGD2bFjBx4eHvTu3bs6oa9fv559+/bx448/AmqCPnr06GUJ39nZmYSEhOr58vJyZs2aRXx8PA4ODpw9e5a0tDS6du3KU089xXPPPcett97KwIEDEbUzJ+FPvMb7RuBfVojFrjg5aGkf6E77wIvbEI1GI+n5pRw6l0fiuTySzuWTeC6PuMMZGExfCVwctXRt5Un3EC+6B3vRPcSTVl7OcleRqHa1M/Eqhw8fBiAiIsIqn9m5c+fqRF0XNbszNhqNfPTRRwwfPrxOZSxYsICMjAw2bdqEj48P4eHhlJSU0KFDB3bv3s2aNWt44YUXGDZsGC+99FKdY2wupGG5gSmKQqCHnkAPPUMiAqqXl5QbOJZewKFzeRw8m8velFzmb0mmzKBeJ/B1daw+ACh/V9CjpBwPvTQHiYYzdOhQZs2axbx585g2bRoA+/btIzc3l4EDBzJ37lwmT55MdnY2mzZt4u233yYpKemiMoYPH84nn3zC0KFD0el0HDlyhFatWl2zj/vc3FwCAgLQ6XTExcVx6pTaQ3Bqaio+Pj7cc889eHl58fnnnwNUX9yWJp2LScJvJPQ6LV1aedKllSf0VK+Bl1VUknQ+j70puew9k8PeMznEHU7HaIT3d68nMsiD3q196BXuQ69wbwI89DauhWhMwsLCrFqeoigsX76cxx9/nLfeegu9Xk94eDjvv/8+N9xwA9u2baN79+4oisJ//vMfgoKCLkv4U6dOJTk5mR49emA0GvH39+enn3665mdPmjSJ0aNH07dvX3r37k1kZCQA+/fv55lnnkGj0aDT6fjkE/W5z2nTpjFixAhatmwpF21rsFkbQUxMjFEGQKm7/JJyvl29iTLPEHYkZ7P7VA7F5QYAwnxd6BXuQ+9wH/q38yXYu2nfg1yb5rr/ExMT6dixY7PpT+ZKmlvdq/Z5FdMAKLuAnpaUJ2f4TYy7XkcnXy2xsR0AKDdUcjA1jx0ns9mRnM3GpHR+3JUCQLivCwPa+TGgnR/92vji7epoy9BFA8vJyQHUh5iEAEn4TZ5OqyEqxIuoEC8eHNQGo9HI0fQCthzLZMuxTFYkpLLgr9MoCnRp6cmAdn7c0M6PnuHe6HVaW4cv6lFaWhogCV9cIAnfziiKQodAdzoEunP/gNaUGyrZl5LLlmOZ/HEsky/+OMGnvx/HWadlQDtfhkQGMDQygBaezrYOXVhZmzZtbB2CaGQk4ds5nVZDTJg3MWHePDqsPYWlFWw/mU3c4XQ2JqXzW2I6AJFB7gw1Jf/oUG95DsAOWHPgDGEfJOE3M65ODgyJDGBIZACvjDFyLL2AjUlq8p+76QT/jT+Ol4uO2A7+jOgSxKAO/rg4yp9JU5SZmQkgtyaKavKf3IwpilL9cNj0wW3JLS5n89GM6gPATwmp6HUaBpuS/9DIQOkKognJysoCJOGLCyThi2qezjpu7daSW7u1pMJQyfaT2fxy8DzrDp5n3cE0dFqFfm39GNE5iJs6BeLv7mTrkEUDO3/+PI8//jg7duzAy8uLwMBA3n//fTp06GCV8rOyshg2bFj1Z2m1Wvz9/QFYsmQJ48aN49ChQ1b5LEvExsbyzjvv0LOnRXdF2pwkfHFFDloN/dv50b+dHy+P7kxCSg7rDpxn7YHzzFq+nxd+2k/fNr6M6d6SkV1a4OkiZ/72zmg0cttttzF58mQWLVoEqN0jp6WlmZXwzeke2dfXt7oPnZdffhk3NzeefvppAJKTk68r/rp0z2yvmnfthVk0GoUeod70CPVm5shIks7ns2b/OX7em8rMZft5ccUBBnfwZ3T3ltzUKVDa/O2ULbtHrmIwGHjwwQfZunUrrVq1YsWKFTg7O3P8+HH+9a9/kZGRgYuLC5999hmRkZFMmTIFvV7Pnj17GDBgANnZ2Tg7O7Nnzx7S09P58ssv+eabb9i2bRt9+vRh/vz5ADz00EPs2LGD4uJixo8fzyuvvGLdX6aNyH+mqBNFUejYwoOOLTx48qYO7D+by8qEVFbtO8dviek467Tc1CmQMd1bMqiDP44O5gybLOps7Uw4v/+qq4SYukdmq5lPXAd1hZFv1vp2Q3aPXJvjx4+zePFiPvvsM+644w6WLl3KPffcw7Rp0/j0009p3749f/31F//85z/ZuHEjoI6ut3XrVrRaLVOmTOHvv/9m27ZtrFy5kjFjxrBlyxY+//xzevXqRUJCAlFRUbz22mv4+PhgMBgYNmwY+/bto1u3bub9HhsxSfjCYoqi0C3Yi27BXswa1ZHtydms3JvKmv3nWLk3FS8XHWO7t2RCzxA6t/SQ3j7tmLW7R65NWFhYdT/5MTExJCcnU1BQwNatW5kwYUL1eqWlpdWvJ0yYgFZ74SHD0aNHoygKXbt2JTAwkK5duwJqb6DJyclERUWxZMkS5s2bR0VFBefOnePQoUOS8IWootEo9G3jS982vrwypjN/HM1k6e4Uvt9xhq+3nSIyyJ3xMcGMjWolF3ut4Spn4lXO2FH3yFWcnC787Wi1WoqLi6msrMTLy+ui/vNr+/yaZWg0movK02g0VFRUcPLkSd555x127NiBt7c3U6ZMoaSkxKJ4Gxv5vi2sTqfVMCQygI/v7sGOWTcye1wX9Dots1cn0veNDUz9ege/HDhHWUXltQsTjcbQoUMpLS1l3rx51cv27dvH5s2bGThwIIsXL8ZgMFT3W9+7d+/LyqjqHrm8vByAI0eOUFhYeF1xeXh4VI+KBepBZe/evRaXl5eXh6urK56enqSlpbF27drriq8xkTN8Ua88XXTc0zeMe/qGcSw9nx93nWXZ7hR+S0zH20XHbdHB3N0nlHYBbrYOVVyDLbtHvpYFCxbw0EMPMXv2bMrLy7nrrruqLyjXVffu3YmOjiYyMpKQkBAGDBhw3fE1FtI9chPU1OtfYajkj2OZ/LAzhfWHzlNuMNK7tQ+T+oQyoksQTg5X79StqdffUnXtHrnqLNqeuliQ7pGle2TRxDhoNcRGBBAbEUBmQSk/7Ezh++2neWxRAj6ujoyPCWZi71Ba+119FCRxdfaU6IV1SMIXNuXn5sRDsW2ZPqgNW45nsvCv03zxx0nmbTpB/7a+3N0nlOGdg9Bp5XJTXUlfOuJSkvBFo6DRKAxs78/A9v6k55WwZOcZvt9+hocX7iHQw4l7+4YxsXcovm5yh4+5pC8dcSlJ+KLRCfDQ8/DQ9jwU247fj6Tz1ZZk3ll/hA83HmNM95Z0cTTYOsQmwVq3Ywr7IQlfNFpajcLQyECGRgZyLD2fr7eeYunuFH4sM7AqdStTBoRLc48QdSD/KaJJaBfgzv8b14Vtzw9jYqQj6fmlPLxwDwPfimNO3DFyispsHWKjc/78ec6fP2/rMEQjIglfNCmezjqGh+uIezqWLyb3pH2gG2+vO0y/Nzby8sqDnMkusnWIjUZubi65ublWLVOr1RIVFUWXLl0YPXp09UDptcnIyKBPnz5ER0ezefNmwsPDqy8m10V8fDxbt261NOzqMjw9PYmKiiIqKoobb7yxTtvn5OTw3//+97pisDVJ+KJJ0moUhnUM5NsH+vDL4wMZ2TWI7/48xeC343h44W72p1g30QmVs7MzCQkJHDhwAB8fH+bMmXPV9Tds2EDXrl3Zs2cPAwcOtPhzLUn4FRUVly0bOHAgCQkJJCQk8Ntvv9WpPEn4QjQCkUEevHdHFJufG8LUgW2IP5zB6I//YOK8P4k7nI7RaLR1iHapX79+nD17FlB7sRwxYgQxMTEMHDiQpKQkEhISePbZZ1mxYgVRUVEUFxdftP13331H7969iYqKYvr06RgM6sX4X375hR49etC9e3eGDRtGcnIyn376Kf/3f//HgAED2Lx5M8nJyQwdOpRu3boxbNgwTp8+DcCUKVOYMWMGffr04dlnn71mHbZv306/fv2Ijo6mf//+HDb1P3Tw4MHq2Lp168bRo0eZOXMmx48fJyoqimeeecaav8oGIxdthd1o4enMrFEdeXhoO77/6zRfbUnm/q920CHQjWmD2jI2qqXdXOB9a/tbJGUnXXWdoiK1ecvlpHndI0f6RPJc7+fMWtdgMLBhwwYeeOABgFq7J3711VfZuXMnH3/88UXbJyYmsnjxYrZs2YJOp+Of//wnCxYsYOTIkTz44INs2rSJ1q1bk52djY+PDzNmzMDNzY3p06fj7u7O6NGjmTx5MpMnT+bLL7/k0Ucfre6ioWZ3yJfavHlzdW+bEyZM4JFHHmHz5s04ODjw22+/MWvWLJYuXcqnn37KY489xqRJkygrK8NgMPDmm29y4MCBWjtpawok4Qu746HXMX1wW+4f0Jqf96Yyb9MJnv5hL//36xFmxLZlQkwwet3Vu28QV1ZcXExUVBRnz56lY8eO3HTTTdfsnvhKNmzYwK5du+jVq1d1uQEBAfz5558MGjSourtkHx+fK26/bds2li1bBsC999570dn8pd0h1zRw4EBWrVpVPX/mzBkmT57M0aNHURSlujuKfv368dprr5GSksLtt99O+/btr/WraRIk4Qu75eig4R8xwdzeoxVxh9P5aOMxXvzpAB9tOMq0QW24u09okx2dy5wz8cNW7h4ZLrThFxUVMXz4cObMmcOUKVOu2j3xlRiNRiZPnswbb7xx0fKff/75umO8tDvkq3nxxRcZMmQIy5cvJzk5ubqPprvvvps+ffqwevVqRo0axdy5c2nTps11x2Zr9vH9VoirUBT1fv5lD/Vn4dQ+tPV3Y/bqRAa8uZGPNx4lr6Tc1iE2OS4uLnz44Ye8++67uLi41Ll74mHDhvHjjz+Snp4OQHZ2NqdOnaJv375s2rSJkydPVi8HcHd3Jz8/v3r7/v37V4+ru2DBAosvCOfm5tKqVSuA6uENAU6cOEGbNm149NFHGTt2LPv27bsshqbI3IQ/AjgMHANmXuH9UCAO2APsA0ZZJTohrEhRFPq38+P7aX1Z+lA/okK8eGf9EQa8uZF31h0mu1Du5a+L6OhounXrxvfff8+CBQv44osv6N69O507d2bFihVX3bZTp07Mnj2bm2++mW7dunHTTTdx7tw5/P39mTdvHrfffjvdu3fnzjvvBNRRqpYvX1590fajjz7iq6++olu3bnz77bd88MEHFtXh2Wef5fnnnyc6Ovqiu3qWLFlCly5diIqK4sCBA9x33334+voyYMAAunTp0mQv2ppDCxwH2gCOwF6g0yXrzAMeMr3uBFxzePmYmBijpeLi4ize1h5I/a1X//0pOcYZ3+40hs9cZYx8Ya3x9TWHjFkFpVYr35oOHTpkNBqNxry8PLPWT0pKMiYlJdVnSA3O3Lrbi6p9XiUuLs4IWNavPOa14fdGPbM/YZpfBIwFDtVYxwh4mF57AqmWBiREQ+rSypNP7onhaFo+H8cdY96mE3y37RT/c0Nrpt7QBk+XptvFsPSlIy5lzgAo41GbdKaa5u8F+gAP11inBbAe8AZcgRuBXVcoa5ppIjAwMKaqDa6uCgoKcHNrviMkSf3rr/5nCyr56VgZO84bcHaAEeE6bg7X4exg+wHYPT09adeuHQaDoda7UOxdc6v7sWPHLnpauqCggNGjR9t8AJSJwHzgXaAf8C3QBbh00NJ5pong4GCjpaMWNdcRj6pI/eu3/pOAQ6l5vP/bEZYfSiMuFR4c2IYp/cNxdbLdXT2JiYnVFw7NGfWpqh+doKCg+g6twTS3Ea/0ej3R0dHV8/Hx8ddVnjkXbc8CITXmg03LanoAWGJ6vQ3QA9IJt2iyOrX0YN59Pfn54RvoEerN2+sOM+g/cXy26QTFZU2je+aCggIKCgpsHYZoRMxJ+DuA9kBr1Iu2dwErL1nnNDDM9LojasLPsFKMQthM12BPvpzSi2X/7E+nlh68tiaR2HfiWLT9NBWGS7/ANi7t2rWjXbt2tg5DNCLmJPwK1Pb6dUAi6pn8QeBVYIxpnaeAB1Hv4PkemIJ6IVcIu9Aj1JtvH+jD4ml9aeXlzMxl+xn+/iZ+OXBe+uoRTYa59+GvAToAbYHXTMte4sKZ/iFgANAdiEK9gCuE3enTxpelD/Vn7r0xAMz4bhe3f7KVv05k2Tiyy6WkpJCSkmLVMptq98jr1q2r7hbZzc2NiIgIoqKiuO+++5g/fz4PP/zwtQupRw11E4Y8aStEHSmKwvDOQax7fBBv/aMr53JKuHPen/zP/B0knc+zdXjVCgsLKSwstGqZTbV75OHDh1d3i9yzZ08WLFhAQkIC33zzjcUxVanq5bMpkIQvhIUctBru7BVK3NOxPDcikh3J2Yz8YDNPLkkgNaf42gU0cfbQPXKV1NRURowYQfv27S/abv369fTr148ePXowYcKE6ovg4eHhPPfcc/To0YMffviB8PBwnn/+eaKioujZsye7d+9m+PDhtG3blk8//RRQL6IPGzaMHj160LVr12s+jVwfmmbPUUI0Is6OWh6KbcvE3iF8En+cr7Yms2b/OaYPasv0wW3qpYO286+/Tmni1btHrixWu0c+5Wxe98hOHSMJmjXLrHWbavfItUlISGDPnj04OTkRERHBI488grOzM7Nnz+a3337D1dWVt956i/fee4+XXnoJAF9fX3bv3g3AzJkzCQ0NJSEhgSeeeIIpU6awZcsWSkpK6NKlCzNmzECv17N8+XI8PDzIzMykb9++jBkzBkVpuGc8JOELYSVeLo48P6oj9/YL4821SXyw4SiLd5xh5shIxnRviUZj+4e3rldT7x65NsOGDcPT0xNQ+/k5deoUOTk5HDp0iAEDBgBQVlZGv379qrep6uenypgx6j0sXbt2paCgAHd3d9zd3XFyciInJwdXV1dmzZrFpk2b0Gg0nD17lrS0tAZ9TkISvhBWFuztwsd392By/2xe/fkQjy9OYP7WZF4a3Ykeod5W+QxzzsSrukcOk+6Rr8nJyan6tVarpaKiAqPRyE033cT3339v1udUlaHRaC4qT6PRUFFRwYIFC8jIyGDXrl3odDrCw8MpKSmpc6zXQ9rwhagnvcJ9WPGvAbwzoTupOcXc/t+tPLZoD+dzG/afvD7YS/fIV9O3b1+2bNnCsWPHAPUi+JEjRywuLzc3l4CAAHQ6HXFxcZw6dcpaoZpNEr4Q9UijURgfE0zc07E8PKQdaw+cZ9i78Xz5x0kMlU37/n176B75avz9/Zk/fz4TJ06kW7du9OvXj6Skq183uZpJkyaxc+dOunbtyjfffENkZKQVozWPzRoVY2JijDt3WtbLp/QlI/VvqvU/lVXIiysOsulIBl1aefD6bV3pFuxl1raJiYl07NjR7P5k6mPEK1trbn3pVO3zKvHx8QwZMsTiztPkDF+IBhTm68rX9/fi47ujScsrZdycLby88iAFpRXX3riOtFpts+pZUlybXLQVooEpisKt3VoyqIM/7647zNfbkvktMY13J3SnTxtfq32O9KMjLiVn+ELYiIdexytju/DjjH5oFIW7PvuT19ckUlJe+5Ob0m9P81Ef+1oSvhA2FhPmw9rHBjKxdyjzNp1g3JwtnMi4vFtjvV5PVlaW2YmgPvrSEQ3DaDSSlZWFXq+3arnSpCNEI+Dq5MDrt3Xlpo6BPLkkgbEfb+G9O6O4qVNg9TrBwcGkpKSQk5NjViLIylI7dKt5O2NTV1JSYvUk2Fjp9XqCg4OtWqYkfCEakSGRAfz8yA089N1uHvxmJ48Na8/jN7ZHURR0Oh2tW7cmPj7+olGQmpPmXHdrkCYdIRqZYG8XfpjRj/ExwXyw4Sgzl+5v9IOtiKZBzvCFaIT0Oi1vj+9GC089H208RnZRGXPu7oGjg/nnaNOmTQNg3rx59RWmaGLkDF+IRkpRFJ66OYJ/j+7Er4fSeGJxQp2ezj1y5Mh1dQUg7I+c4QvRyN0/oDXlhkpeX5OEm5MDI3zl1kxhGUn4QjQB0wa1Jbe4nDlxx9FGOjLE1gGJJkmadIRoIp66KYKbOwWy6HAZ2443vjF0ReMnCV+IJkKjUXj3ju4EuCg8sTiB3OJyW4ckmhhJ+EI0Ie56HdO6OZFRUMTIDoQAACAASURBVMrsVYdsHY5oYiThC9HEtPHUMmNwG37YlcLW45m2Dkc0IZLwhWiCHhnanlZezsxeldjkB1IRDUcSvhBNkF6n5bmRkRw6l8fS3VfuIK1Dhw506NChgSMTjZnclilEEzW6Wws+23SCjzce4/boVjhoLz5/kydsxaXkDF+IJkpRFP41pC2ns4tYvf+crcMRTYAkfCGasJs7BdHW35VPfz9xWT/506ZNq+5PRwiQhC9Ek6bRKDxwQxsSz+WRcCbnovd8fX3x9bXekImi6ZM2fCGauDFRLZm9+hDfbz9NdKh39fI33njDhlGJxsjcM/wRwGHgGDCzlnXuAA4BB4GF1x+aEMIcbk4OjO7Wkp/3nqOgtMLW4YhGzJyErwXmACOBTsBE08+a2gPPAwOAzsDjVoxRCHENE3oGU1xuYENiWvWyf/zjH/zjH/+wYVSisTEn4fdGPbM/AZQBi4Cxl6zzIOpB4W/TfLq1AhRCXFuPUG+CPPSsqXG3TlZWVvW4tkKAeW34rYAzNeZTgD6XrFP1dMcW1G8ELwO/XKGsaaaJlJQU4uPj6xRslYKCAou3tQdSf6n/lerf1buCjYlp/PJbHHoHhZwc9SKuPf2uZN8XXNf21rpo64DarBMLBAObgK5AziXrzTNNBAcHG2NjYy36sPj4eCzd1h5I/aX+V6q/S1g2v87dRkVABLHdWuLl5QVgV78r2ffXd7Azp0nnLBBSYz7YtKymFGAlUA6cBI6gHgCEEA0kJswbT2cdm45k2DoU0UiZk/B3oCbv1oAjcBdqcq/pJ9SzewA/1CaeE1aKUQhhBq1GYUA7XzYfzbzsISwhwLyEXwE8DKwDEoElqLdevgqMMa2zDshCvS0zDnjGNC+EaEAD2/tzLreE4xnX19Yr7JO5bfhrTFNNL9V4bQSeNE1CCBu5oZ0fAL8fkX7yxeWkawUh7EiIjwuhPi5sPylfsMXlpGsFIexMzzBvNh3N5Ma+/VAUW0cjGhNJ+ELYmR5h3izbc5Z/PvMiob4utg5HNCLSpCOEnYkJUztQ23U628aRiMZGEr4QdqZDoDvuTg68NneR9KUjLiJNOkLYGa1GoVuIJ0cN4fRrZ+toRGMiZ/hC2KHOLT3JwZXHnpA7pcUFkvCFsEOdWnhQVlHJiYxCW4ciGhFJ+ELYoU4tPQCY9PBzNo5ENCaS8IWwQ238XKGygjKXAFuHIhoRSfhC2CEHrQbHogzK3GQQc3GBJHwh7JRj4HoceiywdRiiEZGEL4Sd0uXmo+gKySiUfnWEShK+EHbK+VwuAKcLkm0ciWgsJOELYae0uVoATuRePhZReVoaeb/+Svm5c5e9J+yXPGkrhJ3SFGigHE7kXJzw8zdu5OwTT2IsLQWdjqAXXsD7zjtsFKVoSHKGL4SdUlDQ5mk5mXeyell5aiqpzzyLU/v2hH37Da79+nL+3/8m/7ffbBipaCiS8IWwU7feeiuhrqGczLmQ8DPnzcNYVkar99/HpVcvgj/6CH3Xrpz73xeo+PtvG0YrGoIkfCHs1NNPP80tfW8htTCVovIiDHl55C5bjudtt+EY3AoAjZMTLV6bjaGwkIz33rNxxKK+ScIXwo618WoDQHJeMvm/bcBYVobX+Iu7TNZ36ID3xInkLFtO2enTtghTNBBJ+ELYqdjYWF559BVAvVMn75e16IKD0Xftetm6vlOnomi1ZM6d29BhigYkCV8IOzVlyhTuv+1+tIqWk5lHKdqxE7fYWJQrDHSrCwzAa8IEclespDw93QbRioYgCV8IOzVlyhQemPIAIe4hFO7di7G4GJc+vWtd3+fee6CigpwffmjAKEVDkoQvhJ3KzMwkMzOTtl5t0e87BoqCa69eta7vGB6O68CB5CxegrG8vAEjFQ1FEr4Qdmr8+PGMHz+e9t7tCTiRja5dW7ReXlfdxvvuiVSkp5O/YUMDRSkakiR8IexcB+8OhKUZKWvb6prrug0ahENQEDnLljVAZKKhScIXws61r/THpwDSg92uua6i1eI5ZgyFf2yRi7d2SBK+EHbO94zaa+axAINZ63uOGweVleT9vKo+wxI2IAlfCDtXmnQEgF3u5vWL79SmNfru3cj96SeMRmN9hiYamCR8Iexc6bGjFPq4sL/0hNkJ3GvcOEqPHqXk0KF6jk40JEn4Qti5slOnqAwOJLc0l/Qi89rlPUaOBJ2OvFWr6zk60ZDMTfgjgMPAMWDmVdb7B2AEel5nXEIIKylLPoW+tdqnzuG/D5u1jdbLC7cBA8j75ReMlZX1GZ5oQOYkfC0wBxgJdAImmn5eyh14DPjLatEJIa6La2Ullbm5+HVQ+8858vcRs7f1GDWSinPnKE5IqK/wRAMzJ+H3Rj2zPwGUAYuAsVdY7/8BbwElVotOCGGxKVOmcP/w4QC4t+lAS9eWHMk2P+G7DR2K4uRE3pq19RWiaGDmDHHYCjhTYz4F6HPJOj2AEGA18MxVyppmmkhJSSE+Pt78SGsoKCiweFt7IPWX+ptT//DwcPTnzwOQkJ6On+LHrpRddfrdeXbqSMXKlST17wca21/yk31fcF3bW2NMWw3wHjDFjHXnmSaCg4ONsbGxFn1gfHw8lm5rD6T+Un9z6p+ZmUnhtj8p0mq54fbbSUzM5aM9H9Gjfw88HD3M+qy8khLOPv4EvVxcce176Xlew5N9f30HO3MO2WdRz96rBJuWVXEHugDxQDLQF1iJXLgVwqbGjx/PxsWLcQgMQNHp6OLbBYDErESzy3AbPBjFxYW8NWvqK0zRgMxJ+DuA9kBrwBG4CzWhV8kF/IBw0/QnMAbYadVIhRB18tRTT9G9ZUt0QS0A6OSr3mtxMOug2WVonJ1xHzKE/PXrpQdNO2BOwq8AHgbWAYnAEuAg8CpqYhdCNEKjR4/Go7wcXVAQAF56L4LdgjmQeaBO5XiMGokhJ4fCP/+sjzBFAzK3DX+NaarppVrWbb4NbEI0IkmJiRjPncNj+M3Vyzr7da5zwncdOBCNuzt5q9fgNnCgtcMUDcj2l92FEPXimWnToKICB1OTDkBn386cLThLdkm22eVoHB1xv/FG8jdsoLKsrD5CFQ1EEr4QdsrH9ISsrkVQ9bIufuqF20NZdesjx2PUSCrz8yn84w/rBSganCR8IeyUt0HtDlnX4sIZfkefjigodW/W6dsXrZcXeavlbp2mTBK+EHYqVFGbXxyCLpzhuzm60dqzNfsy9tWpLEWnw334cPLj4qgsLrZqnKLhSMIXwk71dC5E0RgvG8c2OiCahIwEKo116xTNY9QojEVFFPz+uzXDFA1IEr4QdqoyuAx9z3yUS7pEiA6IJr8snxM5J+pUnkvPGLT+ftKs04RJwhfCTnn5lJHjc/ny6IBoAHan765TeYpWi8eIkRT8/juG6+zTRdiGJHwh7JS/UxmZpbrLloe4h+Cr9yUhve7dHnuMGomxrIyCDRusEaJoYJLwhbBHlZX4O5WTfoWErygK0QHRdT7DB3COikLXsqV0mdxEScIXwh4VZuCoMdJlwMgrvh0dEM3ZgrNmD3lYRVEU3EeOoGDLFgw5OdaIVDQgSfhC2KPcFAC63VB7wgfYk76nzkV7jBoFFRXk/fqr5fEJm5CEL4Q9ylMTfvLfFVd8O9I3EmcHZ3al7apz0fpOnXAMCyN/rTTrNDWS8IWwR6Yz/EdeeOuKb+s0OnoE9OCvc3UfglpRFDxuGUXhn39RkZl5XWGKhiUJXwh7lJuCQavn+VeunPAB+rboy4ncE6QVptW5eI+RI6Gykrx1664nStHAJOELYY9yU9B6h9J/wIBaV+nTQh2ycPv57XUu3ql9e5zat5eHsJoYSfhC2KPcFP42urF169ZaV4nwicDLyYs/z1k2sInH6NEU795N2alTlkYpGpgkfCHsUc4p/th/ilmzZtW6ikbR0DuoN3+e+xOj0Vjnj/AcOwY0GnJXrLieSEUDkoQvhL0pzoGiLFKKna65ap8WfUgvSic5L7nOH6MLDMS1f39yfvoJY2XdOmITtiEJXwh7k612inbWjITfr0U/ALam1t70czWe48ZRkXqOou07LNpeNCxJ+ELYmzok/BCPEMI8wticstmij3K/cRgaNzdyly+3aHvRsCThC2Fvsk8CkGpGwgcYHDyY7ee3U1ReVOeP0uj1eIwaRd769RgKCuu8vWhYkvCFsDfZx8G9JaWV5v17Dw4eTHllOdvObbPo4zxvG4exuJh8uSe/0ZOEL4S9yT4BPm3MXj06MBp3nTu/n7FsJCvnqCgcw8PJWbbMou1Fw5GEL4S9yToGPq3NXl2n0TGg1QA2pWyq87CHoHa14DVhPMW7dlFy5EidtxcNRxK+EPakIAOKsiCgU502GxwymKySLA5mHrToYz1vvx3F0ZGcRYst2l40DAdbByCEsKJ0U8IO6Mjrr79u9mYDWw3EQXHg19O/0tW/a50/1sHbG/cRw8ldsYKAp55E4+pa5zJE/ZMzfCHsSXqi+jOgE/3796d///5mbebp5Enfln1Zn7zeoqduAbzvmkhlYSG5q1ZbtL2of5LwhbAn6YfA2QfcAti6detV+9K51IjwEZwtOMv+zP0WfbRzdBROERH8vWiRxQcNUb8k4QthT9IOQWBnUBRmzZp11b50LjUkdAg6jY51yZbdXqkoCt533UlpYiIle/daVIaoX5LwhbAXlQbISIKAjgDMnTuXuXPnmr25h6MHA1oOYF3yOovu1gHwGD0GjZsb2d98Y9H2on6Zm/BHAIeBY8DMK7z/JHAI2AdsAMKsEp0QwnyZR6GsAFqq49VGREQQERFRpyKGtx5OWlGaRWPdAmjdXPG68w7yfllHWcpZi8oQ9cechK8F5gAjgU7ARNPPmvYAPYFuwI/Af6wYoxDCHGdN49O2igHg559/5ueff65TEUNDhuLi4MKKY5Z3eexz772g0ZD9zdcWlyHqhzkJvzfqmf0JoAxYBIy9ZJ04oKojjj+BYGsFKIQw09ld4OgOvu0BePfdd3n33XfrVISLzoURrUfwS/IvFvWtA6ALCsLzllHk/LgUQ26uRWWI+mHOffitgDM15lOAPldZ/wGgtuHsp5kmUlJSiI+PNyfGyxQUFFi8rT2Q+kv9r1T/mKR4Klxas3fTJgBycnIA6vy7CisJo7iimA/WfUA/t34WxejQtSu+K1ay6403KRox3KIyrkT2fUG9f8Z44PMa8/cCH9ey7j2oZ/jX7KYvJibGaKm4uDiLt7UHUn+p/2VKC4zGV3yMxl9frl40ePBg4+DBg+tcfmVlpXH08tHGe9fcez1hGk/9zwPGwwNuMBqKi6+rnJpk38cZgZ2WJnNzmnTOAiE15oNNyy51I/C/wBig1NKAhBAWOP0nVFZAeO2DlptLURRua3cbe9L3cCLnhMXl+M2YjiEzk78XLbrumIR1mJPwdwDtgdaAI3AXsPKSdaKBuajJPt2aAQohzHDyd9DoINSyJphLjW03FkeNIwuTFlpchkuvXrj07UvW519QWVxslbjE9TEn4VcADwPrgERgCXAQeBU1wQO8DbgBPwAJXH5AEELUp5ObILgXOFqnDxsfvQ+3tLmFlcdXkltq+YVX/0ceVs/yv5ez/MbA3Pvw1wAdgLbAa6ZlL3Ehsd8IBAJRpmnMpQUIIepJUTac2wutB1m12EkdJ1FcUczSo0stLsMlJgbX/v3I+vxzKossu+tHWI88aStEU3d4LRgrIWKEVYuN8ImgT1AfFiYupLyy3OJy/B55BEN2Ntlfy335tiYJX4imLmkVeIZAiyirF31vp3tJK0pjzYk1FpfhEh2N+003kfnZ55SnyyU+W5KEL0RTVpoPxzZA5K2gKBe9Vde+dK5kUPAgIn0imbdvHhWVFRaXE/D0UxjLy8n48MPrikdcH0n4QjRlB38CQyl0HnfZW5b0pXMpRVGY0X0Gp/NPs/Zkbc9TXptjWBg+kyaRu3QZJUlJ1xWTsJwkfCGast3fgF8EhFz+8LslfelcydCQoUR4RzB339zrOsv3e2gGWg8Pzs+ejbHSst44xfWRhC9EU3X+AKRshx73XdacA5b1pXMliqLwUNRDnMo7xbKjyywuR+vpScAzT1O8cxc5Sy2/80dYThK+EE3VH++BoxtE3X3Ft3/88Ud+/PFHq3zU0JChxATGMCdhDvll+RaX4/mPf+DSsyfpb79DRWamVWIT5pOEL0RTlHEEDiyDXlPBxeeKq/j5+eHn52eVj1MUhWd6PcPfJX/z2f7PrqucoFdfwVhcTFodBlkX1iEJX4imxmiEX2aCkzv0e7jW1ebPn8/8+fOt9rGdfTszuu1ovjv0HafyTllcjlObNvjOmE7emrXkrbH8dk9Rd5LwhWhiAtI3w/ENMOR/wc2/1vWsnfABHu/xOHoHPS9vfdniYRAB/KZPx7l7d869/ArlqalWjFBcjTn94TcuO76g77bXYI8LoICC6afGdOFKUX8qmguvL3ufq7+vcQCN1jQ5gKK9fFn18prvmX4qV1mm1ZkmJ9A6ml47Xv7a4QrLTK+Vygr1LO8KF+qEncs+QYcjn0CrnmpzTgPzd/HnmZ7P8NLWl/jxyI/cEXGHReUoDg60fPs/nBx3G6nPzSR0/lcoWq2VoxWXanoJ3yuUv72jaBEUpD5ObjQCRvWnsfLCa4xXeN94jfdN21ca1KmiFIwGtdvZykrTz4oay0zrVS+vsU6lQV2vHgwG2KRc+UCh04ODEzjoL0w6/dXnHZxA52zGNs7qejpnOdjYQn4afDceo6KBCV+B1jb/vuPajWP1ydW8t+s9bmh1Ay3dWlpUjmNoKIEvvsi5558n4+OPCXjsMStHKi7V9BJ++5s4fFZHi9hYW0dybUbjhcRfdSAwVIChzDSVX+F1aS3LTa8rSjl57AitQ1td/n5Fqbp9eQlUmKaizIvnK0rU9cqLAaOFFVNA5wKOLqYDgKvptYvaW6POpcb7NZZVzVe/dr3wU+esvnZ0t1kia9Qyj8L3d0H+efZ3fZEeXqE2C0VRFF7u9zITfp7AM5ueYf6I+eg0OovK8hw3luLdu8j65FP0kR3xGH6zlaMVNcl/Vn1SFFPycsCMQcDMdqointbXe8AzGk0HkOILB4CK0trnK0rUZWWF6s/yItPrGj/LiyEv1bSsCMoL1Z917XjLQa/ebujkph4AnNzUC5SmZW3Tc8C49ZJ1TOs5XrwuOpem/W2k0gA7voANr6rfxO5ZSt5J248vFOwezL/7/5tnfn+Gj/d8zBMxT1hUjqIoBL74IqVHjpL6/PM4hoejj+hg5WhFFUn4zZWiqNcJHBzr/7MM5TUOAjUPEFdYVloAZfmmnwUXfhakQ9kJKC2gRXEOpJg55IKiufwgUDVfc5mT+4WDy2Xv11iuaaB25twUOLQC/poLOaegzRAY8xF4hcDJxjGm64jwEfx17i++PPAl3fy7MSx0mEXlaBwdafXhhySPH8+Z6dMJ/34huhYtrBytAEn4oiFodaD1BL2nVYr7Iz6e2EGD1ANB9UHh0oPEJfOl+RcvK8w0zZuWmfstROdyyYHC4yoHEvfLv6XoXEzXekxNfYYyKMpS48lLhfRDat/2Gab+ZkL6wPDXIfKWRvlN5blez3E4+zDPb36e+SPm08m3k0Xl6AIDCPlsHqfuuZfTUx8k7LtvcfD2tnK0QhK+aJo0GtB7qJM1VJSakn++6SCRf/GB46Ll+RcfSPJSahxc8tXmL0u5t4SgLurTsx1Ggn/jbt7QO+j5cOiH3L36bh7Z8AgLbllAkGuQZWVFRhL83zmcmfogZ6bPIPTzz9B6WGn/CkASvhAqByd1crXCk6mG8ksOGgVQmqe+Li+qcTuv6VZdF19w9VcnZ6/r//wG5ufsx8fDPmby2slMXT+VL4d/SYBLgEVlufbuTav3/4+Uxx7n9JT7CfnicznTtyJJ+EJYm1YHzt7qZEPW6kfHHB28O/DJjZ8w/dfp1Unfz9myg6f70KGEfPwRKY8+xun77iPk88/RBQZaOeLmSZ60FcJOWbMvHXNEBUTx3xv/y/nC89y39j5O5522uCy3wYMJmfsp5WdTSZ5wB8UHDlox0uZLEr4Qdqo+ula4lpjAGD67+TMKygq4Z8097M3Ya3FZrn37Evb9QnDQcuqee6TfHSuQhC+EnbJFwgfo7t+db0d9i5ujG/f/cj+LkxZjNFr2kJ8+IoLWP/yAvmNHzj75FO7fLaCyqMjKETcfkvCFsFPx8fHEx9vmnv0wjzAWjFpAnxZ9mP3XbJ7b9By5pbkWleXg60vYN1/j++CDOG/ZwsnxEyjea/k3h+ZMEr4Qol54672ZM2wOj/V4jPWn1jNuxTh+O/WbRWUpOh0BTz1JzmOPUllYSPJdEzn38ssY8vKsHLV9k4QvhJ165513eOedd2wag0bRMLXrVBbeshA/Zz+eiH+Chzc8zImcExaVVxYZSZvVq/G5715ylvzA8REjyf7mGyrLyqwcuX2ShC+EnVq1ahWrVq2ydRgAdPLtxMJbFvJEzBPsTNvJbStv4+WtL5NaUPe+8LVurgQ+/zzhPyzBqX170l5/g+MjRvD3kiVUllzHQ2/NgCR8IUSD0Gl0/E+X/2HN7WuYGDmRFcdXMGrZKJ7d9CyHsg7VuTznzp0Jnf8VoV9+gYOvH+df+jfHhgwl48MPKU9Pr4caNH2S8IUQDcpH78PM3jNZe/ta7ul4D5tSNnHnqju5c9WdLExcSE5JjtllKYqCa//+hC9ZTOjXX+McHU3mJ59yLHYIpx+cRu7Pq6gsLq7H2jQt8qStEMImglyDeLrX00zvPp2Vx1ey4tgK3tj+Bm/vfJtegb2IDYklNiTWrAFWFEXBtU9vXPv0puzUKXKWLSf355WkPvMMirMzrv364TYkFrdBg9EFWtbtgz2QhC+EsCl3R3cmdZzEpI6TOJx9mNUnVxN/Jp43tr/BG9vfINwjnJjAGGICYyirKMNoNKJcpedQx7AwAp54HP/HHqVox07y1/1Cfnw8BRs3qu+3a4tLjxhcYnrgHBODrlWrq5ZnTyThCyEajQifCCJ8Ingy5kmSc5P5PeV3tp/fzvrk9Sw9uhSADxZ/QAefDkR4q+u28WxDiHsInk4Xd7+taDTVZ/2BL75I6dGjFPz+O0U7d5K3di05S5YAoPH0RN+hA06RkegjOuDYti2OoaFofXzs7kBgbsIfAXwAaIHPgTcved8J+AaIAbKAO4FkK8UohGiGwj3DCfcMZ3LnyRgqDRzLOcbiLYsx+Bo4nH2YRUmLKKu8cDumh6MHIe4hhLiHEOgSiL+LP37Ofvg7++Pn4od/eAt820/F78EHMVZWUnr0KMV79lCSmERpUhI5S5dirPEUr8bFBV1ICI6hITi0aIGDnz8O/v44+PnhEKC+1np6NqnB181J+FpgDnATkALsAFYCNS+rPwD8DbQD7gLeQk36Qghx3bQaLRE+EQxyH0Rsf3V4z4rKCk7lnSI5N5kz+WeqpwOZB9hYtPGig0EVjaLB3dEdd507Hk4euPu44zHEA/fhEThruuOTVYZneiEeGcW4pufjnJaLY9J+HLb8gaaolls+XZxR3N3QuLuj8XBH6+GhTq5uaJ1d0Li4oHV2RtHr0eid0bg4o+/SBceQkPr8lV2ROQm/N3AMqHpSYhEwlosT/ljgZdPrH4GPAQXLR8kWQoirctA40NarLW292l72ntFoJK8sj8ziTDKKM8gsziSrOIvc0lzyy/LJL88nrzSP/LJ8ThSdIL8sn2JDMSUVJZRryiEQdep6oUynMi1eheBVAF6FRrwLwK0YXEtLcCkpwbU0E5dMcD1rxLUE9GWgLwfHistjT/3nGIY9+la9/W5qY04D1XjUJp2ppvl7gT7AwzXWOWBaJ8U0f9y0TuYlZU0zTQQGBsYsWrTIoqALCgpwc3OzaFt7IPWX+jfX+jdE3SuNlZQbyykzlqlTZVn1vMFooJJKDEYDBgzqz5qvMVBprLzodWWlAW1FBdrSCjTl5TiUVdA6oAchPnUfDrKgoIDRo0fvAnpaUreGvmg7zzQRHBxsjI2NtaiQ+Ph4LN3WHkj9pf7Ntf7Nue7AdXeGZ86DV2eBmo1NwaZlta3jAHiiXrwVQgjRSJiT8HcA7YHWgCPqRdmVl6yzEphsej0e2Ii03wshRKNiTpNOBWp7/TrUO3a+BA4CrwI7UZP9F8C3qBd3s1EPCkIIIRoRc9vw15imml6q8boEmGCViIQQQtQL6TxNCCGaCUn4QgjRTEjCF0KIZkISvhBCNBO27AouAzhl4bZ+XP4Ub3Mi9Zf6N9f6N+e6g1p/V8Df1oE0pJ22DsDGpP7NW3Ouf3OuO1xn/aVJRwghmglJ+EII0Uw0nZ77L7fL1gHYmNS/eWvO9W/OdQepvxBCCCGEEEIIIYRo3EYAh1F75pxp41jqWwgQhzqc5EHgMdNyH+BX4Kjpp7dNoms4WmAPsMo03xr4C/VvYDFqt932ygt12NAkIBHoR/Pa/0+g/u0fAL4H9Nj3/v8SSEetb5Xa9rcCfIj6e9gH9Gi4MBuGFnX4xDaoO3kvUPdxwpqOFlzYie7AEdT6/ocLB7uZqIPG27MngYVcSPhLuNAF96fAQ7YIqoF8zYXhRR1RDwDNZf+3Ak4Czqb5JcAU7Hv/D0L9n6+Z8Gvb36OAtaiJvy/qQdCu9EPtl7/K86apuVgB3IT6DaeFaVkL07y9CgY2AENRE76C+qRlVdfel/5N2BNP1IR36RPxzWX/twLOoJ7hOqDu/+HY//4P5+KEX9v+ngtMrGW9K2pq9+FX/QFUSTEtaw7CgWjUo3ggcM60/Lxp3l69DzwLVJrmfYEc1IF5wL7/BlqjdkHyFWqT1ueoj9U3l/1/FngHOI1a31zUWxKby/6vUtv+rnM+bGoJv7lyA5YCjwN5l7xnxH6Hk7wVtT2zud537ID69f4T1IN9IZdft7Ln/e8NjEU98LVEPdiNsGlEkVI78gAAAT9JREFUtndd+7upJXxzBlS3NzrUZL8AWGZalsbFX/HSbRBXQxgAjAGSgUWozTofoLZjV32lt+e/gRTTVNU2+yPqAaC57P8bUZu0MoBy1L//ATSf/V+ltv1d53zY1BK+OQOq2xMFdbzgROC9GstrDho/GbVt3x49j/pHHI66rzcCk1DvXBpvWsee638e9St7hGl+GOodW81l/59GvRjpgvq/UFX/5rL/q9S2v1cC93Hhom0uF5p+7MYo1LtVjgP/a+NY6tsNqF/f9gEJpmkUajv2BtTbtH5Dvahl72K5cJdOG2A76u1oPwBOtgqqAUSh9pC4D/gJtZmjOe3/V1BvST0AfIu6r+15/3+PmrTLUb/dPUDt+1sB5qDmwv1Az4YOVgghhBBCCCGEEEIIIYQQQgghhBBCCCGEEEIIIYSwZ/8fO0GxGwsB8wwAAAAASUVORK5CYII=)"
      ]
    }
  ],
  "metadata": {
    "colab": {
      "collapsed_sections": [],
      "name": "HOMEWORK3_MattiaGuarnieri.ipynb",
      "provenance": []
    },
    "kernelspec": {
      "display_name": "Python 3",
      "name": "python3"
    },
    "language_info": {
      "name": "python"
    }
  },
  "nbformat": 4,
  "nbformat_minor": 0
}
